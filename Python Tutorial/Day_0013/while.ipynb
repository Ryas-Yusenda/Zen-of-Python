{
 "cells": [
  {
   "cell_type": "code",
   "execution_count": 5,
   "source": [
    "i = 1\r\n",
    "\r\n",
    "while i <= 5:\r\n",
    "   print(i)\r\n",
    "   i += 1"
   ],
   "outputs": [
    {
     "output_type": "stream",
     "name": "stdout",
     "text": [
      "1\n",
      "2\n",
      "3\n",
      "4\n",
      "5\n"
     ]
    }
   ],
   "metadata": {}
  },
  {
   "cell_type": "code",
   "execution_count": 6,
   "source": [
    "# while untuk list\r\n",
    "\r\n",
    "listKota = [\r\n",
    "    'Jakarta', 'Surabaya', 'Depok', 'Bekasi', 'Solo',\r\n",
    "    'Jogjakarta', 'Semarang', 'Makassar'\r\n",
    "]\r\n",
    "\r\n",
    "i = 0\r\n",
    "\r\n",
    "while i < len(listKota):\r\n",
    "   print(listKota[i])\r\n",
    "   i += 1\r\n",
    "\r\n",
    "# Atau bisa dengan\r\n",
    "print(\"--------\")\r\n",
    "while listKota:\r\n",
    "  print(listKota.pop(0))\r\n"
   ],
   "outputs": [
    {
     "output_type": "stream",
     "name": "stdout",
     "text": [
      "Jakarta\n",
      "Surabaya\n",
      "Depok\n",
      "Bekasi\n",
      "Solo\n",
      "Jogjakarta\n",
      "Semarang\n",
      "Makassar\n",
      "--------\n",
      "Jakarta\n",
      "Surabaya\n",
      "Depok\n",
      "Bekasi\n",
      "Solo\n",
      "Jogjakarta\n",
      "Semarang\n",
      "Makassar\n"
     ]
    }
   ],
   "metadata": {}
  },
  {
   "cell_type": "code",
   "execution_count": 7,
   "source": [
    "listAngka = [3,4,5]\r\n",
    "\r\n",
    "i = 0\r\n",
    "\r\n",
    "# Masukan 3 Angka\r\n",
    "while i < 3:\r\n",
    "   a = int(input(\"Masukan angka \"))\r\n",
    "   listAngka.append(a)\r\n",
    "   i += 1\r\n",
    "\r\n",
    "print(listAngka)\r\n"
   ],
   "outputs": [
    {
     "output_type": "stream",
     "name": "stdout",
     "text": [
      "[3, 4, 5, 1, 2, 3]\n"
     ]
    }
   ],
   "metadata": {}
  },
  {
   "cell_type": "code",
   "execution_count": 11,
   "source": [
    "# While continue\r\n",
    "listKota = [\r\n",
    "    'Jakarta', 'Surabaya', 'Depok', 'Bekasi', 'Solo',\r\n",
    "    'Jogjakarta', 'Semarang', 'Makassar'\r\n",
    "]\r\n",
    "\r\n",
    "i = -1\r\n",
    "\r\n",
    "while i < len(listKota):\r\n",
    "   i += 1\r\n",
    "   if i % 2 == 0:\r\n",
    "      print(\"SKIP\")\r\n",
    "      continue\r\n",
    "   print(listKota[i])\r\n"
   ],
   "outputs": [
    {
     "output_type": "stream",
     "name": "stdout",
     "text": [
      "SKIP\n",
      "Surabaya\n",
      "SKIP\n",
      "Bekasi\n",
      "SKIP\n",
      "Jogjakarta\n",
      "SKIP\n",
      "Makassar\n",
      "SKIP\n"
     ]
    }
   ],
   "metadata": {}
  },
  {
   "cell_type": "code",
   "execution_count": 12,
   "source": [
    "# while dengan break dan dengan else\r\n",
    "\r\n",
    "Kota_dicari = input('Masukan Nama kota yang dicari')\r\n",
    "i = 0\r\n",
    "\r\n",
    "while i < len(listKota):\r\n",
    "   if listKota[i].lower() == Kota_dicari.lower():\r\n",
    "      print('Ketemu di index ke-', i)\r\n",
    "      break\r\n",
    "   i += 1\r\n",
    "else:\r\n",
    "   print(\"Kota yang dicari tidak ditemukan\")\r\n"
   ],
   "outputs": [
    {
     "output_type": "stream",
     "name": "stdout",
     "text": [
      "Ketemu di index ke- 4\n"
     ]
    }
   ],
   "metadata": {}
  }
 ],
 "metadata": {
  "orig_nbformat": 4,
  "language_info": {
   "name": "python",
   "version": "3.8.8",
   "mimetype": "text/x-python",
   "codemirror_mode": {
    "name": "ipython",
    "version": 3
   },
   "pygments_lexer": "ipython3",
   "nbconvert_exporter": "python",
   "file_extension": ".py"
  },
  "kernelspec": {
   "name": "python3",
   "display_name": "Python 3.8.8 64-bit ('base': conda)"
  },
  "interpreter": {
   "hash": "b861759b14f6a8974d4715198817fc8cd0f39ecb7cbe98cc5748fea36c27e197"
  }
 },
 "nbformat": 4,
 "nbformat_minor": 2
}