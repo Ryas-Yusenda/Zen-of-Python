{
 "cells": [
  {
   "cell_type": "code",
   "execution_count": 2,
   "source": [
    "# Fitur .clear()\r\n",
    "print(\"\\n>>> Fitur .clear()\")\r\n",
    "info_karyawan = {'nama': 'Aksara',\r\n",
    "                 'nik': '1211011',\r\n",
    "                 'pekerjaan': 'Data Analyst'}\r\n",
    "info_karyawan.clear()\r\n",
    "print(info_karyawan)\r\n",
    "# Fitur .copy()\r\n",
    "print(\"\\n>>> Fitur .copy()\")\r\n",
    "info_karyawan1 = {'nama': 'Aksara',\r\n",
    "                  'nik': '1211011',\r\n",
    "                  'pekerjaan': 'Data Analyst'}\r\n",
    "info_karyawan2 = info_karyawan1.copy()\r\n",
    "info_karyawan2['nama'] = 'Senja'\r\n",
    "info_karyawan2['nik'] = '1211056'\r\n",
    "print(info_karyawan1)\r\n",
    "print(info_karyawan2)\r\n",
    "# Fitur .keys()\r\n",
    "print(\"\\n>>> Fitur .keys()\")\r\n",
    "info_karyawan = {'nama': 'Aksara',\r\n",
    "                 'nik': '1211011',\r\n",
    "                 'pekerjaan': 'Data Analyst'}\r\n",
    "kunci_akses = list(info_karyawan.keys())\r\n",
    "print(kunci_akses)\r\n",
    "# Fitur .values()\r\n",
    "print(\"\\n>>> Fitur .values()\")\r\n",
    "value_dict = list(info_karyawan.values())\r\n",
    "print(value_dict)\r\n",
    "# Fitur .update()\r\n",
    "print(\"\\n>>> Fitur .update()\")\r\n",
    "info_karyawan.update({'skillset': ['Python', 'R']})\r\n",
    "print(info_karyawan)\r\n"
   ],
   "outputs": [
    {
     "output_type": "stream",
     "name": "stdout",
     "text": [
      "\n",
      ">>> Fitur .clear()\n",
      "{}\n",
      "\n",
      ">>> Fitur .copy()\n",
      "{'nama': 'Aksara', 'nik': '1211011', 'pekerjaan': 'Data Analyst'}\n",
      "{'nama': 'Senja', 'nik': '1211056', 'pekerjaan': 'Data Analyst'}\n",
      "\n",
      ">>> Fitur .keys()\n",
      "['nama', 'nik', 'pekerjaan']\n",
      "\n",
      ">>> Fitur .values()\n",
      "['Aksara', '1211011', 'Data Analyst']\n",
      "\n",
      ">>> Fitur .update()\n",
      "{'nama': 'Aksara', 'nik': '1211011', 'pekerjaan': 'Data Analyst', 'skillset': ['Python', 'R']}\n"
     ]
    }
   ],
   "metadata": {}
  }
 ],
 "metadata": {
  "orig_nbformat": 4,
  "language_info": {
   "name": "python",
   "version": "3.9.6",
   "mimetype": "text/x-python",
   "codemirror_mode": {
    "name": "ipython",
    "version": 3
   },
   "pygments_lexer": "ipython3",
   "nbconvert_exporter": "python",
   "file_extension": ".py"
  },
  "kernelspec": {
   "name": "python3",
   "display_name": "Python 3.9.6 64-bit"
  },
  "interpreter": {
   "hash": "5121316aa55911985303a16a88ac487e512ccbe2d31a4e87d160596124dfc221"
  }
 },
 "nbformat": 4,
 "nbformat_minor": 2
}