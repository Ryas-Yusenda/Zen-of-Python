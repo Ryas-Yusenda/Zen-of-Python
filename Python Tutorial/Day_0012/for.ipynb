{
 "cells": [
  {
   "cell_type": "code",
   "execution_count": 9,
   "source": [
    "# For dengan fungsi range()\r\n",
    "\r\n",
    "for i in range(5):\r\n",
    "   print(\"Nilai ke-\" , i)\r\n",
    "\r\n",
    "print(\"---\")\r\n",
    "\r\n",
    "for i in range(12, 15):\r\n",
    "   print(\"Nilai ke-\", i)\r\n",
    "\r\n",
    "print(\"---\")\r\n",
    "\r\n",
    "for i in range(2, 20, 3): #angka 2-20 dengan kelipatan 3\r\n",
    "   print(\"Nilai ke-\", i)\r\n"
   ],
   "outputs": [
    {
     "output_type": "stream",
     "name": "stdout",
     "text": [
      "Nilai ke- 0\n",
      "Nilai ke- 1\n",
      "Nilai ke- 2\n",
      "Nilai ke- 3\n",
      "Nilai ke- 4\n",
      "---\n",
      "Nilai ke- 12\n",
      "Nilai ke- 13\n",
      "Nilai ke- 14\n",
      "---\n",
      "Nilai ke- 2\n",
      "Nilai ke- 5\n",
      "Nilai ke- 8\n",
      "Nilai ke- 11\n",
      "Nilai ke- 14\n",
      "Nilai ke- 17\n"
     ]
    }
   ],
   "metadata": {}
  },
  {
   "cell_type": "code",
   "execution_count": 4,
   "source": [
    "# For dengan list\r\n",
    "\r\n",
    "listKota = [\r\n",
    "    'Jakarta', 'Surabaya', 'Depok', 'Bekasi', 'Solo',\r\n",
    "    'Jogjakarta', 'Semarang', 'Makassar'\r\n",
    "]\r\n",
    "\r\n",
    "for kota in listKota:\r\n",
    "   print(kota);\r\n"
   ],
   "outputs": [
    {
     "output_type": "stream",
     "name": "stdout",
     "text": [
      "Jakarta\n",
      "Surabaya\n",
      "Depok\n",
      "Bekasi\n",
      "Solo\n",
      "Jogjakarta\n",
      "Semarang\n",
      "Makassar\n"
     ]
    }
   ],
   "metadata": {}
  },
  {
   "cell_type": "code",
   "execution_count": 10,
   "source": [
    "# For dengan tuple\r\n",
    "\r\n",
    "tupleBuah = ('Mangga', 'Jeruk', 'Apel', 'Pepaya')\r\n",
    "\r\n",
    "for buah in tupleBuah:\r\n",
    "   print(buah)"
   ],
   "outputs": [
    {
     "output_type": "stream",
     "name": "stdout",
     "text": [
      "Mangga\n",
      "Jeruk\n",
      "Apel\n",
      "Pepaya\n"
     ]
    }
   ],
   "metadata": {}
  },
  {
   "cell_type": "code",
   "execution_count": 12,
   "source": [
    "# For dengan string\r\n",
    "\r\n",
    "for huruf in \"Indonesia\":\r\n",
    "   print(huruf)\r\n"
   ],
   "outputs": [
    {
     "output_type": "stream",
     "name": "stdout",
     "text": [
      "I\n",
      "n\n",
      "d\n",
      "o\n",
      "n\n",
      "e\n",
      "s\n",
      "i\n",
      "a\n"
     ]
    }
   ],
   "metadata": {}
  },
  {
   "cell_type": "code",
   "execution_count": 16,
   "source": [
    "# Continue\r\n",
    "\r\n",
    "for i in range(1, 10):\r\n",
    "   if (i == 5):  # skip jika i == 5\r\n",
    "      continue\r\n",
    "\r\n",
    "   print (i)"
   ],
   "outputs": [
    {
     "output_type": "stream",
     "name": "stdout",
     "text": [
      "1\n",
      "2\n",
      "3\n",
      "4\n",
      "6\n",
      "7\n",
      "8\n",
      "9\n"
     ]
    }
   ],
   "metadata": {}
  },
  {
   "cell_type": "code",
   "execution_count": 17,
   "source": [
    "# Break\r\n",
    "\r\n",
    "for i in range(1, 10):\r\n",
    "   if (i == 5):  # berhenti jika i == 5\r\n",
    "      break\r\n",
    "\r\n",
    "   print(i)\r\n"
   ],
   "outputs": [
    {
     "output_type": "stream",
     "name": "stdout",
     "text": [
      "1\n",
      "2\n",
      "3\n",
      "4\n"
     ]
    }
   ],
   "metadata": {}
  },
  {
   "cell_type": "code",
   "execution_count": 19,
   "source": [
    "# For … Else + Break\r\n",
    "\r\n",
    "\r\n",
    "listKota = [\r\n",
    "    'Jakarta', 'Surabaya', 'Depok', 'Bekasi', 'Solo',\r\n",
    "    'Jogjakarta', 'Semarang', 'Makassar'\r\n",
    "]\r\n",
    "\r\n",
    "kotaYangDicari = input('Ketik nama kota yang kamu cari: ')\r\n",
    "\r\n",
    "for i, kota in enumerate(listKota):\r\n",
    "  # kita ubah katanya ke lowercase agar\r\n",
    "  # menjadi case insensitive\r\n",
    "  if kota.lower() == kotaYangDicari.lower():\r\n",
    "    print('Kota yang anda cari berada pada indeks', i)\r\n",
    "    break\r\n",
    "else:\r\n",
    "  print('Maaf, kota yang anda cari tidak ada')\r\n"
   ],
   "outputs": [
    {
     "output_type": "stream",
     "name": "stdout",
     "text": [
      "Kota yang anda cari berada pada indeks 4\n"
     ]
    }
   ],
   "metadata": {}
  }
 ],
 "metadata": {
  "orig_nbformat": 4,
  "language_info": {
   "name": "python",
   "version": "3.8.8",
   "mimetype": "text/x-python",
   "codemirror_mode": {
    "name": "ipython",
    "version": 3
   },
   "pygments_lexer": "ipython3",
   "nbconvert_exporter": "python",
   "file_extension": ".py"
  },
  "kernelspec": {
   "name": "python3",
   "display_name": "Python 3.8.8 64-bit ('base': conda)"
  },
  "interpreter": {
   "hash": "b861759b14f6a8974d4715198817fc8cd0f39ecb7cbe98cc5748fea36c27e197"
  }
 },
 "nbformat": 4,
 "nbformat_minor": 2
}