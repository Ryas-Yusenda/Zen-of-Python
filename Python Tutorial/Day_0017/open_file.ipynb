{
 "cells": [
  {
   "cell_type": "code",
   "execution_count": 4,
   "source": [
    "# Membaca file hello.txt dengan fungsi read()\r\n",
    "print(\"\\n>>> Membaca file hello.txt dengan fungsi read()\")\r\n",
    "file = open(\"hello.txt\", \"r\")\r\n",
    "content = file.read()\r\n",
    "file.close()\r\n",
    "print(content)\r\n",
    "# Membaca file hello.txt dengan fungsi readline()\r\n",
    "print(\"\\n>>> Membaca file hello.txt dengan fungsi readline()\")\r\n",
    "file = open(\"hello.txt\", \"r\")\r\n",
    "first_line = file.readline()\r\n",
    "second_line = file.readline()\r\n",
    "file.close()\r\n",
    "print(first_line)\r\n",
    "print(second_line)\r\n"
   ],
   "outputs": [
    {
     "output_type": "stream",
     "name": "stdout",
     "text": [
      "\n",
      ">>> Membaca file hello.txt dengan fungsi read()\n",
      "Kita sedang belajar Python\n",
      "Tepatnya belajar memanipulasi berkas teks\n",
      "Memanipulasi berkas dengan Python sangatlah mudah!\n",
      "\n",
      ">>> Membaca file hello.txt dengan fungsi readline()\n",
      "Kita sedang belajar Python\n",
      "\n",
      "Tepatnya belajar memanipulasi berkas teks\n",
      "\n"
     ]
    }
   ],
   "metadata": {}
  },
  {
   "cell_type": "code",
   "execution_count": 6,
   "source": [
    "# Membaca file hello.txt dengan fungsi readlines()\r\n",
    "print(\">>> Membaca file hello.txt dengan fungsi readlines()\")\r\n",
    "file = open(\"hello.txt\", \"r\")\r\n",
    "all_lines = file.readlines()\r\n",
    "file.close()\r\n",
    "print(all_lines)\r\n",
    "# Membaca file hello.txt dengan menerapkan looping\r\n",
    "print(\">>> Membaca file hello.txt dengan menerapkan looping\")\r\n",
    "file = open(\"hello.txt\", \"r\")\r\n",
    "for line in file:\r\n",
    "    print(line)\r\n",
    "file.close()\r\n"
   ],
   "outputs": [
    {
     "output_type": "stream",
     "name": "stdout",
     "text": [
      ">>> Membaca file hello.txt dengan fungsi readlines()\n",
      "['Kita sedang belajar Python\\n', 'Tepatnya belajar memanipulasi berkas teks\\n', 'Memanipulasi berkas dengan Python sangatlah mudah!']\n",
      ">>> Membaca file hello.txt dengan menerapkan looping\n",
      "Kita sedang belajar Python\n",
      "\n",
      "Tepatnya belajar memanipulasi berkas teks\n",
      "\n",
      "Memanipulasi berkas dengan Python sangatlah mudah!\n"
     ]
    }
   ],
   "metadata": {}
  },
  {
   "cell_type": "code",
   "execution_count": 8,
   "source": [
    "# Menulis ke file hello.txt\r\n",
    "file = open(\"hello1.txt\", \"w\")\r\n",
    "file.write(\"Sekarang kita belajar menulis dengan menggunakan Python\")\r\n",
    "file.write(\"Menulis konten file dengan mode w(write).\")\r\n",
    "file.close()"
   ],
   "outputs": [],
   "metadata": {}
  },
  {
   "cell_type": "code",
   "execution_count": 9,
   "source": [
    "# Menulis ke file dengan mode append\r\n",
    "file = open(\"hello2.txt\", \"a\")\r\n",
    "file.writelines([\r\n",
    "    \"Sekarang kita belajar menulis dengan menggunakan Python\",\r\n",
    "    \"Menulis konten file dengan mode a (append)\"\r\n",
    "])\r\n",
    "file.close()\r\n"
   ],
   "outputs": [],
   "metadata": {}
  }
 ],
 "metadata": {
  "orig_nbformat": 4,
  "language_info": {
   "name": "python",
   "version": "3.8.8",
   "mimetype": "text/x-python",
   "codemirror_mode": {
    "name": "ipython",
    "version": 3
   },
   "pygments_lexer": "ipython3",
   "nbconvert_exporter": "python",
   "file_extension": ".py"
  },
  "kernelspec": {
   "name": "python3",
   "display_name": "Python 3.8.8 64-bit ('base': conda)"
  },
  "interpreter": {
   "hash": "b861759b14f6a8974d4715198817fc8cd0f39ecb7cbe98cc5748fea36c27e197"
  }
 },
 "nbformat": 4,
 "nbformat_minor": 2
}