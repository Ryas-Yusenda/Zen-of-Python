{
 "cells": [
  {
   "cell_type": "code",
   "execution_count": 2,
   "source": [
    "nilai = int(input('Masukkan nilai: '))\r\n",
    "\r\n",
    "if nilai >= 90:\r\n",
    "  print('Predikat A')\r\n",
    "elif nilai >= 80:\r\n",
    "  print('Predikat B')\r\n",
    "elif nilai >= 60:\r\n",
    "  print('Predikat C')\r\n",
    "elif nilai >= 40:\r\n",
    "  print('Predikat D')\r\n",
    "else:\r\n",
    "  print('Predikat E')\r\n"
   ],
   "outputs": [
    {
     "output_type": "stream",
     "name": "stdout",
     "text": [
      "Predikat A\n"
     ]
    }
   ],
   "metadata": {}
  },
  {
   "cell_type": "code",
   "execution_count": 5,
   "source": [
    "listBuah = ['jeruk', 'mangga', 'melon']\r\n",
    "buah = input('Masukkan nama buah dalam huruf kecil: ')\r\n",
    "\r\n",
    "if (buah in listBuah):\r\n",
    "  print('Buah yang anda cari tersedia!')\r\n",
    "else:\r\n",
    "  print('Buah yang anda cari tidak tersedia!')\r\n"
   ],
   "outputs": [
    {
     "output_type": "stream",
     "name": "stdout",
     "text": [
      "Buah yang anda cari tersedia!\n"
     ]
    }
   ],
   "metadata": {}
  }
 ],
 "metadata": {
  "orig_nbformat": 4,
  "language_info": {
   "name": "python",
   "version": "3.8.8",
   "mimetype": "text/x-python",
   "codemirror_mode": {
    "name": "ipython",
    "version": 3
   },
   "pygments_lexer": "ipython3",
   "nbconvert_exporter": "python",
   "file_extension": ".py"
  },
  "kernelspec": {
   "name": "python3",
   "display_name": "Python 3.8.8 64-bit ('base': conda)"
  },
  "interpreter": {
   "hash": "b861759b14f6a8974d4715198817fc8cd0f39ecb7cbe98cc5748fea36c27e197"
  }
 },
 "nbformat": 4,
 "nbformat_minor": 2
}