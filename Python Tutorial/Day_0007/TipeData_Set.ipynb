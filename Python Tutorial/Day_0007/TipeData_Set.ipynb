{
 "cells": [
  {
   "cell_type": "code",
   "execution_count": 1,
   "source": [
    "\"\"\"\r\n",
    "Set dalam bahasa pemrograman python adalah tipe data kolektif \r\n",
    "yang digunakan untuk menyimpan banyak nilai dalam satu variabel dengan ketentuan:\r\n",
    "\r\n",
    "nilai anggota yang disimpan harus unik(tidak duplikat)\r\n",
    "nilai anggota yang sudah dimasukkan tidak bisa diubah lagi\r\n",
    "set bersifat unordered alias tidak berurut –yang artinya tidak bisa diakses dengan index.\r\n",
    "\"\"\""
   ],
   "outputs": [
    {
     "output_type": "execute_result",
     "data": {
      "text/plain": [
       "'\\nSet dalam bahasa pemrograman python adalah tipe data kolektif \\nyang digunakan untuk menyimpan banyak nilai dalam satu variabel dengan ketentuan:\\n\\nnilai anggota yang disimpan harus unik(tidak duplikat)\\nnilai anggota yang sudah dimasukkan tidak bisa diubah lagi\\nset bersifat unordered alias tidak berurut –yang artinya tidak bisa diakses dengan index.\\n'"
      ]
     },
     "metadata": {},
     "execution_count": 1
    }
   ],
   "metadata": {}
  },
  {
   "cell_type": "code",
   "execution_count": 2,
   "source": [
    "# menggunakan kurung kurawal\r\n",
    "himpunan_siswa = {'Huda', 'Lendis', 'Wahid', 'Basith'}\r\n",
    "print(himpunan_siswa)\r\n",
    "\r\n",
    "# mengkonversi list ke dalam set\r\n",
    "himpunan_buah = set(['mangga', 'apel'])\r\n",
    "print(himpunan_buah)\r\n",
    "\r\n",
    "# set dengan tipe data yang berbeda-beda\r\n",
    "set_campuran = {'manusia', 'hewan', 5, True, ('A', 'B')}\r\n",
    "print(set_campuran)"
   ],
   "outputs": [
    {
     "output_type": "stream",
     "name": "stdout",
     "text": [
      "{'Lendis', 'Huda', 'Wahid', 'Basith'}\n",
      "{'apel', 'mangga'}\n",
      "{True, 5, 'manusia', ('A', 'B'), 'hewan'}\n"
     ]
    }
   ],
   "metadata": {}
  },
  {
   "cell_type": "code",
   "execution_count": 3,
   "source": [
    "# Set bersifat unordered\r\n",
    "set_ku = {'a'}\r\n",
    "\r\n",
    "# Coba hapus komennya\r\n",
    "# print(set_ku[0]) "
   ],
   "outputs": [],
   "metadata": {}
  },
  {
   "cell_type": "code",
   "execution_count": 4,
   "source": [
    "# Set bersifat unchangable\r\n",
    "\r\n",
    "# anggota set harus dari tipe data yang immutable\r\n",
    "set_buah = {'mangga', 'lemon', 'alpukat', True, 1, 2, 3}\r\n",
    "\r\n",
    "# kita bisa menjadikan tuple sebagai anggota\r\n",
    "# karena ia bersifat immutable\r\n",
    "papan_ketik = {\r\n",
    "    (1, 2, 3),\r\n",
    "    (4, 5, 6),\r\n",
    "    (7, 8, 9),\r\n",
    "    (0)\r\n",
    "}\r\n",
    "\r\n",
    "# nilai yang sudah kita masukkan ke dalam set, tidak bisa kita ubah lagi.\r\n",
    "# Akan tetapi, kita tetap bisa menambah dan menghapus anggota pada set."
   ],
   "outputs": [],
   "metadata": {}
  },
  {
   "cell_type": "code",
   "execution_count": 5,
   "source": [
    "# Tidak bisa menerima nilai duplikat\r\n",
    "list_kata = [\r\n",
    "    'pagi', 'ini', 'adalah', 'pagi', 'yang',\r\n",
    "    'sangat', 'cerah'\r\n",
    "]\r\n",
    "\r\n",
    "print(list_kata)\r\n",
    "kata_unik = set(list_kata)\r\n",
    "\r\n",
    "print(kata_unik)"
   ],
   "outputs": [
    {
     "output_type": "stream",
     "name": "stdout",
     "text": [
      "['pagi', 'ini', 'adalah', 'pagi', 'yang', 'sangat', 'cerah']\n",
      "{'sangat', 'adalah', 'cerah', 'yang', 'ini', 'pagi'}\n"
     ]
    }
   ],
   "metadata": {}
  },
  {
   "cell_type": "code",
   "execution_count": 6,
   "source": [
    "# Menambah Anggota Baru\r\n",
    "\r\n",
    "abjad = {'a','b','c'}\r\n",
    "print(abjad)\r\n",
    "\r\n",
    "# menambah satu-satu\r\n",
    "abjad.add('d')\r\n",
    "abjad.add('e')\r\n",
    "print(abjad)\r\n",
    "\r\n",
    "# menambah lebih dari satu anggota sekaligus\r\n",
    "abjad.update({'f','g'})\r\n",
    "print(abjad)"
   ],
   "outputs": [
    {
     "output_type": "stream",
     "name": "stdout",
     "text": [
      "{'b', 'a', 'c'}\n",
      "{'b', 'c', 'd', 'a', 'e'}\n",
      "{'b', 'f', 'c', 'd', 'a', 'e', 'g'}\n"
     ]
    }
   ],
   "metadata": {}
  },
  {
   "cell_type": "code",
   "execution_count": 1,
   "source": [
    "# Fitur .add()\r\n",
    "print(\"\\n\\n>>> Fitur .add()\")\r\n",
    "set_buah = {'Jeruk', 'Apel', 'Anggur'}\r\n",
    "set_buah.add('Melon')\r\n",
    "print(set_buah)\r\n",
    "# Fitur .clear()\r\n",
    "print(\"\\n\\n>>> Fitur .clear()\")\r\n",
    "set_buah = {'Jeruk', 'Apel', 'Anggur'}\r\n",
    "set_buah.clear()\r\n",
    "print(set_buah)\r\n",
    "# Fitur .copy()\r\n",
    "print(\"\\n\\n>>> Fitur .copy()\")\r\n",
    "set_buah1 = {'Jeruk', 'Apel', 'Anggur'}\r\n",
    "set_buah2 = set_buah1\r\n",
    "set_buah3 = set_buah1.copy()\r\n",
    "set_buah2.add('Melon')\r\n",
    "set_buah3.add('Kiwi')\r\n",
    "print(set_buah1)\r\n",
    "print(set_buah2)\r\n",
    "# Fitur .update()\r\n",
    "print(\"\\n\\n>>> Fitur .update()\")\r\n",
    "parcel1 = {'Anggur', 'Apel', 'Jeruk'}\r\n",
    "parcel2 = {'Apel', 'Kiwi', 'Melon'}\r\n",
    "parcel1.update(parcel2)\r\n",
    "print(parcel1)\r\n",
    "# Fitur .pop()\r\n",
    "print(\"\\n\\n>>> Fitur .pop()\")\r\n",
    "parcel = {'Anggur', 'Apel', 'Jeruk'}\r\n",
    "buah = parcel.pop()\r\n",
    "print(buah)\r\n",
    "print(parcel)\r\n",
    "# Fitur .remove()\r\n",
    "print(\"\\n\\n>>> Fitur .remove()\")\r\n",
    "parcel = {'Anggur', 'Apel', 'Jeruk'}\r\n",
    "parcel.remove('Apel')\r\n",
    "print(parcel)\r\n"
   ],
   "outputs": [
    {
     "output_type": "stream",
     "name": "stdout",
     "text": [
      "\n",
      ">>> Fitur .add()\n",
      "{'Anggur', 'Apel', 'Melon', 'Jeruk'}\n",
      "\n",
      ">>> Fitur .clear()\n",
      "set()\n",
      "\n",
      ">>> Fitur .copy()\n",
      "{'Anggur', 'Apel', 'Melon', 'Jeruk'}\n",
      "{'Anggur', 'Apel', 'Melon', 'Jeruk'}\n",
      "\n",
      ">>> Fitur .update()\n",
      "{'Melon', 'Kiwi', 'Jeruk', 'Anggur', 'Apel'}\n",
      "\n",
      ">>> Fitur .pop()\n",
      "Anggur\n",
      "{'Jeruk', 'Apel'}\n",
      "\n",
      ">>> Fitur .remove()\n",
      "{'Anggur', 'Jeruk'}\n"
     ]
    }
   ],
   "metadata": {}
  },
  {
   "cell_type": "code",
   "execution_count": 2,
   "source": [
    "# Fitur .union()\r\n",
    "print(\"\\n>>> Fitur .union()\")\r\n",
    "parcel1 = {'Anggur', 'Apel', 'Jeruk'}\r\n",
    "parcel2 = {'Apel', 'Kiwi', 'Melon'}\r\n",
    "parcel3 = parcel1.union(parcel2)\r\n",
    "print(parcel1)\r\n",
    "print(parcel3)\r\n",
    "# Fitur .isdisjoint()\r\n",
    "print(\"\\n>>> Fitur .isdisjoint()\")\r\n",
    "parcel1 = {'Anggur', 'Apel', 'Jeruk'}\r\n",
    "parcel2 = {'Kiwi', 'Melon', 'Pisang'}\r\n",
    "parcel3 = {'Apel', 'Srikaya', 'Semangka'}\r\n",
    "parcel1_parcel2_disjoint = parcel1.isdisjoint(parcel2)\r\n",
    "print(parcel1_parcel2_disjoint)\r\n",
    "parcel1_parcel3_disjoint = parcel1.isdisjoint(parcel3)\r\n",
    "print(parcel1_parcel3_disjoint)\r\n",
    "# Fitur .issubset()\r\n",
    "print(\"\\n>>> Fitur .issubset()\")\r\n",
    "parcel_A = {'Anggur', 'Apel'}\r\n",
    "parcel_B = {'Durian', 'Semangka', 'Apel'}\r\n",
    "parcel_C = {'Anggur', 'Kiwi', 'Apel', 'Jeruk', 'Melon'}\r\n",
    "parcel_A_dalam_C = parcel_A.issubset(parcel_C)\r\n",
    "parcel_B_dalam_C = parcel_B.issubset(parcel_C)\r\n",
    "print(parcel_A_dalam_C)\r\n",
    "print(parcel_B_dalam_C)\r\n",
    "# Fitur .issuperset()\r\n",
    "print(\"\\n>>> Fitur .issuperset()\")\r\n",
    "parcel_C_mengandung_A = parcel_C.issuperset(parcel_A)\r\n",
    "parcel_C_mengandung_B = parcel_C.issuperset(parcel_B)\r\n",
    "print(parcel_C_mengandung_A)\r\n",
    "print(parcel_C_mengandung_B)\r\n",
    "# Fitur .intersection()\r\n",
    "print(\"\\n>>> Fitur .intersection()\")\r\n",
    "parcel_A = {'Anggur', 'Kiwi', 'Apel', 'Jeruk', 'Melon'}\r\n",
    "parcel_B = {'Apel', 'Jeruk', 'Semangka', 'Durian', 'Tomat'}\r\n",
    "parcel_C = parcel_A.intersection(parcel_B)\r\n",
    "print(parcel_C)\r\n",
    "# Fitur .difference()\r\n",
    "print(\"\\n>>> Fitur .difference()\")\r\n",
    "parcel_C = parcel_A.difference(parcel_B)\r\n",
    "print(parcel_C)\r\n",
    "# Fitur .symmetric_difference()\r\n",
    "print(\"\\n>>> Fitur .symmetric_difference()\")\r\n",
    "parcel_A = {'Anggur', 'Apel', 'Jeruk', 'Melon'}\r\n",
    "parcel_B = {'Apel', 'Jeruk', 'Semangka', 'Leci'}\r\n",
    "parcel_C = parcel_A.symmetric_difference(parcel_B)\r\n",
    "print(parcel_C)\r\n"
   ],
   "outputs": [
    {
     "output_type": "stream",
     "name": "stdout",
     "text": [
      "\n",
      ">>> Fitur .union()\n",
      "{'Anggur', 'Jeruk', 'Apel'}\n",
      "{'Melon', 'Kiwi', 'Jeruk', 'Anggur', 'Apel'}\n",
      "\n",
      ">>> Fitur .isdisjoint()\n",
      "True\n",
      "False\n",
      "\n",
      ">>> Fitur .issubset()\n",
      "True\n",
      "False\n",
      "\n",
      ">>> Fitur .issuperset()\n",
      "True\n",
      "False\n",
      "\n",
      ">>> Fitur .intersection()\n",
      "{'Apel', 'Jeruk'}\n",
      "\n",
      ">>> Fitur .difference()\n",
      "{'Melon', 'Kiwi', 'Anggur'}\n",
      "\n",
      ">>> Fitur .symmetric_difference()\n",
      "{'Melon', 'Semangka', 'Leci', 'Anggur'}\n"
     ]
    }
   ],
   "metadata": {}
  }
 ],
 "metadata": {
  "interpreter": {
   "hash": "b861759b14f6a8974d4715198817fc8cd0f39ecb7cbe98cc5748fea36c27e197"
  },
  "kernelspec": {
   "name": "python3",
   "display_name": "Python 3.8.8 64-bit ('base': conda)"
  },
  "language_info": {
   "codemirror_mode": {
    "name": "ipython",
    "version": 3
   },
   "file_extension": ".py",
   "mimetype": "text/x-python",
   "name": "python",
   "nbconvert_exporter": "python",
   "pygments_lexer": "ipython3",
   "version": "3.8.8"
  }
 },
 "nbformat": 4,
 "nbformat_minor": 2
}