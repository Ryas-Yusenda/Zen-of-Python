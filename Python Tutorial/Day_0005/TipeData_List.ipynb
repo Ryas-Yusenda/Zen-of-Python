{
 "cells": [
  {
   "cell_type": "code",
   "execution_count": 1,
   "metadata": {},
   "outputs": [
    {
     "data": {
      "text/plain": [
       "'\\n-Tipe data list adalah tipe data koleksi yang bersifat ordered(terurut)\\ndan juga bersifat changable(bisa diubah).\\n-Tipe data ini bisa kita definisikan dengan tanda kurung siku[] di dalam Python.\\n'"
      ]
     },
     "execution_count": 1,
     "metadata": {},
     "output_type": "execute_result"
    }
   ],
   "source": [
    "\"\"\"\n",
    "-Tipe data list adalah tipe data koleksi yang bersifat ordered(terurut)\n",
    "dan juga bersifat changable(bisa diubah).\n",
    "-Tipe data ini bisa kita definisikan dengan tanda kurung siku[] di dalam Python.\n",
    "\"\"\""
   ]
  },
  {
   "cell_type": "code",
   "execution_count": 2,
   "metadata": {},
   "outputs": [],
   "source": [
    "list_buah = ['Pisang', 'Nanas', 'Melon', 'Durian']\n",
    "list_nilai = [80, 70, 90, 60]\n",
    "list_jawaban = [150, 33.33, 'Presiden Sukarno', False]"
   ]
  },
  {
   "cell_type": "code",
   "execution_count": 3,
   "metadata": {},
   "outputs": [
    {
     "name": "stdout",
     "output_type": "stream",
     "text": [
      "list_buah: ['Pisang', 'Nanas', 'Melon', 'Durian']\n",
      "list_nilai: [80, 70, 90, 60]\n",
      "list_jawaban: [150, 33.33, 'Presiden Sukarno', False]\n"
     ]
    }
   ],
   "source": [
    "print('list_buah:', list_buah)\n",
    "print('list_nilai:', list_nilai)\n",
    "print('list_jawaban:', list_jawaban)"
   ]
  },
  {
   "cell_type": "code",
   "execution_count": 4,
   "metadata": {},
   "outputs": [
    {
     "name": "stdout",
     "output_type": "stream",
     "text": [
      "Pisang\n",
      "Melon\n",
      "Nanas\n",
      "Durian\n"
     ]
    }
   ],
   "source": [
    "print(list_buah[0])\n",
    "print(list_buah[2])\n",
    "print(list_buah[1])\n",
    "print(list_buah[3])"
   ]
  },
  {
   "cell_type": "code",
   "execution_count": 5,
   "metadata": {},
   "outputs": [
    {
     "name": "stdout",
     "output_type": "stream",
     "text": [
      "Durian\n",
      "Melon\n",
      "Nanas\n",
      "Pisang\n"
     ]
    }
   ],
   "source": [
    "print(list_buah[-1])\n",
    "print(list_buah[-2])\n",
    "print(list_buah[-3])\n",
    "print(list_buah[-4])\n",
    "# index dimulai dari -1 bukan 0, ini berarti menampilkan data dari belakang."
   ]
  },
  {
   "cell_type": "code",
   "execution_count": 6,
   "metadata": {},
   "outputs": [
    {
     "name": "stdout",
     "output_type": "stream",
     "text": [
      "['Pisang']\n",
      "['Pisang', 'Nanas']\n",
      "['Nanas', 'Melon']\n",
      "['Pisang', 'Nanas', 'Melon']\n",
      "[]\n",
      "[]\n",
      "['Nanas', 'Melon']\n"
     ]
    }
   ],
   "source": [
    "# Slicing List\n",
    "print(list_buah[0:1])\n",
    "print(list_buah[0:2])\n",
    "print(list_buah[1:3])\n",
    "print(list_buah[0:-1])\n",
    "print(list_buah[-1:-3])\n",
    "print(list_buah[-1:3])\n",
    "print(list_buah[-3:-1])"
   ]
  },
  {
   "cell_type": "code",
   "execution_count": 7,
   "metadata": {},
   "outputs": [
    {
     "name": "stdout",
     "output_type": "stream",
     "text": [
      "['Pisang', 'Nanas', 'Melon', 'Durian']\n",
      "['Nanas', 'Melon', 'Durian']\n",
      "['Melon', 'Durian']\n",
      "['Durian']\n",
      "[]\n",
      "['Pisang']\n",
      "['Pisang', 'Nanas']\n",
      "['Pisang', 'Nanas', 'Melon']\n",
      "['Pisang', 'Nanas', 'Melon', 'Durian']\n"
     ]
    }
   ],
   "source": [
    "# Slicing tanpa batas\n",
    "print(list_buah[0:])\n",
    "print(list_buah[1:])\n",
    "print(list_buah[2:])\n",
    "print(list_buah[3:])\n",
    "print(list_buah[:0])\n",
    "print(list_buah[:1])\n",
    "print(list_buah[:2])\n",
    "print(list_buah[:3])\n",
    "print(list_buah[:4])"
   ]
  },
  {
   "cell_type": "code",
   "execution_count": 8,
   "metadata": {},
   "outputs": [
    {
     "name": "stdout",
     "output_type": "stream",
     "text": [
      "['Pisang', 'Nanas', 'Melon', 'Durian']\n",
      "['Jeruk', 'Nanas', 'Melon', 'Durian']\n",
      "['Jeruk', 'Nanas', 'Melon', 'Mangga']\n",
      "['Jeruk', 'Naga', 'Pepaya', 'Mangga']\n"
     ]
    }
   ],
   "source": [
    "# Mengubah data di dalam list\n",
    "print(list_buah)\n",
    "\n",
    "# ubah data pertama\n",
    "list_buah[0] = 'Jeruk'\n",
    "\n",
    "print(list_buah)\n",
    "\n",
    "# ubah data terakhir\n",
    "list_buah[-1] = 'Mangga'\n",
    "\n",
    "print(list_buah)\n",
    "\n",
    "# ubah data dalam range\n",
    "list_buah[1:3] = ['Naga', 'Pepaya']\n",
    "\n",
    "print(list_buah)"
   ]
  },
  {
   "cell_type": "code",
   "execution_count": 9,
   "metadata": {},
   "outputs": [
    {
     "name": "stdout",
     "output_type": "stream",
     "text": [
      "['Jeruk', 'Naga', 'Pepaya', 'Mangga', 'sirsak']\n"
     ]
    }
   ],
   "source": [
    "# Menambah data di belakang\n",
    "list_buah.append('sirsak')\n",
    "print(list_buah)"
   ]
  },
  {
   "cell_type": "code",
   "execution_count": 10,
   "metadata": {},
   "outputs": [
    {
     "name": "stdout",
     "output_type": "stream",
     "text": [
      "['Apel', 'Jeruk', 'Naga', 'Pepaya', 'Mangga', 'sirsak']\n"
     ]
    }
   ],
   "source": [
    "# tambah data di awal list\n",
    "list_buah.insert(0,'Apel')\n",
    "print(list_buah)"
   ]
  },
  {
   "cell_type": "code",
   "execution_count": 11,
   "metadata": {},
   "outputs": [
    {
     "name": "stdout",
     "output_type": "stream",
     "text": [
      "['Apel', 'Jeruk', 'Rambutan', 'Naga', 'Pepaya', 'Mangga', 'sirsak']\n"
     ]
    }
   ],
   "source": [
    "# tambah data di index mana pun dalam list\n",
    "list_buah.insert(2, 'Rambutan')\n",
    "print (list_buah)"
   ]
  },
  {
   "cell_type": "code",
   "execution_count": 12,
   "metadata": {},
   "outputs": [
    {
     "name": "stdout",
     "output_type": "stream",
     "text": [
      "[80, 70, 90, 60]\n",
      "[80, 70, 90]\n"
     ]
    }
   ],
   "source": [
    "# Menghapus item dengan fungsi pop()\n",
    "print(list_nilai)\n",
    "\n",
    "# hapus satu angka di belakang\n",
    "list_nilai.pop()\n",
    "\n",
    "print(list_nilai)"
   ]
  },
  {
   "cell_type": "code",
   "execution_count": 13,
   "metadata": {},
   "outputs": [
    {
     "name": "stdout",
     "output_type": "stream",
     "text": [
      "['Apel', 'Jeruk', 'Rambutan', 'Naga', 'Pepaya', 'Mangga', 'sirsak']\n",
      "['Apel', 'Jeruk', 'Naga', 'Pepaya', 'Mangga', 'sirsak']\n"
     ]
    }
   ],
   "source": [
    "# Menghapus dengan fungsi remove()\n",
    "\n",
    "print(list_buah)\n",
    "\n",
    "# hapus item dengan nilai 'Rambutan'\n",
    "list_buah.remove('Rambutan')\n",
    "\n",
    "print(list_buah)"
   ]
  },
  {
   "cell_type": "code",
   "execution_count": 14,
   "metadata": {},
   "outputs": [
    {
     "name": "stdout",
     "output_type": "stream",
     "text": [
      "['Apel', 'Jeruk', 'Naga', 'Pepaya', 'Mangga', 'sirsak']\n",
      "['Naga', 'Pepaya', 'Mangga', 'sirsak']\n"
     ]
    }
   ],
   "source": [
    "# Menghapus dengan statement del\n",
    "\n",
    "print(list_buah)\n",
    "\n",
    "# hapus item index ke 1\n",
    "# del list_buah[1]\n",
    "\n",
    "# hapus item index ke 0 sampai ke 2\n",
    "del list_buah[0:2]\n",
    "\n",
    "print(list_buah)"
   ]
  },
  {
   "cell_type": "code",
   "execution_count": 15,
   "metadata": {},
   "outputs": [
    {
     "name": "stdout",
     "output_type": "stream",
     "text": [
      "[1, 2, 3, 'a', True, 'b', False, 1, 2, 3]\n"
     ]
    }
   ],
   "source": [
    "# Menggabungkan dua buah list atau lebih\n",
    "a = [1, 2, 3]\n",
    "b = ['a']\n",
    "c = [True, 'b', False]\n",
    "\n",
    "list_baru = a + b + c + a\n",
    "print(list_baru)"
   ]
  },
  {
   "cell_type": "code",
   "execution_count": 16,
   "metadata": {},
   "outputs": [
    {
     "name": "stdout",
     "output_type": "stream",
     "text": [
      "['Naga', 'Pepaya', 'Mangga', 'sirsak']\n",
      "['Mangga', 'Naga', 'Pepaya', 'sirsak']\n",
      "['sirsak', 'Pepaya', 'Naga', 'Mangga']\n"
     ]
    }
   ],
   "source": [
    "# Mengurutkan data\n",
    "print(list_buah)\n",
    "\n",
    "# urutkan secara ascending\n",
    "list_buah.sort()\n",
    "print(list_buah)\n",
    "\n",
    "# membalikkan posisi item list (tidak harus berurut)\n",
    "list_buah.reverse()\n",
    "print(list_buah)"
   ]
  },
  {
   "cell_type": "code",
   "execution_count": 1,
   "metadata": {},
   "outputs": [
    {
     "name": "stdout",
     "output_type": "stream",
     "text": [
      ">>> Fitur .append()\n",
      "['Gado-gado', 'Ayam Goreng', 'Rendang', 'Ketoprak']\n",
      ">>> Fitur .clear()\n",
      "[]\n",
      ">>> Fitur .copy()\n",
      "['Gado-gado', 'Ayam Goreng', 'Rendang', 'Ketoprak']\n",
      "['Gado-gado', 'Ayam Goreng', 'Rendang', 'Opor']\n",
      ">>> Fitur .count()\n",
      "4\n",
      "3\n",
      ">>> Fitur .extend()\n",
      "['Gado-gado', 'Ayam Goreng', 'Rendang', 'Es Teh', 'Es Jeruk', 'Es Campur']\n"
     ]
    }
   ],
   "source": [
    "# Fitur .append()\n",
    "print(\">>> Fitur .append()\")\n",
    "list_makanan = ['Gado-gado', 'Ayam Goreng', 'Rendang']\n",
    "list_makanan.append('Ketoprak')\n",
    "print(list_makanan)\n",
    "# Fitur .clear()\n",
    "print(\">>> Fitur .clear()\")\n",
    "list_makanan = ['Gado-gado', 'Ayam Goreng', 'Rendang']\n",
    "list_makanan.clear()\n",
    "print(list_makanan)\n",
    "# Fitur .copy()\n",
    "print(\">>> Fitur .copy()\")\n",
    "list_makanan1 = ['Gado-gado', 'Ayam Goreng', 'Rendang']\n",
    "list_makanan2 = list_makanan1.copy()\n",
    "list_makanan3 = list_makanan1\n",
    "list_makanan2.append('Opor')\n",
    "list_makanan3.append('Ketoprak')\n",
    "print(list_makanan1)\n",
    "print(list_makanan2)\n",
    "# Fitur .count()\n",
    "print(\">>> Fitur .count()\")\n",
    "list_score = ['Budi', 'Sud', 'Budi', 'Budi', 'Budi', 'Sud', 'Sud']\n",
    "score_budi = list_score.count('Budi')\n",
    "score_sud = list_score.count('Sud')\n",
    "print(score_budi)  # akan menampilkan output 4\n",
    "print(score_sud)  # akan menampilkan output 3\n",
    "# Fitur .extend()\n",
    "print(\">>> Fitur .extend()\")\n",
    "list_menu = ['Gado-gado', 'Ayam Goreng', 'Rendang']\n",
    "list_minuman = ['Es Teh', 'Es Jeruk', 'Es Campur']\n",
    "list_menu.extend(list_minuman)\n",
    "print(list_menu)\n"
   ]
  },
  {
   "cell_type": "code",
   "execution_count": 2,
   "metadata": {},
   "outputs": [
    {
     "name": "stdout",
     "output_type": "stream",
     "text": [
      "\n",
      ">>> Fitur .index()\n",
      "2\n",
      "\n",
      ">>> Fitur .insert()\n",
      "['Budi', 'Sud', 'Budi', 'Sud', 'Budi', 'Sud']\n",
      "\n",
      ">>> Fitur .pop()\n",
      "['Gado-gado', 'Rendang']\n",
      "\n",
      ">>> Fitur .remove()\n",
      "['Gado-gado', 'Ayam Goreng', 'Ketoprak']\n",
      "\n",
      ">>> Fitur .reverse()\n",
      "['Ketoprak', 'Rendang', 'Ayam Goreng', 'Gado-gado']\n",
      "\n",
      ">>> Fitur .sort()\n",
      "['Ayam Goreng', 'Gado-gado', 'Ketoprak', 'Rendang']\n",
      "['Rendang', 'Ketoprak', 'Gado-gado', 'Ayam Goreng']\n"
     ]
    }
   ],
   "source": [
    "# Fitur .index()\n",
    "print(\"\\n>>> Fitur .index()\")\n",
    "list_score = ['Budi', 'Sud', 'Budi', 'Budi', 'Budi', 'Sud', 'Sud']\n",
    "score_pertama_sud = list_score.index('Sud') + 1\n",
    "print(score_pertama_sud)  # akan menampilkan output 2\n",
    "# Fitur .insert()\n",
    "print(\"\\n>>> Fitur .insert()\")\n",
    "list_score = ['Budi', 'Sud', 'Budi', 'Budi', 'Sud']\n",
    "list_score.insert(3, 'Sud')\n",
    "print(list_score)\n",
    "# Fitur .pop()\n",
    "print(\"\\n>>> Fitur .pop()\")\n",
    "list_menu = ['Gado-gado', 'Ayam Goreng', 'Rendang']\n",
    "list_menu.pop(1)\n",
    "print(list_menu)\n",
    "# Fitur .remove()\n",
    "print(\"\\n>>> Fitur .remove()\")\n",
    "list_menu = ['Gado-gado', 'Ayam Goreng', 'Rendang', 'Ketoprak']\n",
    "list_menu.remove('Rendang')\n",
    "print(list_menu)\n",
    "# Fitur .reverse()\n",
    "print(\"\\n>>> Fitur .reverse()\")\n",
    "list_menu = ['Gado-gado', 'Ayam Goreng', 'Rendang', 'Ketoprak']\n",
    "list_menu.reverse()\n",
    "print(list_menu)\n",
    "# Fitur .sort()\n",
    "print(\"\\n>>> Fitur .sort()\")\n",
    "list_menu = ['Gado-gado', 'Ayam Goreng', 'Rendang', 'Ketoprak']\n",
    "list_menu.sort()  # Default: Ascending\n",
    "print(list_menu)\n",
    "list_menu.sort(reverse=True)  # Descending\n",
    "print(list_menu)\n"
   ]
  }
 ],
 "metadata": {
  "interpreter": {
   "hash": "b861759b14f6a8974d4715198817fc8cd0f39ecb7cbe98cc5748fea36c27e197"
  },
  "kernelspec": {
   "display_name": "Python 3.8.8 64-bit ('base': conda)",
   "name": "python3"
  },
  "language_info": {
   "codemirror_mode": {
    "name": "ipython",
    "version": 3
   },
   "file_extension": ".py",
   "mimetype": "text/x-python",
   "name": "python",
   "nbconvert_exporter": "python",
   "pygments_lexer": "ipython3",
   "version": "3.8.8"
  }
 },
 "nbformat": 4,
 "nbformat_minor": 2
}
