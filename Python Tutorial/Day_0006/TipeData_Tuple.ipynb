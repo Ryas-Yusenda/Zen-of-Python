{
 "cells": [
  {
   "cell_type": "code",
   "execution_count": 1,
   "source": [
    "\"\"\"\r\n",
    "-Tuple bersifat ordered(terurut) dan juga bersifat unchangable(tidak bisa diubah).\r\n",
    "Ordered berarti datanya bisa kita akses menggunakan indeks, dan unchangeable berarti \r\n",
    "datanya tidak akan pernah bisa diubah setelah pertama kali definisikan.\r\n",
    "\"\"\"\r\n"
   ],
   "outputs": [
    {
     "output_type": "execute_result",
     "data": {
      "text/plain": [
       "'\\n-Tuple bersifat ordered(terurut) dan juga bersifat unchangable(tidak bisa diubah).\\nOrdered berarti datanya bisa kita akses menggunakan indeks, dan unchangeable berarti \\ndatanya tidak akan pernah bisa diubah setelah pertama kali definisikan.\\n'"
      ]
     },
     "metadata": {},
     "execution_count": 1
    }
   ],
   "metadata": {}
  },
  {
   "cell_type": "code",
   "execution_count": 2,
   "source": [
    "# cara standar\r\n",
    "tuple_buah = ('Pisang', 'Nanas', 'Melon', 'Durian')\r\n",
    "\r\n",
    "# tanpa kurung\r\n",
    "tuple_buah = 'Pisang', 'Nanas', 'Melon', 'Durian'\r\n",
    "\r\n",
    "# menggunakan fungsi tuple()\r\n",
    "tuple_buah = tuple(['Pisang', 'Nanas', 'Melon', 'Durian'])"
   ],
   "outputs": [],
   "metadata": {}
  },
  {
   "cell_type": "code",
   "execution_count": 3,
   "source": [
    "print(tuple_buah[1])  # indeks satu\r\n",
    "print(tuple_buah[0])  # indeks nol"
   ],
   "outputs": [
    {
     "output_type": "stream",
     "name": "stdout",
     "text": [
      "Nanas\n",
      "Pisang\n"
     ]
    }
   ],
   "metadata": {}
  },
  {
   "cell_type": "code",
   "execution_count": 4,
   "source": [
    "print(tuple_buah[-2])\r\n",
    "print(tuple_buah[-1])"
   ],
   "outputs": [
    {
     "output_type": "stream",
     "name": "stdout",
     "text": [
      "Melon\n",
      "Durian\n"
     ]
    }
   ],
   "metadata": {}
  },
  {
   "cell_type": "code",
   "execution_count": 5,
   "source": [
    "# Slicing tuple\r\n",
    "print(tuple_buah[0:1])\r\n",
    "print(tuple_buah[0:2])\r\n",
    "print(tuple_buah[1:3])\r\n",
    "print(tuple_buah[0:-1])\r\n",
    "print(tuple_buah[-1:-3])\r\n",
    "print(tuple_buah[-1:3])\r\n",
    "print(tuple_buah[-3:-1])"
   ],
   "outputs": [
    {
     "output_type": "stream",
     "name": "stdout",
     "text": [
      "('Pisang',)\n",
      "('Pisang', 'Nanas')\n",
      "('Nanas', 'Melon')\n",
      "('Pisang', 'Nanas', 'Melon')\n",
      "()\n",
      "()\n",
      "('Nanas', 'Melon')\n"
     ]
    }
   ],
   "metadata": {}
  },
  {
   "cell_type": "code",
   "execution_count": 6,
   "source": [
    "# Slicing tanpa batas\r\n",
    "\r\n",
    "print(tuple_buah[0:])\r\n",
    "print(tuple_buah[1:])\r\n",
    "print(tuple_buah[2:])\r\n",
    "print(tuple_buah[3:])\r\n",
    "print(tuple_buah[:0])\r\n",
    "print(tuple_buah[:1])\r\n",
    "print(tuple_buah[:2])\r\n",
    "print(tuple_buah[:3])\r\n",
    "print(tuple_buah[:4])"
   ],
   "outputs": [
    {
     "output_type": "stream",
     "name": "stdout",
     "text": [
      "('Pisang', 'Nanas', 'Melon', 'Durian')\n",
      "('Nanas', 'Melon', 'Durian')\n",
      "('Melon', 'Durian')\n",
      "('Durian',)\n",
      "()\n",
      "('Pisang',)\n",
      "('Pisang', 'Nanas')\n",
      "('Pisang', 'Nanas', 'Melon')\n",
      "('Pisang', 'Nanas', 'Melon', 'Durian')\n"
     ]
    }
   ],
   "metadata": {}
  },
  {
   "cell_type": "code",
   "execution_count": 7,
   "source": [
    "# Tuple memang difungsikan untuk kasus-kasus \r\n",
    "# tertentu di mana nilai data bersifat tetap, \r\n",
    "# tidak akan berubah selama runtime. \r\n",
    "# Seperti misalnya data jenis kelamin."
   ],
   "outputs": [],
   "metadata": {}
  },
  {
   "cell_type": "code",
   "execution_count": 8,
   "source": [
    "# Sequence Unpacking\r\n",
    "siswa = ('Ryas Putra Yusenda', 'Medan', 21)\r\n",
    "\r\n",
    "# ekstrak data atau juga dinamakan sequence unpacking\r\n",
    "nama, asal, usia = siswa\r\n",
    "\r\n",
    "# setiap variabel di atas akan memiliki nilai dari tiap isi tuple\r\n",
    "# secara berurutan\r\n",
    "print('Nama:', nama)\r\n",
    "print('Asal:', asal)\r\n",
    "print('Usia:', usia)"
   ],
   "outputs": [
    {
     "output_type": "stream",
     "name": "stdout",
     "text": [
      "Nama: Ryas Putra Yusenda\n",
      "Asal: Medan\n",
      "Usia: 21\n"
     ]
    }
   ],
   "metadata": {}
  },
  {
   "cell_type": "code",
   "execution_count": 9,
   "source": [
    "# Menggabungkan dua buah tuple atau lebih\r\n",
    "a = (1, 2, 3)\r\n",
    "b = (50, 60, 70)\r\n",
    "c = a + b\r\n",
    "\r\n",
    "print(c)"
   ],
   "outputs": [
    {
     "output_type": "stream",
     "name": "stdout",
     "text": [
      "(1, 2, 3, 50, 60, 70)\n"
     ]
    }
   ],
   "metadata": {}
  },
  {
   "cell_type": "code",
   "execution_count": 1,
   "source": [
    "# Fitur .count()\r\n",
    "print(\">>> Fitur .count()\")\r\n",
    "tuple_score = ('Budi', 'Sud', 'Budi', 'Budi', 'Budi', 'Sud', 'Sud')\r\n",
    "score_budi = tuple_score.count('Budi')\r\n",
    "score_sud = tuple_score.count('Sud')\r\n",
    "print(score_budi)  # akan menampilkan output 4\r\n",
    "print(score_sud)  # akan menampilkan output 3\r\n",
    "# Fitur .index()\r\n",
    "print(\">>> Fitur .index()\")\r\n",
    "tuple_score = ('Budi', 'Sud', 'Budi', 'Budi', 'Budi', 'Sud', 'Sud')\r\n",
    "score_pertama_sud = tuple_score.index('Sud')+1\r\n",
    "print(score_pertama_sud)  # akan menampilkan output 2\r\n"
   ],
   "outputs": [
    {
     "output_type": "stream",
     "name": "stdout",
     "text": [
      ">>> Fitur .count()\n",
      "4\n",
      "3\n",
      ">>> Fitur .index()\n",
      "2\n"
     ]
    }
   ],
   "metadata": {}
  }
 ],
 "metadata": {
  "interpreter": {
   "hash": "b861759b14f6a8974d4715198817fc8cd0f39ecb7cbe98cc5748fea36c27e197"
  },
  "kernelspec": {
   "name": "python3",
   "display_name": "Python 3.8.8 64-bit ('base': conda)"
  },
  "language_info": {
   "codemirror_mode": {
    "name": "ipython",
    "version": 3
   },
   "file_extension": ".py",
   "mimetype": "text/x-python",
   "name": "python",
   "nbconvert_exporter": "python",
   "pygments_lexer": "ipython3",
   "version": "3.8.8"
  }
 },
 "nbformat": 4,
 "nbformat_minor": 2
}