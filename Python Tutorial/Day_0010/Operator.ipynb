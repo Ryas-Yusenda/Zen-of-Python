{
 "cells": [
  {
   "cell_type": "code",
   "execution_count": 1,
   "source": [
    "# Operator aritmatika\r\n",
    "\r\n",
    "a, b = 10, 3\r\n",
    "\r\n",
    "print(a, '+', b, '=', a + b)\r\n",
    "print(a, '-', b, '=', a - b)\r\n",
    "print(a, '*', b, '=', a * b)\r\n",
    "print(a, '/', b, '=', a / b)\r\n",
    "print(a, '%', b, '=', a % b)\r\n",
    "print(a, '**', b, '=', a ** b)\r\n",
    "print(a, '//', b, '=', a // b)"
   ],
   "outputs": [
    {
     "output_type": "stream",
     "name": "stdout",
     "text": [
      "10 + 3 = 13\n",
      "10 - 3 = 7\n",
      "10 * 3 = 30\n",
      "10 / 3 = 3.3333333333333335\n",
      "10 % 3 = 1\n",
      "10 ** 3 = 1000\n",
      "10 // 3 = 3\n"
     ]
    }
   ],
   "metadata": {}
  },
  {
   "cell_type": "code",
   "execution_count": 2,
   "source": [
    "# Operator komparasi atau perbandingan\r\n",
    "\r\n",
    "print(a, '>', b, '=', a > b)\r\n",
    "print(a, '<', b, '=', a < b)\r\n",
    "print(a, '==', b, '=', a == b)\r\n",
    "print(a, '!=', b, '=', a != b)\r\n",
    "print(a, '>=', b, '=', a >= b)\r\n",
    "print(a, '<=', b, '=', a <= b)"
   ],
   "outputs": [
    {
     "output_type": "stream",
     "name": "stdout",
     "text": [
      "10 > 3 = True\n",
      "10 < 3 = False\n",
      "10 == 3 = False\n",
      "10 != 3 = True\n",
      "10 >= 3 = True\n",
      "10 <= 3 = False\n"
     ]
    }
   ],
   "metadata": {}
  },
  {
   "cell_type": "code",
   "execution_count": 3,
   "source": [
    "# Operator penugasan\r\n",
    "\r\n",
    "a = 10\r\n",
    "\r\n",
    "print('a = 10 -> ', a)\r\n",
    "\r\n",
    "a += 5\r\n",
    "print('a += 5 -> ', a)\r\n",
    "\r\n",
    "a -= 3\r\n",
    "print('a -= 3 -> ', a)\r\n",
    "\r\n",
    "a *= 6\r\n",
    "print('a *= 6 -> ', a)\r\n",
    "\r\n",
    "a /= 8\r\n",
    "print('a /= 8 -> ', a)\r\n",
    "\r\n",
    "a = 10\r\n",
    "\r\n",
    "a %= 9\r\n",
    "print('a %= 9 -> ', a)\r\n",
    "\r\n",
    "a //= 6\r\n",
    "print('a //= 6 -> ', a)\r\n",
    "\r\n",
    "a **= 1\r\n",
    "print('a **= 1 -> ', a)\r\n",
    "\r\n",
    "a &= 2\r\n",
    "print('a &= 2 -> ', a)\r\n",
    "\r\n",
    "a |= 3\r\n",
    "print('a |= 3 -> ', a)\r\n",
    "\r\n",
    "a ^= 4\r\n",
    "print('a ^= 4 -> ', a)\r\n",
    "\r\n",
    "a >>= 4\r\n",
    "print('a >>= 4 -> ', a)\r\n",
    "\r\n",
    "a <<= 2\r\n",
    "print('a <<= 4 -> ', a)\r\n"
   ],
   "outputs": [
    {
     "output_type": "stream",
     "name": "stdout",
     "text": [
      "a = 10 ->  10\n",
      "a += 5 ->  15\n",
      "a -= 3 ->  12\n",
      "a *= 6 ->  72\n",
      "a /= 8 ->  9.0\n",
      "a %= 9 ->  1\n",
      "a //= 6 ->  0\n",
      "a **= 1 ->  0\n",
      "a &= 2 ->  0\n",
      "a |= 3 ->  3\n",
      "a ^= 4 ->  7\n",
      "a >>= 4 ->  0\n",
      "a <<= 4 ->  0\n"
     ]
    }
   ],
   "metadata": {}
  },
  {
   "cell_type": "code",
   "execution_count": 4,
   "source": [
    "# Operator logika\r\n",
    "\r\n",
    "print(True and True)\r\n",
    "print(1 + 2 == 3 and True)\r\n",
    "print('----')\r\n",
    "print(False or 1 > 5)\r\n",
    "print(False or 5 > 2)\r\n",
    "print('----')\r\n",
    "print(not(1 > 5))\r\n",
    "print(not(1 < 5))"
   ],
   "outputs": [
    {
     "output_type": "stream",
     "name": "stdout",
     "text": [
      "True\n",
      "True\n",
      "----\n",
      "False\n",
      "True\n",
      "----\n",
      "True\n",
      "False\n"
     ]
    }
   ],
   "metadata": {}
  },
  {
   "cell_type": "code",
   "execution_count": 5,
   "source": [
    "# Operator keanggotaan\r\n",
    "\r\n",
    "perusahaan = 'Microsoft'\r\n",
    "list_pulau = ['Jawa', 'Sumatra', 'Sulawesi']\r\n",
    "mahasiswa = {\r\n",
    "    'nama': 'Lendis Fabri',\r\n",
    "    'asal': 'Lamongan'\r\n",
    "}\r\n",
    "\r\n",
    "print(\r\n",
    "    \"Apakah 'c' ada di variabel perusahaan?\",\r\n",
    "    'c' in perusahaan\r\n",
    ")\r\n",
    "print(\r\n",
    "    \"Apakah 'z' tidak ada di variabel perusahaan?\",\r\n",
    "    'c' not in list_pulau\r\n",
    ")\r\n",
    "print(\r\n",
    "    \"Apakah 'Madura' ada di variabel list_pulau?\",\r\n",
    "    'Madura' in perusahaan\r\n",
    ")\r\n",
    "print(\r\n",
    "    \"Apakah 'Madura' tidak ada di variabel list_pulau?\",\r\n",
    "    'Madura' not in perusahaan\r\n",
    ")\r\n",
    "print(\r\n",
    "    \"Apakah atribut 'nama' ada di variabel mahasiswa?\",\r\n",
    "    'nama' in mahasiswa\r\n",
    ")\r\n"
   ],
   "outputs": [
    {
     "output_type": "stream",
     "name": "stdout",
     "text": [
      "Apakah 'c' ada di variabel perusahaan? True\n",
      "Apakah 'z' tidak ada di variabel perusahaan? True\n",
      "Apakah 'Madura' ada di variabel list_pulau? False\n",
      "Apakah 'Madura' tidak ada di variabel list_pulau? True\n",
      "Apakah atribut 'nama' ada di variabel mahasiswa? True\n"
     ]
    }
   ],
   "metadata": {}
  },
  {
   "cell_type": "code",
   "execution_count": 6,
   "source": [
    "# Operator identitas\r\n",
    "\r\n",
    "a = 5\r\n",
    "b = 5\r\n",
    "list_a = [1, 2, 3]\r\n",
    "list_b = [1, 2, 3]\r\n",
    "\r\n",
    "# output True\r\n",
    "print('a is b:', a is b)\r\n",
    "# output False\r\n",
    "print('a is not b:', a is not b)\r\n",
    "\r\n",
    "# output False\r\n",
    "print('list_a is list_b:', list_a is list_b)\r\n",
    "# output True\r\n",
    "print('list_a == list_b:', list_a == list_b)"
   ],
   "outputs": [
    {
     "output_type": "stream",
     "name": "stdout",
     "text": [
      "a is b: True\n",
      "a is not b: False\n",
      "list_a is list_b: False\n",
      "list_a == list_b: True\n"
     ]
    }
   ],
   "metadata": {}
  },
  {
   "cell_type": "code",
   "execution_count": 7,
   "source": [
    "a = 1\r\n",
    "b = 64\r\n",
    "\r\n",
    "print('a =', a, '=', format(a, '08b'))\r\n",
    "print('b =', b, '=', format(b, '08b'), '\\n')\r\n",
    "\r\n",
    "print('[and]')\r\n",
    "print('a & b =', a & b)\r\n",
    "print(format(a, '08b'), '&', format(b, '08b'), '=', format(a & b, '08b'), '\\n')\r\n",
    "\r\n",
    "print('[or]')\r\n",
    "print('a | b =', a | b)\r\n",
    "print(format(a, '08b'), '|', format(b, '08b'), '=', format(a | b, '08b'), '\\n')\r\n",
    "\r\n",
    "print('[xor]')\r\n",
    "print('a ^ b =', a ^ b)\r\n",
    "print(format(a, '08b'), '^', format(b, '08b'), '=', format(a ^ b, '08b'), '\\n')\r\n",
    "\r\n",
    "print('[not]')\r\n",
    "print('~a ~b =', ~a, ~b)\r\n",
    "print('~' + format(a, '08b'), '~' + format(b, '08b'),\r\n",
    "      '=', format(~a, '08b'), format(~b, '08b'), '\\n')\r\n",
    "\r\n",
    "print('[shift right]')\r\n",
    "print('a >> b =', a >> b)\r\n",
    "print(format(a, '08b'), '>>', format(b, '08b'),\r\n",
    "      '=', format(a >> b, '08b'), '\\n')\r\n",
    "\r\n",
    "print('[shift left]')\r\n",
    "print('b << a =', b << a)\r\n",
    "print(format(b, '08b'), '<<', format(a, '08b'),\r\n",
    "      '=', format(b << a, '08b'), '\\n')\r\n"
   ],
   "outputs": [
    {
     "output_type": "stream",
     "name": "stdout",
     "text": [
      "a = 1 = 00000001\n",
      "b = 64 = 01000000 \n",
      "\n",
      "[and]\n",
      "a & b = 0\n",
      "00000001 & 01000000 = 00000000 \n",
      "\n",
      "[or]\n",
      "a | b = 65\n",
      "00000001 | 01000000 = 01000001 \n",
      "\n",
      "[xor]\n",
      "a ^ b = 65\n",
      "00000001 ^ 01000000 = 01000001 \n",
      "\n",
      "[not]\n",
      "~a ~b = -2 -65\n",
      "~00000001 ~01000000 = -0000010 -1000001 \n",
      "\n",
      "[shift right]\n",
      "a >> b = 0\n",
      "00000001 >> 01000000 = 00000000 \n",
      "\n",
      "[shift left]\n",
      "b << a = 128\n",
      "01000000 << 00000001 = 10000000 \n",
      "\n"
     ]
    }
   ],
   "metadata": {}
  }
 ],
 "metadata": {
  "orig_nbformat": 4,
  "language_info": {
   "name": "python",
   "version": "3.8.8",
   "mimetype": "text/x-python",
   "codemirror_mode": {
    "name": "ipython",
    "version": 3
   },
   "pygments_lexer": "ipython3",
   "nbconvert_exporter": "python",
   "file_extension": ".py"
  },
  "kernelspec": {
   "name": "python3",
   "display_name": "Python 3.8.8 64-bit ('base': conda)"
  },
  "interpreter": {
   "hash": "b861759b14f6a8974d4715198817fc8cd0f39ecb7cbe98cc5748fea36c27e197"
  }
 },
 "nbformat": 4,
 "nbformat_minor": 2
}