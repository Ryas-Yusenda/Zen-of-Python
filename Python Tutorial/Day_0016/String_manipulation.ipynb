{
 "cells": [
  {
   "cell_type": "code",
   "execution_count": 1,
   "source": [
    "nama_depan = 'John'\r\n",
    "nama_belakang = 'Doee'\r\n",
    "nama_lengkap = nama_depan + ' ' + nama_belakang\r\n",
    "print(nama_lengkap)\r\n",
    "umur = '27 tahun'\r\n",
    "alamat = 'Jl. Anggrek No. 100'nama_umur_alamat = 'Hi, saya ' + nama_lengkap + \\\r\n",
    "    ' umur ' + umur + ', tinggal di ' + alamat + '.'\r\n",
    "print(nama_umur_alamat)\r\n"
   ],
   "outputs": [
    {
     "output_type": "error",
     "ename": "SyntaxError",
     "evalue": "invalid syntax (<ipython-input-1-27ef557437eb>, line 6)",
     "traceback": [
      "\u001b[1;36m  File \u001b[1;32m\"<ipython-input-1-27ef557437eb>\"\u001b[1;36m, line \u001b[1;32m6\u001b[0m\n\u001b[1;33m    alamat = 'Jl. Anggrek No. 100'nama_umur_alamat = 'Hi, saya ' + nama_lengkap + \\\u001b[0m\n\u001b[1;37m                                  ^\u001b[0m\n\u001b[1;31mSyntaxError\u001b[0m\u001b[1;31m:\u001b[0m invalid syntax\n"
     ]
    }
   ],
   "metadata": {}
  },
  {
   "cell_type": "code",
   "execution_count": null,
   "source": [
    "# Fitur .strip()\r\n",
    "print(\">>> Fitur .strip()\")\r\n",
    "kata_sambutan = ' halo, selamat siang! '\r\n",
    "kata_sambutan = kata_sambutan.strip()\r\n",
    "print(kata_sambutan)\r\n",
    "# Fitur .lstrip()\r\n",
    "print(\">>> Fitur .lstrip()\")\r\n",
    "kata_sambutan = ' halo, selamat siang! '\r\n",
    "kata_sambutan = kata_sambutan.lstrip()\r\n",
    "print(kata_sambutan)\r\n",
    "# Fitur .rstrip()\r\n",
    "print(\">>> Fitur .rstrip()\")\r\n",
    "kata_sambutan = ' halo, selamat siang! '\r\n",
    "kata_sambutan = kata_sambutan.rstrip()\r\n",
    "print(kata_sambutan)\r\n"
   ],
   "outputs": [
    {
     "output_type": "stream",
     "name": "stdout",
     "text": [
      ">>> Fitur .strip()\n",
      "halo, selamat siang!\n",
      ">>> Fitur .lstrip()\n",
      "halo, selamat siang! \n",
      ">>> Fitur .rstrip()\n",
      " halo, selamat siang!\n"
     ]
    }
   ],
   "metadata": {}
  },
  {
   "cell_type": "code",
   "execution_count": null,
   "source": [
    "# Fitur .capitalize()\r\n",
    "print(\">>> Fitur .capitalize()\")\r\n",
    "judul_buku = 'belajar bahasa Python'\r\n",
    "print(judul_buku.capitalize())\r\n",
    "# Fitur .lower()\r\n",
    "print(\">>> Fitur .lower()\")\r\n",
    "judul_buku = 'Belajar Bahasa PYTHON.'\r\n",
    "print(judul_buku.lower())\r\n",
    "# Fitur .upper()\r\n",
    "print(\">>> Fitur .upper()\")\r\n",
    "judul_buku = 'Belajar Bahasa PYTHON.'\r\n",
    "print(judul_buku.upper())\r\n"
   ],
   "outputs": [
    {
     "output_type": "stream",
     "name": "stdout",
     "text": [
      ">>> Fitur .capitalize()\n",
      "Belajar bahasa python\n",
      ">>> Fitur .lower()\n",
      "belajar bahasa python.\n",
      ">>> Fitur .upper()\n",
      "BELAJAR BAHASA PYTHON.\n"
     ]
    }
   ],
   "metadata": {}
  },
  {
   "cell_type": "code",
   "execution_count": null,
   "source": [
    "# Fitur .split()\r\n",
    "print(\">>> Fitur .split()\")\r\n",
    "bilangan = \"ani dan budi dan wati dan johan\"\r\n",
    "karakter = bilangan.split(\"dan\")\r\n",
    "print(karakter)\r\n",
    "kata = bilangan.split(\" \")\r\n",
    "print(kata)\r\n",
    "# Fitur .join()\r\n",
    "print(\">>> Fitur .join()\")\r\n",
    "pemisah = \" dan \"\r\n",
    "karakter = [\"Ricky\", \"Peter\", \"Jordan\"]\r\n",
    "kalimat = pemisah.join(karakter)\r\n",
    "print(kalimat)\r\n",
    "# Fitur .replace()\r\n",
    "print(\">>> Fitur .replace()\")\r\n",
    "kalimat = \"apel malang apel yang paling segar, apel sehat, apel nikmat\"\r\n",
    "kalimat = kalimat.replace(\"apel\", \"jeruk\")\r\n",
    "print(kalimat)\r\n"
   ],
   "outputs": [
    {
     "output_type": "stream",
     "name": "stdout",
     "text": [
      ">>> Fitur .split()\n",
      "['ani ', ' budi ', ' wati ', ' johan']\n",
      "['ani', 'dan', 'budi', 'dan', 'wati', 'dan', 'johan']\n",
      ">>> Fitur .join()\n",
      "Ricky dan Peter dan Jordan\n",
      ">>> Fitur .replace()\n",
      "jeruk malang jeruk yang paling segar, jeruk sehat, jeruk nikmat\n"
     ]
    }
   ],
   "metadata": {}
  },
  {
   "cell_type": "code",
   "execution_count": null,
   "source": [
    "teks = \"Apel malang adalah apel termanis dibanding apel-apel lainnya\"\r\n",
    "# Fitur .find()\r\n",
    "print(\">>> Fitur .find()\")\r\n",
    "print(teks.find(\"Apel\"))\r\n",
    "print(teks.find(\"malang\"))\r\n",
    "# Fitur .count()\r\n",
    "print(\">>> Fitur .count()\")\r\n",
    "kemunculan_kata_apel = teks.count(\"apel\")\r\n",
    "print(kemunculan_kata_apel)"
   ],
   "outputs": [
    {
     "output_type": "stream",
     "name": "stdout",
     "text": [
      ">>> Fitur .find()\n",
      "0\n",
      "5\n",
      ">>> Fitur .count()\n",
      "3\n"
     ]
    }
   ],
   "metadata": {}
  },
  {
   "cell_type": "code",
   "execution_count": null,
   "source": [
    "# Fitur .startswith()\r\n",
    "print(\">>> Fitur .startswith()\")\r\n",
    "teks = \"Apel malang adalah apel termanis dibanding apel-apel lainnya\"\r\n",
    "print(teks.startswith(\"Apel\"))\r\n",
    "print(teks.startswith(\"apel\"))\r\n",
    "# Fitur .endswith()\r\n",
    "print(\">>> Fitur .endswith()\")\r\n",
    "print(teks.endswith(\"lainnya\"))\r\n",
    "print(teks.endswith(\"apel\"))\r\n"
   ],
   "outputs": [
    {
     "output_type": "stream",
     "name": "stdout",
     "text": [
      ">>> Fitur .startswith()\n",
      "True\n",
      "False\n",
      ">>> Fitur .endswith()\n",
      "True\n",
      "False\n"
     ]
    }
   ],
   "metadata": {}
  },
  {
   "cell_type": "code",
   "execution_count": null,
   "source": [
    "judul_artikel = [\r\n",
    "    \"Buah Salak Baik untuk Mata\", \"Buah Salak Kaya Potasium\",\r\n",
    "    \"Buah Jeruk Kaya Vitamin C\", \"Buah Salak Kaya Manfaat\",\r\n",
    "    \"Salak Baik untuk Jantung\", \"Jeruk dapat Memperkuat Tulang\",\r\n",
    "    \"Jeruk Mencegah Penyakit Asma\", \"Jeruk Memperkuat Gigi\",\r\n",
    "    \"Jeruk Mencegah Kolesterol Jahat\", \"Salak Mencegah Diabetes\",\r\n",
    "    \"Salak Memperkuat Dinding Usus\", \"Salak Baik untuk Darah\",\r\n",
    "    \"Jeruk Kaya Manfaat untuk Jantung\", \"Salak si Kecil yang Baik\",\r\n",
    "    \"Jeruk dan Salak Buah Kaya Manfaat\", \"Buah Jeruk Enak\",\r\n",
    "    \"Tips Panen Jeruk Ribuan Kilo\", \"Tips Bertanam Salak\",\r\n",
    "    \"Salak Manis untuk Berbuka\", \"Jeruk Baik untuk Wajah\"\r\n",
    "]\r\n",
    "jumlah_artikel_jeruk = 0\r\n",
    "jumlah_artikel_salak = 0\r\n",
    "for judul in judul_artikel:\r\n",
    "    if judul.count(\"Jeruk\") > 0:\r\n",
    "        jumlah_artikel_jeruk += 1\r\n",
    "    if judul.count(\"Salak\") > 0:\r\n",
    "        jumlah_artikel_salak += 1\r\n",
    "print(jumlah_artikel_jeruk)\r\n",
    "print(jumlah_artikel_salak)\r\n"
   ],
   "outputs": [
    {
     "output_type": "stream",
     "name": "stdout",
     "text": [
      "10\n",
      "11\n"
     ]
    }
   ],
   "metadata": {}
  },
  {
   "cell_type": "code",
   "execution_count": null,
   "source": [
    "judul_artikel = [\r\n",
    "    \"Buah Salak Baik untuk Mata\", \"Buah Salak Kaya Potasium\",\r\n",
    "    \"Buah Jeruk Kaya Vitamin C\", \"Buah Salak Kaya Manfaat\",\r\n",
    "    \"Salak Baik untuk Jantung\", \"Jeruk dapat Memperkuat Tulang\",\r\n",
    "    \"Jeruk Mencegah Penyakit Asma\", \"Jeruk Memperkuat Gigi\",\r\n",
    "    \"Jeruk Mencegah Kolesterol Jahat\", \"Salak Mencegah Diabetes\",\r\n",
    "    \"Salak Memperkuat Dinding Usus\", \"Salak Baik untuk Darah\",\r\n",
    "    \"Jeruk Kaya Manfaat untuk Jantung\", \"Salak si Kecil yang Baik\",\r\n",
    "    \"Jeruk dan Salak Buah Kaya Manfaat\", \"Buah Jeruk Enak\",\r\n",
    "    \"Tips Panen Jeruk Ribuan Kilo\", \"Tips Bertanam Salak\",\r\n",
    "    \"Salak Manis untuk Berbuka\", \"Jeruk Baik untuk Wajah\"\r\n",
    "]\r\n",
    "kata_positif = [\"Kaya\", \"Baik\", \"Mencegah\", \"Memperkuat\"]\r\n",
    "kata_positif_jeruk = 0\r\n",
    "kata_positif_salak = 0\r\n",
    "for judul in judul_artikel:\r\n",
    "    for kata in kata_positif:\r\n",
    "        if judul.count(\"Jeruk\") > 0 and judul.count(kata) > 0:\r\n",
    "            kata_positif_jeruk += 1\r\n",
    "        if judul.count(\"Salak\") > 0 and judul.count(kata) > 0:\r\n",
    "            kata_positif_salak += 1\r\n",
    "print(kata_positif_jeruk)\r\n",
    "print(kata_positif_salak)\r\n"
   ],
   "outputs": [
    {
     "output_type": "stream",
     "name": "stdout",
     "text": [
      "8\n",
      "9\n"
     ]
    }
   ],
   "metadata": {}
  },
  {
   "cell_type": "code",
   "execution_count": null,
   "source": [
    "# Dua buah data yang tersimpan dalam tipe list\r\n",
    "data1 = [70, 70, 70, 100, 100, 100, 120, 120, 150, 150]\r\n",
    "data2 = [50, 60, 60, 50, 70, 70, 100, 80, 100, 90]\r\n",
    "# Definisikan fungsi hitng_rata_rata\r\n",
    "\r\n",
    "\r\n",
    "def hitung_rata_rata(data):\r\n",
    "    jumlah = 0\r\n",
    "    for item in data:\r\n",
    "        jumlah += item\r\n",
    "    rata_rata = jumlah/len(data)\r\n",
    "    return rata_rata\r\n",
    "\r\n",
    "\r\n",
    "# Hitung nilai rata-rata dari kedua data yang dimiliki\r\n",
    "print('Rata-rata data1:')\r\n",
    "print(hitung_rata_rata(data1))\r\n",
    "print('Rata-rata data2:')\r\n",
    "print(hitung_rata_rata(data2))\r\n"
   ],
   "outputs": [
    {
     "output_type": "stream",
     "name": "stdout",
     "text": [
      "Rata-rata data1:\n",
      "105.0\n",
      "Rata-rata data2:\n",
      "73.0\n"
     ]
    }
   ],
   "metadata": {}
  },
  {
   "cell_type": "code",
   "execution_count": null,
   "source": [
    "# Dua buah data yang tersimpan dalam tipe list\r\n",
    "data1 = [70, 70, 70, 100, 100, 100, 120, 120, 150, 150]\r\n",
    "data2 = [50, 60, 60, 50, 70, 70, 100, 80, 100, 90]\r\n",
    "# Fungsi rata-rata data\r\n",
    "\r\n",
    "\r\n",
    "def hitung_rata_rata(data):\r\n",
    "    jumlah = 0\r\n",
    "    for item in data:\r\n",
    "        jumlah += item\r\n",
    "    rata_rata = jumlah/len(data)\r\n",
    "    return rata_rata\r\n",
    "# Definisikan fungsi hitung_standar_deviasi\r\n",
    "\r\n",
    "\r\n",
    "def hitung_standar_deviasi(data):\r\n",
    "    rata_rata_data = hitung_rata_rata(data)\r\n",
    "    varians = 0\r\n",
    "    for item in data:\r\n",
    "        varians += (item - rata_rata_data) ** 2\r\n",
    "    varians /= len(data)\r\n",
    "    standar_deviasi = varians ** (1/2)\r\n",
    "    return standar_deviasi\r\n",
    "\r\n",
    "\r\n",
    "# Hitung nilai standar deviasi dari kedua data yang dimiliki\r\n",
    "print('Standar deviasi data1:')\r\n",
    "print(hitung_standar_deviasi(data1))\r\n",
    "print('Standar deviasi data2:')\r\n",
    "print(hitung_standar_deviasi(data2))\r\n"
   ],
   "outputs": [
    {
     "output_type": "stream",
     "name": "stdout",
     "text": [
      "Standar deviasi data1:\n",
      "28.722813232690143\n",
      "Standar deviasi data2:\n",
      "17.916472867168917\n"
     ]
    }
   ],
   "metadata": {}
  },
  {
   "cell_type": "code",
   "execution_count": null,
   "source": [
    "# Data properti\r\n",
    "tabel_properti = {\r\n",
    "    'luas_tanah': [70, 70, 70, 100, 100, 100, 120, 120, 150, 150],\r\n",
    "    'luas_bangunan': [50, 60, 60, 50, 70, 70, 100, 80, 100, 90],\r\n",
    "    'jarak': [15, 30, 55, 30, 25, 50, 20, 50, 50, 15],\r\n",
    "    'harga': [500, 400, 300, 700, 1000, 650, 2000, 1200, 1800, 3000]\r\n",
    "}\r\n",
    "# Fungsi rata-rata data\r\n",
    "\r\n",
    "\r\n",
    "def hitung_rata_rata(data):\r\n",
    "    jumlah = 0\r\n",
    "    for item in data:\r\n",
    "        jumlah += item\r\n",
    "    rata_rata = jumlah/len(data)\r\n",
    "    return rata_rata\r\n",
    "# Fungsi hitung_standar_deviasi\r\n",
    "\r\n",
    "\r\n",
    "def hitung_standar_deviasi(data):\r\n",
    "    rata_rata_data = hitung_rata_rata(data)\r\n",
    "    varians = 0\r\n",
    "    for item in data:\r\n",
    "        varians += (item - rata_rata_data) ** 2\r\n",
    "        varians /= len(data)\r\n",
    "    standar_deviasi = varians ** (1/2)\r\n",
    "    return standar_deviasi\r\n",
    "# Definisikan fungsi untuk menghitung rata-rata dan standar deviasi\r\n",
    "# setiap kolom pada tabel_properti yang diberikan oleh key dict.\r\n",
    "\r\n",
    "\r\n",
    "def deskripsi_properti(tabel):\r\n",
    "    for key in tabel:\r\n",
    "        print('Rata-rata ' + key + ':')\r\n",
    "        print(hitung_rata_rata(tabel[key]))\r\n",
    "        print('Standar deviasi ' + key + ':')\r\n",
    "        print(hitung_standar_deviasi(tabel[key]))\r\n",
    "        print('')\r\n",
    "\r\n",
    "\r\n",
    "# Panggil fungsi deskripsi_properti untuk menghitung rata-rata\r\n",
    "# dan standar deviasi setiap kolom pada tabel_properti\r\n",
    "deskripsi_properti(tabel_properti)\r\n"
   ],
   "outputs": [
    {
     "output_type": "stream",
     "name": "stdout",
     "text": [
      "Rata-rata luas_tanah:\n",
      "105.0\n",
      "Standar deviasi luas_tanah:\n",
      "14.93311056335886\n",
      "\n",
      "Rata-rata luas_bangunan:\n",
      "73.0\n",
      "Standar deviasi luas_bangunan:\n",
      "6.025948374480153\n",
      "\n",
      "Rata-rata jarak:\n",
      "34.0\n",
      "Standar deviasi jarak:\n",
      "6.24005184770928\n",
      "\n",
      "Rata-rata harga:\n",
      "1155.0\n",
      "Standar deviasi harga:\n",
      "587.0594351517378\n",
      "\n"
     ]
    }
   ],
   "metadata": {}
  }
 ],
 "metadata": {
  "orig_nbformat": 4,
  "language_info": {
   "name": "python",
   "version": "3.8.8",
   "mimetype": "text/x-python",
   "codemirror_mode": {
    "name": "ipython",
    "version": 3
   },
   "pygments_lexer": "ipython3",
   "nbconvert_exporter": "python",
   "file_extension": ".py"
  },
  "kernelspec": {
   "name": "python3",
   "display_name": "Python 3.8.8 64-bit ('base': conda)"
  },
  "interpreter": {
   "hash": "b861759b14f6a8974d4715198817fc8cd0f39ecb7cbe98cc5748fea36c27e197"
  }
 },
 "nbformat": 4,
 "nbformat_minor": 2
}