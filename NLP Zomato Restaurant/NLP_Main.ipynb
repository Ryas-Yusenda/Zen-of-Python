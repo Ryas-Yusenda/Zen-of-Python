{
 "cells": [
  {
   "cell_type": "markdown",
   "metadata": {},
   "source": [
    "# Natural Language Processing Real World Use-cases\n",
    "\n",
    "#### [@ryasy_d](https://github.com/Ryas-Yusenda)\n"
   ]
  },
  {
   "cell_type": "code",
   "execution_count": 1,
   "metadata": {},
   "outputs": [],
   "source": [
    "import pandas as pd\n",
    "import numpy as np\n",
    "import matplotlib.pyplot as plt\n",
    "import seaborn as sns\n",
    "\n",
    "### so that u dont have warnings\n",
    "from warnings import filterwarnings\n",
    "filterwarnings('ignore')\n",
    "\n",
    "# <font color='F13454'> HEADING1\n",
    "## <font color='28A7EC'> HEADING2\n",
    "### <font color='DFBB63'> HEADING3\n"
   ]
  },
  {
   "cell_type": "code",
   "execution_count": 2,
   "metadata": {},
   "outputs": [],
   "source": [
    "## READ DATA\n",
    "df = pd.read_csv('zomato.csv')"
   ]
  },
  {
   "cell_type": "markdown",
   "metadata": {},
   "source": [
    "# <font color='F13454'> Predict the ratings of Zomato Restaurant"
   ]
  },
  {
   "cell_type": "markdown",
   "metadata": {},
   "source": [
    "## <font color='28A7EC'>Finding Empty Values"
   ]
  },
  {
   "cell_type": "code",
   "execution_count": 3,
   "metadata": {},
   "outputs": [
    {
     "data": {
      "text/plain": [
       "url                                0\n",
       "address                            0\n",
       "name                               0\n",
       "online_order                       0\n",
       "book_table                         0\n",
       "rate                            7775\n",
       "votes                              0\n",
       "phone                           1208\n",
       "location                          21\n",
       "rest_type                        227\n",
       "dish_liked                     28078\n",
       "cuisines                          45\n",
       "approx_cost(for two people)      346\n",
       "reviews_list                       0\n",
       "menu_item                          0\n",
       "listed_in(type)                    0\n",
       "listed_in(city)                    0\n",
       "dtype: int64"
      ]
     },
     "execution_count": 3,
     "metadata": {},
     "output_type": "execute_result"
    }
   ],
   "source": [
    "## HITUNG ADA BERAPA DATA KOSONG PER KOLOM\n",
    "df.isnull().sum()"
   ]
  },
  {
   "cell_type": "code",
   "execution_count": 4,
   "metadata": {},
   "outputs": [
    {
     "data": {
      "text/plain": [
       "Index(['url', 'address', 'name', 'online_order', 'book_table', 'rate', 'votes',\n",
       "       'phone', 'location', 'rest_type', 'dish_liked', 'cuisines',\n",
       "       'approx_cost(for two people)', 'reviews_list', 'menu_item',\n",
       "       'listed_in(type)', 'listed_in(city)'],\n",
       "      dtype='object')"
      ]
     },
     "execution_count": 4,
     "metadata": {},
     "output_type": "execute_result"
    }
   ],
   "source": [
    "## LIHAT SEMUA NAMA KOLOM\n",
    "df.columns"
   ]
  },
  {
   "cell_type": "code",
   "execution_count": 5,
   "metadata": {},
   "outputs": [
    {
     "data": {
      "text/plain": [
       "['rate',\n",
       " 'phone',\n",
       " 'location',\n",
       " 'rest_type',\n",
       " 'dish_liked',\n",
       " 'cuisines',\n",
       " 'approx_cost(for two people)']"
      ]
     },
     "execution_count": 5,
     "metadata": {},
     "output_type": "execute_result"
    }
   ],
   "source": [
    "## LIHAT SEMUA NAMA KOLOM YANG KOSONG\n",
    "[feature for feature in df.columns if df[feature].isnull().sum() > 0]\n"
   ]
  },
  {
   "cell_type": "code",
   "execution_count": 6,
   "metadata": {},
   "outputs": [
    {
     "data": {
      "text/plain": [
       "['rate',\n",
       " 'phone',\n",
       " 'location',\n",
       " 'rest_type',\n",
       " 'dish_liked',\n",
       " 'cuisines',\n",
       " 'approx_cost(for two people)']"
      ]
     },
     "execution_count": 6,
     "metadata": {},
     "output_type": "execute_result"
    }
   ],
   "source": [
    "## LIHAT SEMUA NAMA KOLOM YANG KOSONG\n",
    "feature_na = []\n",
    "\n",
    "for feature in df.columns:\n",
    "   if df[feature].isnull().sum() > 0:\n",
    "      feature_na.append(feature)\n",
    "\n",
    "feature_na\n"
   ]
  },
  {
   "cell_type": "code",
   "execution_count": 7,
   "metadata": {},
   "outputs": [
    {
     "name": "stdout",
     "output_type": "stream",
     "text": [
      "rate has 15.0337 % missing values\n",
      "phone has 2.3358 % missing values\n",
      "location has 0.0406 % missing values\n",
      "rest_type has 0.4389 % missing values\n",
      "dish_liked has 54.2916 % missing values\n",
      "cuisines has 0.087 % missing values\n",
      "approx_cost(for two people) has 0.669 % missing values\n"
     ]
    }
   ],
   "source": [
    "for feature in feature_na:\n",
    "   print('{} has {} % missing values'. format(feature, np.round(df[feature].isnull().sum()/len(df)*100,4)))\n"
   ]
  },
  {
   "cell_type": "code",
   "execution_count": 8,
   "metadata": {},
   "outputs": [
    {
     "name": "stdout",
     "output_type": "stream",
     "text": [
      "<class 'pandas.core.frame.DataFrame'>\n",
      "RangeIndex: 51717 entries, 0 to 51716\n",
      "Data columns (total 17 columns):\n",
      " #   Column                       Non-Null Count  Dtype \n",
      "---  ------                       --------------  ----- \n",
      " 0   url                          51717 non-null  object\n",
      " 1   address                      51717 non-null  object\n",
      " 2   name                         51717 non-null  object\n",
      " 3   online_order                 51717 non-null  object\n",
      " 4   book_table                   51717 non-null  object\n",
      " 5   rate                         43942 non-null  object\n",
      " 6   votes                        51717 non-null  int64 \n",
      " 7   phone                        50509 non-null  object\n",
      " 8   location                     51696 non-null  object\n",
      " 9   rest_type                    51490 non-null  object\n",
      " 10  dish_liked                   23639 non-null  object\n",
      " 11  cuisines                     51672 non-null  object\n",
      " 12  approx_cost(for two people)  51371 non-null  object\n",
      " 13  reviews_list                 51717 non-null  object\n",
      " 14  menu_item                    51717 non-null  object\n",
      " 15  listed_in(type)              51717 non-null  object\n",
      " 16  listed_in(city)              51717 non-null  object\n",
      "dtypes: int64(1), object(16)\n",
      "memory usage: 6.7+ MB\n"
     ]
    }
   ],
   "source": [
    "##  Non-Null DATA\n",
    "df.info()\n"
   ]
  },
  {
   "cell_type": "markdown",
   "metadata": {},
   "source": [
    "## <font color='28A7EC'>Delete Duplicate Values"
   ]
  },
  {
   "cell_type": "code",
   "execution_count": 9,
   "metadata": {},
   "outputs": [
    {
     "data": {
      "text/plain": [
       "8792"
      ]
     },
     "execution_count": 9,
     "metadata": {},
     "output_type": "execute_result"
    }
   ],
   "source": [
    "## MELIHAT JUMLAH NILAI VALUE YANG BERBEDA PADA KOLOM df['name']\n",
    "len(df['name'].unique())\n"
   ]
  },
  {
   "cell_type": "code",
   "execution_count": 10,
   "metadata": {},
   "outputs": [
    {
     "name": "stdout",
     "output_type": "stream",
     "text": [
      "url has 51717 / 51717 unique data\n",
      "address has 11495 / 51717 unique data\n",
      "name has 8792 / 51717 unique data\n",
      "online_order has 2 / 51717 unique data\n",
      "book_table has 2 / 51717 unique data\n",
      "rate has 65 / 51717 unique data\n",
      "votes has 2328 / 51717 unique data\n",
      "phone has 14927 / 51717 unique data\n",
      "location has 94 / 51717 unique data\n",
      "rest_type has 94 / 51717 unique data\n",
      "dish_liked has 5272 / 51717 unique data\n",
      "cuisines has 2724 / 51717 unique data\n",
      "approx_cost(for two people) has 71 / 51717 unique data\n",
      "reviews_list has 22513 / 51717 unique data\n",
      "menu_item has 9098 / 51717 unique data\n",
      "listed_in(type) has 7 / 51717 unique data\n",
      "listed_in(city) has 30 / 51717 unique data\n"
     ]
    }
   ],
   "source": [
    "## MELIHAT JUMLAH NILAI VALUE YANG BERBEDA PADA SEMUA KOLOM\n",
    "for feature in df.columns:\n",
    "   print('{} has {} / {} unique data'. format(feature,len(df[feature].unique()),len(df)))\n"
   ]
  },
  {
   "cell_type": "code",
   "execution_count": 11,
   "metadata": {},
   "outputs": [
    {
     "data": {
      "text/html": [
       "<div>\n",
       "<style scoped>\n",
       "    .dataframe tbody tr th:only-of-type {\n",
       "        vertical-align: middle;\n",
       "    }\n",
       "\n",
       "    .dataframe tbody tr th {\n",
       "        vertical-align: top;\n",
       "    }\n",
       "\n",
       "    .dataframe thead th {\n",
       "        text-align: right;\n",
       "    }\n",
       "</style>\n",
       "<table border=\"1\" class=\"dataframe\">\n",
       "  <thead>\n",
       "    <tr style=\"text-align: right;\">\n",
       "      <th></th>\n",
       "      <th>url</th>\n",
       "      <th>address</th>\n",
       "      <th>name</th>\n",
       "      <th>online_order</th>\n",
       "      <th>book_table</th>\n",
       "      <th>rate</th>\n",
       "      <th>votes</th>\n",
       "      <th>phone</th>\n",
       "      <th>location</th>\n",
       "      <th>rest_type</th>\n",
       "      <th>dish_liked</th>\n",
       "      <th>cuisines</th>\n",
       "      <th>approx_cost(for two people)</th>\n",
       "      <th>reviews_list</th>\n",
       "      <th>menu_item</th>\n",
       "      <th>listed_in(type)</th>\n",
       "      <th>listed_in(city)</th>\n",
       "    </tr>\n",
       "  </thead>\n",
       "  <tbody>\n",
       "    <tr>\n",
       "      <th>0</th>\n",
       "      <td>https://www.zomato.com/bangalore/jalsa-banasha...</td>\n",
       "      <td>942, 21st Main Road, 2nd Stage, Banashankari, ...</td>\n",
       "      <td>Jalsa</td>\n",
       "      <td>Yes</td>\n",
       "      <td>Yes</td>\n",
       "      <td>4.1/5</td>\n",
       "      <td>775</td>\n",
       "      <td>080 42297555\\r\\n+91 9743772233</td>\n",
       "      <td>Banashankari</td>\n",
       "      <td>Casual Dining</td>\n",
       "      <td>Pasta, Lunch Buffet, Masala Papad, Paneer Laja...</td>\n",
       "      <td>North Indian, Mughlai, Chinese</td>\n",
       "      <td>800</td>\n",
       "      <td>[('Rated 4.0', 'RATED\\n  A beautiful place to ...</td>\n",
       "      <td>[]</td>\n",
       "      <td>Buffet</td>\n",
       "      <td>Banashankari</td>\n",
       "    </tr>\n",
       "    <tr>\n",
       "      <th>1</th>\n",
       "      <td>https://www.zomato.com/bangalore/spice-elephan...</td>\n",
       "      <td>2nd Floor, 80 Feet Road, Near Big Bazaar, 6th ...</td>\n",
       "      <td>Spice Elephant</td>\n",
       "      <td>Yes</td>\n",
       "      <td>No</td>\n",
       "      <td>4.1/5</td>\n",
       "      <td>787</td>\n",
       "      <td>080 41714161</td>\n",
       "      <td>Banashankari</td>\n",
       "      <td>Casual Dining</td>\n",
       "      <td>Momos, Lunch Buffet, Chocolate Nirvana, Thai G...</td>\n",
       "      <td>Chinese, North Indian, Thai</td>\n",
       "      <td>800</td>\n",
       "      <td>[('Rated 4.0', 'RATED\\n  Had been here for din...</td>\n",
       "      <td>[]</td>\n",
       "      <td>Buffet</td>\n",
       "      <td>Banashankari</td>\n",
       "    </tr>\n",
       "    <tr>\n",
       "      <th>2</th>\n",
       "      <td>https://www.zomato.com/SanchurroBangalore?cont...</td>\n",
       "      <td>1112, Next to KIMS Medical College, 17th Cross...</td>\n",
       "      <td>San Churro Cafe</td>\n",
       "      <td>Yes</td>\n",
       "      <td>No</td>\n",
       "      <td>3.8/5</td>\n",
       "      <td>918</td>\n",
       "      <td>+91 9663487993</td>\n",
       "      <td>Banashankari</td>\n",
       "      <td>Cafe, Casual Dining</td>\n",
       "      <td>Churros, Cannelloni, Minestrone Soup, Hot Choc...</td>\n",
       "      <td>Cafe, Mexican, Italian</td>\n",
       "      <td>800</td>\n",
       "      <td>[('Rated 3.0', \"RATED\\n  Ambience is not that ...</td>\n",
       "      <td>[]</td>\n",
       "      <td>Buffet</td>\n",
       "      <td>Banashankari</td>\n",
       "    </tr>\n",
       "    <tr>\n",
       "      <th>3</th>\n",
       "      <td>https://www.zomato.com/bangalore/addhuri-udupi...</td>\n",
       "      <td>1st Floor, Annakuteera, 3rd Stage, Banashankar...</td>\n",
       "      <td>Addhuri Udupi Bhojana</td>\n",
       "      <td>No</td>\n",
       "      <td>No</td>\n",
       "      <td>3.7/5</td>\n",
       "      <td>88</td>\n",
       "      <td>+91 9620009302</td>\n",
       "      <td>Banashankari</td>\n",
       "      <td>Quick Bites</td>\n",
       "      <td>Masala Dosa</td>\n",
       "      <td>South Indian, North Indian</td>\n",
       "      <td>300</td>\n",
       "      <td>[('Rated 4.0', \"RATED\\n  Great food and proper...</td>\n",
       "      <td>[]</td>\n",
       "      <td>Buffet</td>\n",
       "      <td>Banashankari</td>\n",
       "    </tr>\n",
       "    <tr>\n",
       "      <th>4</th>\n",
       "      <td>https://www.zomato.com/bangalore/grand-village...</td>\n",
       "      <td>10, 3rd Floor, Lakshmi Associates, Gandhi Baza...</td>\n",
       "      <td>Grand Village</td>\n",
       "      <td>No</td>\n",
       "      <td>No</td>\n",
       "      <td>3.8/5</td>\n",
       "      <td>166</td>\n",
       "      <td>+91 8026612447\\r\\n+91 9901210005</td>\n",
       "      <td>Basavanagudi</td>\n",
       "      <td>Casual Dining</td>\n",
       "      <td>Panipuri, Gol Gappe</td>\n",
       "      <td>North Indian, Rajasthani</td>\n",
       "      <td>600</td>\n",
       "      <td>[('Rated 4.0', 'RATED\\n  Very good restaurant ...</td>\n",
       "      <td>[]</td>\n",
       "      <td>Buffet</td>\n",
       "      <td>Banashankari</td>\n",
       "    </tr>\n",
       "  </tbody>\n",
       "</table>\n",
       "</div>"
      ],
      "text/plain": [
       "                                                 url  \\\n",
       "0  https://www.zomato.com/bangalore/jalsa-banasha...   \n",
       "1  https://www.zomato.com/bangalore/spice-elephan...   \n",
       "2  https://www.zomato.com/SanchurroBangalore?cont...   \n",
       "3  https://www.zomato.com/bangalore/addhuri-udupi...   \n",
       "4  https://www.zomato.com/bangalore/grand-village...   \n",
       "\n",
       "                                             address                   name  \\\n",
       "0  942, 21st Main Road, 2nd Stage, Banashankari, ...                  Jalsa   \n",
       "1  2nd Floor, 80 Feet Road, Near Big Bazaar, 6th ...         Spice Elephant   \n",
       "2  1112, Next to KIMS Medical College, 17th Cross...        San Churro Cafe   \n",
       "3  1st Floor, Annakuteera, 3rd Stage, Banashankar...  Addhuri Udupi Bhojana   \n",
       "4  10, 3rd Floor, Lakshmi Associates, Gandhi Baza...          Grand Village   \n",
       "\n",
       "  online_order book_table   rate  votes                             phone  \\\n",
       "0          Yes        Yes  4.1/5    775    080 42297555\\r\\n+91 9743772233   \n",
       "1          Yes         No  4.1/5    787                      080 41714161   \n",
       "2          Yes         No  3.8/5    918                    +91 9663487993   \n",
       "3           No         No  3.7/5     88                    +91 9620009302   \n",
       "4           No         No  3.8/5    166  +91 8026612447\\r\\n+91 9901210005   \n",
       "\n",
       "       location            rest_type  \\\n",
       "0  Banashankari        Casual Dining   \n",
       "1  Banashankari        Casual Dining   \n",
       "2  Banashankari  Cafe, Casual Dining   \n",
       "3  Banashankari          Quick Bites   \n",
       "4  Basavanagudi        Casual Dining   \n",
       "\n",
       "                                          dish_liked  \\\n",
       "0  Pasta, Lunch Buffet, Masala Papad, Paneer Laja...   \n",
       "1  Momos, Lunch Buffet, Chocolate Nirvana, Thai G...   \n",
       "2  Churros, Cannelloni, Minestrone Soup, Hot Choc...   \n",
       "3                                        Masala Dosa   \n",
       "4                                Panipuri, Gol Gappe   \n",
       "\n",
       "                         cuisines approx_cost(for two people)  \\\n",
       "0  North Indian, Mughlai, Chinese                         800   \n",
       "1     Chinese, North Indian, Thai                         800   \n",
       "2          Cafe, Mexican, Italian                         800   \n",
       "3      South Indian, North Indian                         300   \n",
       "4        North Indian, Rajasthani                         600   \n",
       "\n",
       "                                        reviews_list menu_item  \\\n",
       "0  [('Rated 4.0', 'RATED\\n  A beautiful place to ...        []   \n",
       "1  [('Rated 4.0', 'RATED\\n  Had been here for din...        []   \n",
       "2  [('Rated 3.0', \"RATED\\n  Ambience is not that ...        []   \n",
       "3  [('Rated 4.0', \"RATED\\n  Great food and proper...        []   \n",
       "4  [('Rated 4.0', 'RATED\\n  Very good restaurant ...        []   \n",
       "\n",
       "  listed_in(type) listed_in(city)  \n",
       "0          Buffet    Banashankari  \n",
       "1          Buffet    Banashankari  \n",
       "2          Buffet    Banashankari  \n",
       "3          Buffet    Banashankari  \n",
       "4          Buffet    Banashankari  "
      ]
     },
     "execution_count": 11,
     "metadata": {},
     "output_type": "execute_result"
    }
   ],
   "source": [
    "df.head()\n"
   ]
  },
  {
   "cell_type": "code",
   "execution_count": 12,
   "metadata": {},
   "outputs": [
    {
     "data": {
      "text/html": [
       "<div>\n",
       "<style scoped>\n",
       "    .dataframe tbody tr th:only-of-type {\n",
       "        vertical-align: middle;\n",
       "    }\n",
       "\n",
       "    .dataframe tbody tr th {\n",
       "        vertical-align: top;\n",
       "    }\n",
       "\n",
       "    .dataframe thead th {\n",
       "        text-align: right;\n",
       "    }\n",
       "</style>\n",
       "<table border=\"1\" class=\"dataframe\">\n",
       "  <thead>\n",
       "    <tr style=\"text-align: right;\">\n",
       "      <th></th>\n",
       "      <th></th>\n",
       "      <th>listed_in(type)</th>\n",
       "    </tr>\n",
       "    <tr>\n",
       "      <th>name</th>\n",
       "      <th>address</th>\n",
       "      <th></th>\n",
       "    </tr>\n",
       "  </thead>\n",
       "  <tbody>\n",
       "    <tr>\n",
       "      <th>#FeelTheROLL</th>\n",
       "      <th>Opposite Mantri Commercio, Outer Ring Road, Devarabisanahalli, Near Sakra World Hospital</th>\n",
       "      <td>[Delivery, Delivery]</td>\n",
       "    </tr>\n",
       "    <tr>\n",
       "      <th>#L-81 Cafe</th>\n",
       "      <th>Sector 6, HSR Layout, HSR</th>\n",
       "      <td>[Delivery, Dine-out, Delivery, Dine-out, Deliv...</td>\n",
       "    </tr>\n",
       "    <tr>\n",
       "      <th>#Vibes Restro</th>\n",
       "      <th>Marasur Gate, Chandapura - Anekal Road, Near Aliance Collage, Electronic City, Bangalore</th>\n",
       "      <td>[Buffet, Delivery, Dine-out]</td>\n",
       "    </tr>\n",
       "    <tr>\n",
       "      <th>#refuel</th>\n",
       "      <th>7, Ground Floor, RR Commercial Complex, Akshay Nagar, Bannerghatta Road, Bangalore</th>\n",
       "      <td>[Cafes, Delivery, Dine-out]</td>\n",
       "    </tr>\n",
       "    <tr>\n",
       "      <th>'Brahmins' Thatte Idli</th>\n",
       "      <th>19, 1st main, 2nd cross, 3rd stage, 3rd block, Basaveshwara Nagar, Bangalore</th>\n",
       "      <td>[Dine-out]</td>\n",
       "    </tr>\n",
       "  </tbody>\n",
       "</table>\n",
       "</div>"
      ],
      "text/plain": [
       "                                                                                                             listed_in(type)\n",
       "name                   address                                                                                              \n",
       "#FeelTheROLL           Opposite Mantri Commercio, Outer Ring Road, Dev...                               [Delivery, Delivery]\n",
       "#L-81 Cafe             Sector 6, HSR Layout, HSR                           [Delivery, Dine-out, Delivery, Dine-out, Deliv...\n",
       "#Vibes Restro          Marasur Gate, Chandapura - Anekal Road, Near Al...                       [Buffet, Delivery, Dine-out]\n",
       "#refuel                7, Ground Floor, RR Commercial Complex, Akshay ...                        [Cafes, Delivery, Dine-out]\n",
       "'Brahmins' Thatte Idli 19, 1st main, 2nd cross, 3rd stage, 3rd block, ...                                         [Dine-out]"
      ]
     },
     "execution_count": 12,
     "metadata": {},
     "output_type": "execute_result"
    }
   ],
   "source": [
    "## MENCARI NILAI LISTED_IN(TYPE) YANG DIKELOMPOKAN BEDASARKAN NAMA DAN ALAMAT\n",
    "grouped = df.groupby([\"name\", \"address\"]).agg({\"listed_in(type)\": list})\n",
    "grouped.head()\n"
   ]
  },
  {
   "cell_type": "code",
   "execution_count": 13,
   "metadata": {},
   "outputs": [
    {
     "data": {
      "text/plain": [
       "(51717, 18)"
      ]
     },
     "execution_count": 13,
     "metadata": {},
     "output_type": "execute_result"
    }
   ],
   "source": [
    "## GABUNGKAN DATAFRAME\n",
    "new_def = pd.merge(grouped, df, on=(['name','address']))\n",
    "new_def.shape\n"
   ]
  },
  {
   "cell_type": "code",
   "execution_count": 14,
   "metadata": {},
   "outputs": [
    {
     "data": {
      "text/html": [
       "<div>\n",
       "<style scoped>\n",
       "    .dataframe tbody tr th:only-of-type {\n",
       "        vertical-align: middle;\n",
       "    }\n",
       "\n",
       "    .dataframe tbody tr th {\n",
       "        vertical-align: top;\n",
       "    }\n",
       "\n",
       "    .dataframe thead th {\n",
       "        text-align: right;\n",
       "    }\n",
       "</style>\n",
       "<table border=\"1\" class=\"dataframe\">\n",
       "  <thead>\n",
       "    <tr style=\"text-align: right;\">\n",
       "      <th></th>\n",
       "      <th>name</th>\n",
       "      <th>address</th>\n",
       "      <th>listed_in(type)_x</th>\n",
       "      <th>url</th>\n",
       "      <th>online_order</th>\n",
       "      <th>book_table</th>\n",
       "      <th>rate</th>\n",
       "      <th>votes</th>\n",
       "      <th>phone</th>\n",
       "      <th>location</th>\n",
       "      <th>rest_type</th>\n",
       "      <th>dish_liked</th>\n",
       "      <th>cuisines</th>\n",
       "      <th>approx_cost(for two people)</th>\n",
       "      <th>reviews_list</th>\n",
       "      <th>menu_item</th>\n",
       "      <th>listed_in(type)_y</th>\n",
       "      <th>listed_in(city)</th>\n",
       "    </tr>\n",
       "  </thead>\n",
       "  <tbody>\n",
       "    <tr>\n",
       "      <th>0</th>\n",
       "      <td>#FeelTheROLL</td>\n",
       "      <td>Opposite Mantri Commercio, Outer Ring Road, De...</td>\n",
       "      <td>[Delivery, Delivery]</td>\n",
       "      <td>https://www.zomato.com/bangalore/feeltheroll-b...</td>\n",
       "      <td>No</td>\n",
       "      <td>No</td>\n",
       "      <td>3.4/5</td>\n",
       "      <td>7</td>\n",
       "      <td>+91 9108342079\\r\\n+91 9886117901</td>\n",
       "      <td>Bellandur</td>\n",
       "      <td>Quick Bites</td>\n",
       "      <td>NaN</td>\n",
       "      <td>Fast Food</td>\n",
       "      <td>200</td>\n",
       "      <td>[('Rated 5.0', \"RATED\\n  Had an egg chicken ro...</td>\n",
       "      <td>[]</td>\n",
       "      <td>Delivery</td>\n",
       "      <td>Bellandur</td>\n",
       "    </tr>\n",
       "    <tr>\n",
       "      <th>1</th>\n",
       "      <td>#FeelTheROLL</td>\n",
       "      <td>Opposite Mantri Commercio, Outer Ring Road, De...</td>\n",
       "      <td>[Delivery, Delivery]</td>\n",
       "      <td>https://www.zomato.com/bangalore/feeltheroll-b...</td>\n",
       "      <td>No</td>\n",
       "      <td>No</td>\n",
       "      <td>3.4 /5</td>\n",
       "      <td>7</td>\n",
       "      <td>+91 9108342079\\n+91 9886117901</td>\n",
       "      <td>Bellandur</td>\n",
       "      <td>Quick Bites</td>\n",
       "      <td>NaN</td>\n",
       "      <td>Fast Food</td>\n",
       "      <td>200</td>\n",
       "      <td>[('Rated 5.0', \"RATED\\n  Had an egg chicken ro...</td>\n",
       "      <td>[]</td>\n",
       "      <td>Delivery</td>\n",
       "      <td>Sarjapur Road</td>\n",
       "    </tr>\n",
       "    <tr>\n",
       "      <th>2</th>\n",
       "      <td>#L-81 Cafe</td>\n",
       "      <td>Sector 6, HSR Layout, HSR</td>\n",
       "      <td>[Delivery, Dine-out, Delivery, Dine-out, Deliv...</td>\n",
       "      <td>https://www.zomato.com/bangalore/l-81-cafe-hsr...</td>\n",
       "      <td>Yes</td>\n",
       "      <td>No</td>\n",
       "      <td>3.9/5</td>\n",
       "      <td>48</td>\n",
       "      <td>+91 9986210891</td>\n",
       "      <td>HSR</td>\n",
       "      <td>Quick Bites</td>\n",
       "      <td>Burgers</td>\n",
       "      <td>Fast Food, Beverages</td>\n",
       "      <td>400</td>\n",
       "      <td>[('Rated 4.0', 'RATED\\n  This little cafe is s...</td>\n",
       "      <td>[]</td>\n",
       "      <td>Delivery</td>\n",
       "      <td>BTM</td>\n",
       "    </tr>\n",
       "    <tr>\n",
       "      <th>3</th>\n",
       "      <td>#L-81 Cafe</td>\n",
       "      <td>Sector 6, HSR Layout, HSR</td>\n",
       "      <td>[Delivery, Dine-out, Delivery, Dine-out, Deliv...</td>\n",
       "      <td>https://www.zomato.com/bangalore/l-81-cafe-hsr...</td>\n",
       "      <td>Yes</td>\n",
       "      <td>No</td>\n",
       "      <td>3.9/5</td>\n",
       "      <td>48</td>\n",
       "      <td>+91 9986210891</td>\n",
       "      <td>HSR</td>\n",
       "      <td>Quick Bites</td>\n",
       "      <td>Burgers</td>\n",
       "      <td>Fast Food, Beverages</td>\n",
       "      <td>400</td>\n",
       "      <td>[('Rated 4.0', 'RATED\\n  This little cafe is s...</td>\n",
       "      <td>[]</td>\n",
       "      <td>Dine-out</td>\n",
       "      <td>BTM</td>\n",
       "    </tr>\n",
       "    <tr>\n",
       "      <th>4</th>\n",
       "      <td>#L-81 Cafe</td>\n",
       "      <td>Sector 6, HSR Layout, HSR</td>\n",
       "      <td>[Delivery, Dine-out, Delivery, Dine-out, Deliv...</td>\n",
       "      <td>https://www.zomato.com/bangalore/l-81-cafe-hsr...</td>\n",
       "      <td>Yes</td>\n",
       "      <td>No</td>\n",
       "      <td>3.9/5</td>\n",
       "      <td>48</td>\n",
       "      <td>+91 9986210891</td>\n",
       "      <td>HSR</td>\n",
       "      <td>Quick Bites</td>\n",
       "      <td>Burgers</td>\n",
       "      <td>Fast Food, Beverages</td>\n",
       "      <td>400</td>\n",
       "      <td>[('Rated 4.0', 'RATED\\n  This little cafe is s...</td>\n",
       "      <td>[]</td>\n",
       "      <td>Delivery</td>\n",
       "      <td>HSR</td>\n",
       "    </tr>\n",
       "  </tbody>\n",
       "</table>\n",
       "</div>"
      ],
      "text/plain": [
       "           name                                            address  \\\n",
       "0  #FeelTheROLL  Opposite Mantri Commercio, Outer Ring Road, De...   \n",
       "1  #FeelTheROLL  Opposite Mantri Commercio, Outer Ring Road, De...   \n",
       "2    #L-81 Cafe                          Sector 6, HSR Layout, HSR   \n",
       "3    #L-81 Cafe                          Sector 6, HSR Layout, HSR   \n",
       "4    #L-81 Cafe                          Sector 6, HSR Layout, HSR   \n",
       "\n",
       "                                   listed_in(type)_x  \\\n",
       "0                               [Delivery, Delivery]   \n",
       "1                               [Delivery, Delivery]   \n",
       "2  [Delivery, Dine-out, Delivery, Dine-out, Deliv...   \n",
       "3  [Delivery, Dine-out, Delivery, Dine-out, Deliv...   \n",
       "4  [Delivery, Dine-out, Delivery, Dine-out, Deliv...   \n",
       "\n",
       "                                                 url online_order book_table  \\\n",
       "0  https://www.zomato.com/bangalore/feeltheroll-b...           No         No   \n",
       "1  https://www.zomato.com/bangalore/feeltheroll-b...           No         No   \n",
       "2  https://www.zomato.com/bangalore/l-81-cafe-hsr...          Yes         No   \n",
       "3  https://www.zomato.com/bangalore/l-81-cafe-hsr...          Yes         No   \n",
       "4  https://www.zomato.com/bangalore/l-81-cafe-hsr...          Yes         No   \n",
       "\n",
       "     rate  votes                             phone   location    rest_type  \\\n",
       "0   3.4/5      7  +91 9108342079\\r\\n+91 9886117901  Bellandur  Quick Bites   \n",
       "1  3.4 /5      7    +91 9108342079\\n+91 9886117901  Bellandur  Quick Bites   \n",
       "2   3.9/5     48                    +91 9986210891        HSR  Quick Bites   \n",
       "3   3.9/5     48                    +91 9986210891        HSR  Quick Bites   \n",
       "4   3.9/5     48                    +91 9986210891        HSR  Quick Bites   \n",
       "\n",
       "  dish_liked              cuisines approx_cost(for two people)  \\\n",
       "0        NaN             Fast Food                         200   \n",
       "1        NaN             Fast Food                         200   \n",
       "2    Burgers  Fast Food, Beverages                         400   \n",
       "3    Burgers  Fast Food, Beverages                         400   \n",
       "4    Burgers  Fast Food, Beverages                         400   \n",
       "\n",
       "                                        reviews_list menu_item  \\\n",
       "0  [('Rated 5.0', \"RATED\\n  Had an egg chicken ro...        []   \n",
       "1  [('Rated 5.0', \"RATED\\n  Had an egg chicken ro...        []   \n",
       "2  [('Rated 4.0', 'RATED\\n  This little cafe is s...        []   \n",
       "3  [('Rated 4.0', 'RATED\\n  This little cafe is s...        []   \n",
       "4  [('Rated 4.0', 'RATED\\n  This little cafe is s...        []   \n",
       "\n",
       "  listed_in(type)_y listed_in(city)  \n",
       "0          Delivery       Bellandur  \n",
       "1          Delivery   Sarjapur Road  \n",
       "2          Delivery             BTM  \n",
       "3          Dine-out             BTM  \n",
       "4          Delivery             HSR  "
      ]
     },
     "execution_count": 14,
     "metadata": {},
     "output_type": "execute_result"
    }
   ],
   "source": [
    "new_def.head()"
   ]
  },
  {
   "cell_type": "code",
   "execution_count": 15,
   "metadata": {},
   "outputs": [
    {
     "data": {
      "text/plain": [
       "(20915, 18)"
      ]
     },
     "execution_count": 15,
     "metadata": {},
     "output_type": "execute_result"
    }
   ],
   "source": [
    "##HAPUS DATA YANG DUPLIKAT BERDASARKAN 3 KATEGORI ['address', 'name', 'listed_in(type)_y']\n",
    "new_def.drop_duplicates(subset=['address', 'name', 'listed_in(type)_y'], inplace=True)\n",
    "new_def.shape\n"
   ]
  },
  {
   "cell_type": "code",
   "execution_count": 16,
   "metadata": {},
   "outputs": [],
   "source": [
    "## MENGUBAH INDEX\n",
    "new_def = new_def.reset_index(drop=True)\n"
   ]
  },
  {
   "cell_type": "code",
   "execution_count": 17,
   "metadata": {},
   "outputs": [
    {
     "data": {
      "text/html": [
       "<div>\n",
       "<style scoped>\n",
       "    .dataframe tbody tr th:only-of-type {\n",
       "        vertical-align: middle;\n",
       "    }\n",
       "\n",
       "    .dataframe tbody tr th {\n",
       "        vertical-align: top;\n",
       "    }\n",
       "\n",
       "    .dataframe thead th {\n",
       "        text-align: right;\n",
       "    }\n",
       "</style>\n",
       "<table border=\"1\" class=\"dataframe\">\n",
       "  <thead>\n",
       "    <tr style=\"text-align: right;\">\n",
       "      <th></th>\n",
       "      <th>name</th>\n",
       "      <th>address</th>\n",
       "      <th>listed_in(type)_x</th>\n",
       "      <th>url</th>\n",
       "      <th>online_order</th>\n",
       "      <th>book_table</th>\n",
       "      <th>rate</th>\n",
       "      <th>votes</th>\n",
       "      <th>phone</th>\n",
       "      <th>location</th>\n",
       "      <th>rest_type</th>\n",
       "      <th>dish_liked</th>\n",
       "      <th>cuisines</th>\n",
       "      <th>approx_cost(for two people)</th>\n",
       "      <th>reviews_list</th>\n",
       "      <th>menu_item</th>\n",
       "      <th>listed_in(type)_y</th>\n",
       "      <th>listed_in(city)</th>\n",
       "    </tr>\n",
       "  </thead>\n",
       "  <tbody>\n",
       "    <tr>\n",
       "      <th>0</th>\n",
       "      <td>#FeelTheROLL</td>\n",
       "      <td>Opposite Mantri Commercio, Outer Ring Road, De...</td>\n",
       "      <td>[Delivery, Delivery]</td>\n",
       "      <td>https://www.zomato.com/bangalore/feeltheroll-b...</td>\n",
       "      <td>No</td>\n",
       "      <td>No</td>\n",
       "      <td>3.4/5</td>\n",
       "      <td>7</td>\n",
       "      <td>+91 9108342079\\r\\n+91 9886117901</td>\n",
       "      <td>Bellandur</td>\n",
       "      <td>Quick Bites</td>\n",
       "      <td>NaN</td>\n",
       "      <td>Fast Food</td>\n",
       "      <td>200</td>\n",
       "      <td>[('Rated 5.0', \"RATED\\n  Had an egg chicken ro...</td>\n",
       "      <td>[]</td>\n",
       "      <td>Delivery</td>\n",
       "      <td>Bellandur</td>\n",
       "    </tr>\n",
       "    <tr>\n",
       "      <th>1</th>\n",
       "      <td>#L-81 Cafe</td>\n",
       "      <td>Sector 6, HSR Layout, HSR</td>\n",
       "      <td>[Delivery, Dine-out, Delivery, Dine-out, Deliv...</td>\n",
       "      <td>https://www.zomato.com/bangalore/l-81-cafe-hsr...</td>\n",
       "      <td>Yes</td>\n",
       "      <td>No</td>\n",
       "      <td>3.9/5</td>\n",
       "      <td>48</td>\n",
       "      <td>+91 9986210891</td>\n",
       "      <td>HSR</td>\n",
       "      <td>Quick Bites</td>\n",
       "      <td>Burgers</td>\n",
       "      <td>Fast Food, Beverages</td>\n",
       "      <td>400</td>\n",
       "      <td>[('Rated 4.0', 'RATED\\n  This little cafe is s...</td>\n",
       "      <td>[]</td>\n",
       "      <td>Delivery</td>\n",
       "      <td>BTM</td>\n",
       "    </tr>\n",
       "    <tr>\n",
       "      <th>2</th>\n",
       "      <td>#L-81 Cafe</td>\n",
       "      <td>Sector 6, HSR Layout, HSR</td>\n",
       "      <td>[Delivery, Dine-out, Delivery, Dine-out, Deliv...</td>\n",
       "      <td>https://www.zomato.com/bangalore/l-81-cafe-hsr...</td>\n",
       "      <td>Yes</td>\n",
       "      <td>No</td>\n",
       "      <td>3.9/5</td>\n",
       "      <td>48</td>\n",
       "      <td>+91 9986210891</td>\n",
       "      <td>HSR</td>\n",
       "      <td>Quick Bites</td>\n",
       "      <td>Burgers</td>\n",
       "      <td>Fast Food, Beverages</td>\n",
       "      <td>400</td>\n",
       "      <td>[('Rated 4.0', 'RATED\\n  This little cafe is s...</td>\n",
       "      <td>[]</td>\n",
       "      <td>Dine-out</td>\n",
       "      <td>BTM</td>\n",
       "    </tr>\n",
       "    <tr>\n",
       "      <th>3</th>\n",
       "      <td>#Vibes Restro</td>\n",
       "      <td>Marasur Gate, Chandapura - Anekal Road, Near A...</td>\n",
       "      <td>[Buffet, Delivery, Dine-out]</td>\n",
       "      <td>https://www.zomato.com/bangalore/vibes-restro-...</td>\n",
       "      <td>No</td>\n",
       "      <td>No</td>\n",
       "      <td>NaN</td>\n",
       "      <td>0</td>\n",
       "      <td>+91 9538911285</td>\n",
       "      <td>Electronic City</td>\n",
       "      <td>Casual Dining</td>\n",
       "      <td>NaN</td>\n",
       "      <td>Continental, Chinese, Italian</td>\n",
       "      <td>700</td>\n",
       "      <td>[('Rated 5.0', \"RATED\\n  Great service and don...</td>\n",
       "      <td>[]</td>\n",
       "      <td>Buffet</td>\n",
       "      <td>Electronic City</td>\n",
       "    </tr>\n",
       "    <tr>\n",
       "      <th>4</th>\n",
       "      <td>#Vibes Restro</td>\n",
       "      <td>Marasur Gate, Chandapura - Anekal Road, Near A...</td>\n",
       "      <td>[Buffet, Delivery, Dine-out]</td>\n",
       "      <td>https://www.zomato.com/bangalore/vibes-restro-...</td>\n",
       "      <td>No</td>\n",
       "      <td>No</td>\n",
       "      <td>NaN</td>\n",
       "      <td>0</td>\n",
       "      <td>+91 9538911285</td>\n",
       "      <td>Electronic City</td>\n",
       "      <td>Casual Dining</td>\n",
       "      <td>NaN</td>\n",
       "      <td>Continental, Chinese, Italian</td>\n",
       "      <td>700</td>\n",
       "      <td>[('Rated 5.0', \"RATED\\n  Great service and don...</td>\n",
       "      <td>[]</td>\n",
       "      <td>Delivery</td>\n",
       "      <td>Electronic City</td>\n",
       "    </tr>\n",
       "  </tbody>\n",
       "</table>\n",
       "</div>"
      ],
      "text/plain": [
       "            name                                            address  \\\n",
       "0   #FeelTheROLL  Opposite Mantri Commercio, Outer Ring Road, De...   \n",
       "1     #L-81 Cafe                          Sector 6, HSR Layout, HSR   \n",
       "2     #L-81 Cafe                          Sector 6, HSR Layout, HSR   \n",
       "3  #Vibes Restro  Marasur Gate, Chandapura - Anekal Road, Near A...   \n",
       "4  #Vibes Restro  Marasur Gate, Chandapura - Anekal Road, Near A...   \n",
       "\n",
       "                                   listed_in(type)_x  \\\n",
       "0                               [Delivery, Delivery]   \n",
       "1  [Delivery, Dine-out, Delivery, Dine-out, Deliv...   \n",
       "2  [Delivery, Dine-out, Delivery, Dine-out, Deliv...   \n",
       "3                       [Buffet, Delivery, Dine-out]   \n",
       "4                       [Buffet, Delivery, Dine-out]   \n",
       "\n",
       "                                                 url online_order book_table  \\\n",
       "0  https://www.zomato.com/bangalore/feeltheroll-b...           No         No   \n",
       "1  https://www.zomato.com/bangalore/l-81-cafe-hsr...          Yes         No   \n",
       "2  https://www.zomato.com/bangalore/l-81-cafe-hsr...          Yes         No   \n",
       "3  https://www.zomato.com/bangalore/vibes-restro-...           No         No   \n",
       "4  https://www.zomato.com/bangalore/vibes-restro-...           No         No   \n",
       "\n",
       "    rate  votes                             phone         location  \\\n",
       "0  3.4/5      7  +91 9108342079\\r\\n+91 9886117901        Bellandur   \n",
       "1  3.9/5     48                    +91 9986210891              HSR   \n",
       "2  3.9/5     48                    +91 9986210891              HSR   \n",
       "3    NaN      0                    +91 9538911285  Electronic City   \n",
       "4    NaN      0                    +91 9538911285  Electronic City   \n",
       "\n",
       "       rest_type dish_liked                       cuisines  \\\n",
       "0    Quick Bites        NaN                      Fast Food   \n",
       "1    Quick Bites    Burgers           Fast Food, Beverages   \n",
       "2    Quick Bites    Burgers           Fast Food, Beverages   \n",
       "3  Casual Dining        NaN  Continental, Chinese, Italian   \n",
       "4  Casual Dining        NaN  Continental, Chinese, Italian   \n",
       "\n",
       "  approx_cost(for two people)  \\\n",
       "0                         200   \n",
       "1                         400   \n",
       "2                         400   \n",
       "3                         700   \n",
       "4                         700   \n",
       "\n",
       "                                        reviews_list menu_item  \\\n",
       "0  [('Rated 5.0', \"RATED\\n  Had an egg chicken ro...        []   \n",
       "1  [('Rated 4.0', 'RATED\\n  This little cafe is s...        []   \n",
       "2  [('Rated 4.0', 'RATED\\n  This little cafe is s...        []   \n",
       "3  [('Rated 5.0', \"RATED\\n  Great service and don...        []   \n",
       "4  [('Rated 5.0', \"RATED\\n  Great service and don...        []   \n",
       "\n",
       "  listed_in(type)_y  listed_in(city)  \n",
       "0          Delivery        Bellandur  \n",
       "1          Delivery              BTM  \n",
       "2          Dine-out              BTM  \n",
       "3            Buffet  Electronic City  \n",
       "4          Delivery  Electronic City  "
      ]
     },
     "execution_count": 17,
     "metadata": {},
     "output_type": "execute_result"
    }
   ],
   "source": [
    "new_def.head()"
   ]
  },
  {
   "cell_type": "markdown",
   "metadata": {},
   "source": [
    "## <font color='28A7EC'>Analysing ['rate']"
   ]
  },
  {
   "cell_type": "code",
   "execution_count": 18,
   "metadata": {},
   "outputs": [
    {
     "data": {
      "text/plain": [
       "name                           object\n",
       "address                        object\n",
       "listed_in(type)_x              object\n",
       "url                            object\n",
       "online_order                   object\n",
       "book_table                     object\n",
       "rate                           object\n",
       "votes                           int64\n",
       "phone                          object\n",
       "location                       object\n",
       "rest_type                      object\n",
       "dish_liked                     object\n",
       "cuisines                       object\n",
       "approx_cost(for two people)    object\n",
       "reviews_list                   object\n",
       "menu_item                      object\n",
       "listed_in(type)_y              object\n",
       "listed_in(city)                object\n",
       "dtype: object"
      ]
     },
     "execution_count": 18,
     "metadata": {},
     "output_type": "execute_result"
    }
   ],
   "source": [
    "## LIHAT TIPE SEMUA KOLOM\n",
    "new_def.dtypes\n"
   ]
  },
  {
   "cell_type": "code",
   "execution_count": 19,
   "metadata": {},
   "outputs": [
    {
     "data": {
      "text/plain": [
       "array(['3.4/5', '3.9/5', nan, '3.7/5', '3.2/5', '3.5/5', '4.6/5', '4.1/5',\n",
       "       '4.2 /5', '4.3 /5', '4.2/5', '4.0/5', '4.0 /5', '3.9 /5', '4.1 /5',\n",
       "       '3.7 /5', '4.3/5', '3.1 /5', '3.6/5', '3.1/5', '3.3/5', '3.0/5',\n",
       "       '3.5 /5', '4.4/5', '4.5 /5', 'NEW', '3.3 /5', '3.8/5', '3.2 /5',\n",
       "       '3.6 /5', '4.5/5', '3.8 /5', '3.4 /5', '2.7/5', '2.7 /5', '2.8/5',\n",
       "       '3.0 /5', '2.9/5', '2.5 /5', '2.9 /5', '2.8 /5', '4.9/5', '4.7/5',\n",
       "       '4.8/5', '4.8 /5', '4.4 /5', '1.8/5', '2.4/5', '2.1/5', '2.5/5',\n",
       "       '-', '2.2/5', '4.7 /5', '2.6/5', '4.6 /5', '4.9 /5', '2.3/5',\n",
       "       '2.0 /5', '2.3 /5', '2.6 /5', '2.4 /5', '2.0/5'], dtype=object)"
      ]
     },
     "execution_count": 19,
     "metadata": {},
     "output_type": "execute_result"
    }
   ],
   "source": [
    "## LIHAT NILAI UNIK PADA KOLOM RATE\n",
    "new_def['rate'].unique()\n"
   ]
  },
  {
   "cell_type": "code",
   "execution_count": 20,
   "metadata": {},
   "outputs": [
    {
     "data": {
      "text/html": [
       "<div>\n",
       "<style scoped>\n",
       "    .dataframe tbody tr th:only-of-type {\n",
       "        vertical-align: middle;\n",
       "    }\n",
       "\n",
       "    .dataframe tbody tr th {\n",
       "        vertical-align: top;\n",
       "    }\n",
       "\n",
       "    .dataframe thead th {\n",
       "        text-align: right;\n",
       "    }\n",
       "</style>\n",
       "<table border=\"1\" class=\"dataframe\">\n",
       "  <thead>\n",
       "    <tr style=\"text-align: right;\">\n",
       "      <th></th>\n",
       "      <th>name</th>\n",
       "      <th>address</th>\n",
       "      <th>listed_in(type)_x</th>\n",
       "      <th>url</th>\n",
       "      <th>online_order</th>\n",
       "      <th>book_table</th>\n",
       "      <th>rate</th>\n",
       "      <th>votes</th>\n",
       "      <th>phone</th>\n",
       "      <th>location</th>\n",
       "      <th>rest_type</th>\n",
       "      <th>dish_liked</th>\n",
       "      <th>cuisines</th>\n",
       "      <th>approx_cost(for two people)</th>\n",
       "      <th>reviews_list</th>\n",
       "      <th>menu_item</th>\n",
       "      <th>listed_in(type)_y</th>\n",
       "      <th>listed_in(city)</th>\n",
       "      <th>rating</th>\n",
       "    </tr>\n",
       "  </thead>\n",
       "  <tbody>\n",
       "    <tr>\n",
       "      <th>0</th>\n",
       "      <td>#FeelTheROLL</td>\n",
       "      <td>Opposite Mantri Commercio, Outer Ring Road, De...</td>\n",
       "      <td>[Delivery, Delivery]</td>\n",
       "      <td>https://www.zomato.com/bangalore/feeltheroll-b...</td>\n",
       "      <td>No</td>\n",
       "      <td>No</td>\n",
       "      <td>3.4/5</td>\n",
       "      <td>7</td>\n",
       "      <td>+91 9108342079\\r\\n+91 9886117901</td>\n",
       "      <td>Bellandur</td>\n",
       "      <td>Quick Bites</td>\n",
       "      <td>NaN</td>\n",
       "      <td>Fast Food</td>\n",
       "      <td>200</td>\n",
       "      <td>[('Rated 5.0', \"RATED\\n  Had an egg chicken ro...</td>\n",
       "      <td>[]</td>\n",
       "      <td>Delivery</td>\n",
       "      <td>Bellandur</td>\n",
       "      <td>3.4</td>\n",
       "    </tr>\n",
       "    <tr>\n",
       "      <th>1</th>\n",
       "      <td>#L-81 Cafe</td>\n",
       "      <td>Sector 6, HSR Layout, HSR</td>\n",
       "      <td>[Delivery, Dine-out, Delivery, Dine-out, Deliv...</td>\n",
       "      <td>https://www.zomato.com/bangalore/l-81-cafe-hsr...</td>\n",
       "      <td>Yes</td>\n",
       "      <td>No</td>\n",
       "      <td>3.9/5</td>\n",
       "      <td>48</td>\n",
       "      <td>+91 9986210891</td>\n",
       "      <td>HSR</td>\n",
       "      <td>Quick Bites</td>\n",
       "      <td>Burgers</td>\n",
       "      <td>Fast Food, Beverages</td>\n",
       "      <td>400</td>\n",
       "      <td>[('Rated 4.0', 'RATED\\n  This little cafe is s...</td>\n",
       "      <td>[]</td>\n",
       "      <td>Delivery</td>\n",
       "      <td>BTM</td>\n",
       "      <td>3.9</td>\n",
       "    </tr>\n",
       "    <tr>\n",
       "      <th>2</th>\n",
       "      <td>#L-81 Cafe</td>\n",
       "      <td>Sector 6, HSR Layout, HSR</td>\n",
       "      <td>[Delivery, Dine-out, Delivery, Dine-out, Deliv...</td>\n",
       "      <td>https://www.zomato.com/bangalore/l-81-cafe-hsr...</td>\n",
       "      <td>Yes</td>\n",
       "      <td>No</td>\n",
       "      <td>3.9/5</td>\n",
       "      <td>48</td>\n",
       "      <td>+91 9986210891</td>\n",
       "      <td>HSR</td>\n",
       "      <td>Quick Bites</td>\n",
       "      <td>Burgers</td>\n",
       "      <td>Fast Food, Beverages</td>\n",
       "      <td>400</td>\n",
       "      <td>[('Rated 4.0', 'RATED\\n  This little cafe is s...</td>\n",
       "      <td>[]</td>\n",
       "      <td>Dine-out</td>\n",
       "      <td>BTM</td>\n",
       "      <td>3.9</td>\n",
       "    </tr>\n",
       "    <tr>\n",
       "      <th>3</th>\n",
       "      <td>#Vibes Restro</td>\n",
       "      <td>Marasur Gate, Chandapura - Anekal Road, Near A...</td>\n",
       "      <td>[Buffet, Delivery, Dine-out]</td>\n",
       "      <td>https://www.zomato.com/bangalore/vibes-restro-...</td>\n",
       "      <td>No</td>\n",
       "      <td>No</td>\n",
       "      <td>NaN</td>\n",
       "      <td>0</td>\n",
       "      <td>+91 9538911285</td>\n",
       "      <td>Electronic City</td>\n",
       "      <td>Casual Dining</td>\n",
       "      <td>NaN</td>\n",
       "      <td>Continental, Chinese, Italian</td>\n",
       "      <td>700</td>\n",
       "      <td>[('Rated 5.0', \"RATED\\n  Great service and don...</td>\n",
       "      <td>[]</td>\n",
       "      <td>Buffet</td>\n",
       "      <td>Electronic City</td>\n",
       "      <td>NaN</td>\n",
       "    </tr>\n",
       "    <tr>\n",
       "      <th>4</th>\n",
       "      <td>#Vibes Restro</td>\n",
       "      <td>Marasur Gate, Chandapura - Anekal Road, Near A...</td>\n",
       "      <td>[Buffet, Delivery, Dine-out]</td>\n",
       "      <td>https://www.zomato.com/bangalore/vibes-restro-...</td>\n",
       "      <td>No</td>\n",
       "      <td>No</td>\n",
       "      <td>NaN</td>\n",
       "      <td>0</td>\n",
       "      <td>+91 9538911285</td>\n",
       "      <td>Electronic City</td>\n",
       "      <td>Casual Dining</td>\n",
       "      <td>NaN</td>\n",
       "      <td>Continental, Chinese, Italian</td>\n",
       "      <td>700</td>\n",
       "      <td>[('Rated 5.0', \"RATED\\n  Great service and don...</td>\n",
       "      <td>[]</td>\n",
       "      <td>Delivery</td>\n",
       "      <td>Electronic City</td>\n",
       "      <td>NaN</td>\n",
       "    </tr>\n",
       "  </tbody>\n",
       "</table>\n",
       "</div>"
      ],
      "text/plain": [
       "            name                                            address  \\\n",
       "0   #FeelTheROLL  Opposite Mantri Commercio, Outer Ring Road, De...   \n",
       "1     #L-81 Cafe                          Sector 6, HSR Layout, HSR   \n",
       "2     #L-81 Cafe                          Sector 6, HSR Layout, HSR   \n",
       "3  #Vibes Restro  Marasur Gate, Chandapura - Anekal Road, Near A...   \n",
       "4  #Vibes Restro  Marasur Gate, Chandapura - Anekal Road, Near A...   \n",
       "\n",
       "                                   listed_in(type)_x  \\\n",
       "0                               [Delivery, Delivery]   \n",
       "1  [Delivery, Dine-out, Delivery, Dine-out, Deliv...   \n",
       "2  [Delivery, Dine-out, Delivery, Dine-out, Deliv...   \n",
       "3                       [Buffet, Delivery, Dine-out]   \n",
       "4                       [Buffet, Delivery, Dine-out]   \n",
       "\n",
       "                                                 url online_order book_table  \\\n",
       "0  https://www.zomato.com/bangalore/feeltheroll-b...           No         No   \n",
       "1  https://www.zomato.com/bangalore/l-81-cafe-hsr...          Yes         No   \n",
       "2  https://www.zomato.com/bangalore/l-81-cafe-hsr...          Yes         No   \n",
       "3  https://www.zomato.com/bangalore/vibes-restro-...           No         No   \n",
       "4  https://www.zomato.com/bangalore/vibes-restro-...           No         No   \n",
       "\n",
       "    rate  votes                             phone         location  \\\n",
       "0  3.4/5      7  +91 9108342079\\r\\n+91 9886117901        Bellandur   \n",
       "1  3.9/5     48                    +91 9986210891              HSR   \n",
       "2  3.9/5     48                    +91 9986210891              HSR   \n",
       "3    NaN      0                    +91 9538911285  Electronic City   \n",
       "4    NaN      0                    +91 9538911285  Electronic City   \n",
       "\n",
       "       rest_type dish_liked                       cuisines  \\\n",
       "0    Quick Bites        NaN                      Fast Food   \n",
       "1    Quick Bites    Burgers           Fast Food, Beverages   \n",
       "2    Quick Bites    Burgers           Fast Food, Beverages   \n",
       "3  Casual Dining        NaN  Continental, Chinese, Italian   \n",
       "4  Casual Dining        NaN  Continental, Chinese, Italian   \n",
       "\n",
       "  approx_cost(for two people)  \\\n",
       "0                         200   \n",
       "1                         400   \n",
       "2                         400   \n",
       "3                         700   \n",
       "4                         700   \n",
       "\n",
       "                                        reviews_list menu_item  \\\n",
       "0  [('Rated 5.0', \"RATED\\n  Had an egg chicken ro...        []   \n",
       "1  [('Rated 4.0', 'RATED\\n  This little cafe is s...        []   \n",
       "2  [('Rated 4.0', 'RATED\\n  This little cafe is s...        []   \n",
       "3  [('Rated 5.0', \"RATED\\n  Great service and don...        []   \n",
       "4  [('Rated 5.0', \"RATED\\n  Great service and don...        []   \n",
       "\n",
       "  listed_in(type)_y  listed_in(city) rating  \n",
       "0          Delivery        Bellandur    3.4  \n",
       "1          Delivery              BTM    3.9  \n",
       "2          Dine-out              BTM    3.9  \n",
       "3            Buffet  Electronic City    NaN  \n",
       "4          Delivery  Electronic City    NaN  "
      ]
     },
     "execution_count": 20,
     "metadata": {},
     "output_type": "execute_result"
    }
   ],
   "source": [
    "## BUAT KOLOM BARU UNTUK MENGAMBIL 3 TEXT STRING PADA KOLOM RATE, CONTOH[3.4/5 => 3.4]\n",
    "new_def['rating'] = new_def['rate'].str[:3]\n",
    "new_def.head()\n"
   ]
  },
  {
   "cell_type": "code",
   "execution_count": 21,
   "metadata": {},
   "outputs": [],
   "source": [
    "## GANTI DATA 'NEW' dan '-' MENJADI 0. KARENA DATA TERSEBUT HARUSNYA ANGKA\n",
    "new_def['rating'].replace('NEW', 0, inplace=True)\n",
    "new_def['rating'].replace('-', 0, inplace=True)\n"
   ]
  },
  {
   "cell_type": "code",
   "execution_count": 22,
   "metadata": {},
   "outputs": [
    {
     "data": {
      "text/plain": [
       "name                            object\n",
       "address                         object\n",
       "listed_in(type)_x               object\n",
       "url                             object\n",
       "online_order                    object\n",
       "book_table                      object\n",
       "rate                            object\n",
       "votes                            int64\n",
       "phone                           object\n",
       "location                        object\n",
       "rest_type                       object\n",
       "dish_liked                      object\n",
       "cuisines                        object\n",
       "approx_cost(for two people)     object\n",
       "reviews_list                    object\n",
       "menu_item                       object\n",
       "listed_in(type)_y               object\n",
       "listed_in(city)                 object\n",
       "rating                         float64\n",
       "dtype: object"
      ]
     },
     "execution_count": 22,
     "metadata": {},
     "output_type": "execute_result"
    }
   ],
   "source": [
    "## UBAH TIPE KOLOM RATING MENJADI NUMERIK\n",
    "new_def['rating'] = pd.to_numeric(new_def['rating'])\n",
    "new_def.dtypes"
   ]
  },
  {
   "cell_type": "code",
   "execution_count": 23,
   "metadata": {},
   "outputs": [
    {
     "data": {
      "text/plain": [
       "array([3.4, 3.9, nan, 3.7, 3.2, 3.5, 4.6, 4.1, 4.2, 4.3, 4. , 3.1, 3.6,\n",
       "       3.3, 3. , 4.4, 4.5, 0. , 3.8, 2.7, 2.8, 2.9, 2.5, 4.9, 4.7, 4.8,\n",
       "       1.8, 2.4, 2.1, 2.2, 2.6, 2.3, 2. ])"
      ]
     },
     "execution_count": 23,
     "metadata": {},
     "output_type": "execute_result"
    }
   ],
   "source": [
    "## LIHAT SETIAP DATA YANG UNIK PADA KOLOM RATING\n",
    "new_def['rating'].unique()"
   ]
  },
  {
   "cell_type": "code",
   "execution_count": 24,
   "metadata": {},
   "outputs": [
    {
     "data": {
      "text/plain": [
       "3383"
      ]
     },
     "execution_count": 24,
     "metadata": {},
     "output_type": "execute_result"
    }
   ],
   "source": [
    "## DATA KOSONG PADA KOLOM RATING\n",
    "new_def['rating'].isnull().sum()"
   ]
  },
  {
   "cell_type": "code",
   "execution_count": 25,
   "metadata": {},
   "outputs": [],
   "source": [
    "## BUAT KOLOM BARU BERNAMA ['rating_kategori'], DENGAN ISI KLASIFIKASI KOLOM ['rating']\n",
    "new_def['rating_kategori'] = pd.cut(new_def['rating'], bins=[1, 3.25, 4.1, 5.0], labels=[\"0\", \"1\", \"2\"])\n"
   ]
  },
  {
   "cell_type": "code",
   "execution_count": 26,
   "metadata": {},
   "outputs": [
    {
     "data": {
      "text/plain": [
       "<AxesSubplot:xlabel='rating_kategori', ylabel='count'>"
      ]
     },
     "execution_count": 26,
     "metadata": {},
     "output_type": "execute_result"
    },
    {
     "data": {
      "image/png": "[encoded data removed]",
      "text/plain": [
       "<Figure size 432x288 with 1 Axes>"
      ]
     },
     "metadata": {
      "needs_background": "light"
     },
     "output_type": "display_data"
    }
   ],
   "source": [
    "## TAMPILKAN PERBANDINGAN KLASIFIKASI KOLOM ['rating_kategori']\n",
    "sns.countplot(new_def['rating_kategori'])\n",
    "\n",
    "# 0 = LOW\n",
    "# 1 = MEDIUM\n",
    "# 2 = GOOD\n",
    " "
   ]
  },
  {
   "cell_type": "code",
   "execution_count": 27,
   "metadata": {},
   "outputs": [],
   "source": [
    "low, medium, good, nan = 0, 0, 0, 0\n",
    "\n",
    "for data in new_def['rating_kategori']:\n",
    "   if data == 'low':\n",
    "      low += 1\n",
    "   elif data == 'medium':\n",
    "      medium += 1\n",
    "   elif data == 'good':\n",
    "      good += 1\n",
    "   else:\n",
    "      nan += 1\n",
    "       \n"
   ]
  },
  {
   "cell_type": "markdown",
   "metadata": {},
   "source": [
    "### <font color='DFBB63'> Clear Data In Column ['reviews_list']"
   ]
  },
  {
   "cell_type": "code",
   "execution_count": 28,
   "metadata": {},
   "outputs": [
    {
     "data": {
      "text/plain": [
       "'[(\\'Rated 5.0\\', \"RATED\\\\n  Had an egg chicken roll and a paneer roll... Really yummy... A must visit place... It would be good if you guys can keep the shop open on Sunday\\'s as well.. Good luck... :-)\"), (\\'Rated 5.0\\', \\'RATED\\\\n  Not just the Roll but the filling tastes great. I would highly recommend to others to try their rolls. Owners hospitality is also good and very friendly.\\'), (\\'Rated 4.5\\', \\'RATED\\\\n  Very nice place complete value for money ? Highly recommend.Must visit for any foodie . I would recommend the egg chicken roll . #feeltheroll\\'), (\\'Rated 5.0\\', \\'RATED\\\\n  Had an amazing mouth-watering ?chicken roll?Worth every bite..A must try for every foodie?A variety of rolls and sandwiches are available as well .. A budding rafflesia ?\\')]'"
      ]
     },
     "execution_count": 28,
     "metadata": {},
     "output_type": "execute_result"
    }
   ],
   "source": [
    "## AMBIL CONTOH DATA PADA INDEK KE-0\n",
    "rev = new_def['reviews_list'][0]\n",
    "rev\n"
   ]
  },
  {
   "cell_type": "code",
   "execution_count": 29,
   "metadata": {},
   "outputs": [
    {
     "data": {
      "text/plain": [
       "'[(\\'rated 5.0\\', \"rated\\\\n  had an egg chicken roll and a paneer roll... really yummy... a must visit place... it would be good if you guys can keep the shop open on sunday\\'s as well.. good luck... :-)\"), (\\'rated 5.0\\', \\'rated\\\\n  not just the roll but the filling tastes great. i would highly recommend to others to try their rolls. owners hospitality is also good and very friendly.\\'), (\\'rated 4.5\\', \\'rated\\\\n  very nice place complete value for money ? highly recommend.must visit for any foodie . i would recommend the egg chicken roll . #feeltheroll\\'), (\\'rated 5.0\\', \\'rated\\\\n  had an amazing mouth-watering ?chicken roll?worth every bite..a must try for every foodie?a variety of rolls and sandwiches are available as well .. a budding rafflesia ?\\')]'"
      ]
     },
     "execution_count": 29,
     "metadata": {},
     "output_type": "execute_result"
    }
   ],
   "source": [
    "## UBAH ISI DATA MEJADI LOWERCASE\n",
    "rev = rev.lower()\n",
    "rev\n"
   ]
  },
  {
   "cell_type": "code",
   "execution_count": 30,
   "metadata": {},
   "outputs": [],
   "source": [
    "import re"
   ]
  },
  {
   "cell_type": "code",
   "execution_count": 31,
   "metadata": {},
   "outputs": [
    {
     "data": {
      "text/plain": [
       "'   rated        rated n  had an egg chicken roll and a paneer roll    really yummy    a must visit place    it would be good if you guys can keep the shop open on sunday s as well   good luck             rated        rated n  not just the roll but the filling tastes great  i would highly recommend to others to try their rolls  owners hospitality is also good and very friendly       rated        rated n  very nice place complete value for money   highly recommend must visit for any foodie   i would recommend the egg chicken roll    feeltheroll      rated        rated n  had an amazing mouth watering  chicken roll worth every bite  a must try for every foodie a variety of rolls and sandwiches are available as well    a budding rafflesia     '"
      ]
     },
     "execution_count": 31,
     "metadata": {},
     "output_type": "execute_result"
    }
   ],
   "source": [
    "## HAPUS ISI DATA KECUALI a-z , A_Z \n",
    "rev = re.sub('[^a-zA-Z]' ,' ' , rev)\n",
    "rev\n"
   ]
  },
  {
   "cell_type": "code",
   "execution_count": 32,
   "metadata": {},
   "outputs": [
    {
     "data": {
      "text/plain": [
       "'              n  had an egg chicken roll and a paneer roll    really yummy    a must visit place    it would be good if you guys can keep the shop open on sunday s as well   good luck                        n  not just the roll but the filling tastes great  i would highly recommend to others to try their rolls  owners hospitality is also good and very friendly                  n  very nice place complete value for money   highly recommend must visit for any foodie   i would recommend the egg chicken roll    feeltheroll                 n  had an amazing mouth watering  chicken roll worth every bite  a must try for every foodie a variety of rolls and sandwiches are available as well    a budding rafflesia     '"
      ]
     },
     "execution_count": 32,
     "metadata": {},
     "output_type": "execute_result"
    }
   ],
   "source": [
    "## HAPUS ISI DATA YANG ADA KATA 'rated'\n",
    "rev = re.sub('rated' ,' ' , rev)\n",
    "rev\n"
   ]
  },
  {
   "cell_type": "code",
   "execution_count": 33,
   "metadata": {},
   "outputs": [
    {
     "data": {
      "text/plain": [
       "' n had an egg chicken roll and a paneer roll really yummy a must visit place it would be good if you guys can keep the shop open on sunday s as well good luck n not just the roll but the filling tastes great i would highly recommend to others to try their rolls owners hospitality is also good and very friendly n very nice place complete value for money highly recommend must visit for any foodie i would recommend the egg chicken roll feeltheroll n had an amazing mouth watering chicken roll worth every bite a must try for every foodie a variety of rolls and sandwiches are available as well a budding rafflesia '"
      ]
     },
     "execution_count": 33,
     "metadata": {},
     "output_type": "execute_result"
    }
   ],
   "source": [
    "## HAPUS ISI DATA YANG SPASI BERLEBIH\n",
    "rev = re.sub(' +', ' ', rev)\n",
    "rev\n"
   ]
  },
  {
   "cell_type": "markdown",
   "metadata": {},
   "source": [
    "### <font color='DFBB63'>Creating Wordcloud"
   ]
  },
  {
   "cell_type": "code",
   "execution_count": 34,
   "metadata": {},
   "outputs": [],
   "source": [
    "## MEMBUAT FUNGSI UNTUK MENYATUKAN SEMUA DATA DI KOLOM ['reviews_list']\n",
    "def t_review(data):\n",
    "   t_rev = ''\n",
    "   for review in new_def['reviews_list']:\n",
    "      review = review.lower()\n",
    "      review = re.sub('[^a-zA-Z]', ' ', review)\n",
    "      review = re.sub('rated', ' ', review)\n",
    "      review = re.sub('x', ' ', review)\n",
    "      review = re.sub(' +', ' ', review)\n",
    "      t_rev = t_rev + str(review)\n",
    "   \n",
    "   ##SIMPAN DATA KE BENTUK TXT\n",
    "   f = open(\"total_reviev.txt\", \"w\")\n",
    "   f.write(t_rev)\n",
    "   \n",
    "   return t_rev\n"
   ]
  },
  {
   "cell_type": "code",
   "execution_count": 35,
   "metadata": {},
   "outputs": [],
   "source": [
    "## JALANKAN FUNGSI\n",
    "total_reviev = t_review(new_def['reviews_list'])\n",
    "\n",
    "## ATAU AMBIL DARI DATA SEBELUMNYA YANG PERNAH DIJALANKAN\n",
    "#total_reviev = open(\"total_reviev.txt\", \"r\").read()\n"
   ]
  },
  {
   "cell_type": "code",
   "execution_count": 36,
   "metadata": {},
   "outputs": [],
   "source": [
    "import wordcloud\n",
    "from wordcloud import WordCloud, STOPWORDS\n"
   ]
  },
  {
   "cell_type": "code",
   "execution_count": 37,
   "metadata": {},
   "outputs": [],
   "source": [
    "## MENGAMBIL STOPWORDS\n",
    "stopwords1 = STOPWORDS\n"
   ]
  },
  {
   "cell_type": "code",
   "execution_count": 38,
   "metadata": {},
   "outputs": [
    {
     "data": {
      "text/plain": [
       "(-0.5, 799.5, 799.5, -0.5)"
      ]
     },
     "execution_count": 38,
     "metadata": {},
     "output_type": "execute_result"
    },
    {
     "data": {
      "image/png": "[encoded data removed]",
      "text/plain": [
       "<Figure size 576x576 with 1 Axes>"
      ]
     },
     "metadata": {
      "needs_background": "light"
     },
     "output_type": "display_data"
    }
   ],
   "source": [
    "## MEMBUAT VISUALISASI DATA WORDLOUD\n",
    "wordcloud = WordCloud(width=800, height=800,\n",
    "                      background_color='white',\n",
    "                      stopwords=stopwords1,\n",
    "                      min_font_size=10).generate(total_reviev)\n",
    "\n",
    "# PLOT THE WORDCLOUD IMAGE\n",
    "plt.figure(figsize=(8, 8))\n",
    "plt.imshow(wordcloud)\n",
    "plt.axis(\"off\")\n"
   ]
  },
  {
   "cell_type": "markdown",
   "metadata": {},
   "source": [
    "### <font color='DFBB63'>Remove Stopwords"
   ]
  },
  {
   "cell_type": "code",
   "execution_count": 39,
   "metadata": {},
   "outputs": [],
   "source": [
    "from nltk.corpus import RegexpTokenizer as regextoken\n"
   ]
  },
  {
   "cell_type": "code",
   "execution_count": 40,
   "metadata": {},
   "outputs": [],
   "source": [
    "## MENGUBAH SEMUA ISI DATA PADA [\"reviews_list\"] MENJADI LOWCASE\n",
    "new_def[\"reviews_list\"] = new_def[\"reviews_list\"].apply(lambda x: x.lower())\n"
   ]
  },
  {
   "cell_type": "code",
   "execution_count": 41,
   "metadata": {},
   "outputs": [],
   "source": [
    "## MEMBUAT REGEX DARI a-z, A-Z, + ADALAH SPASI BERLEBIH.\n",
    "tokenizer = regextoken(\"[a-zA-Z]+\")\n"
   ]
  },
  {
   "cell_type": "code",
   "execution_count": 42,
   "metadata": {},
   "outputs": [
    {
     "data": {
      "text/plain": [
       "0    [('rated 5.0', \"rated\\n  had an egg chicken ro...\n",
       "1    [('rated 4.0', 'rated\\n  this little cafe is s...\n",
       "2    [('rated 4.0', 'rated\\n  this little cafe is s...\n",
       "3    [('rated 5.0', \"rated\\n  great service and don...\n",
       "4    [('rated 5.0', \"rated\\n  great service and don...\n",
       "Name: reviews_list, dtype: object"
      ]
     },
     "execution_count": 42,
     "metadata": {},
     "output_type": "execute_result"
    }
   ],
   "source": [
    "## LIHAT [\"reviews_list\"] DATA SEBANYAK 5\n",
    "new_def[\"reviews_list\"].head()\n"
   ]
  },
  {
   "cell_type": "code",
   "execution_count": 43,
   "metadata": {},
   "outputs": [],
   "source": [
    "## GUNAKAN REGEX UNTUK MEMBERSIHKAN DATA\n",
    "new_def[\"reviews_list\"] = new_def[\"reviews_list\"].apply(tokenizer.tokenize)\n"
   ]
  },
  {
   "cell_type": "code",
   "execution_count": 44,
   "metadata": {},
   "outputs": [
    {
     "data": {
      "text/plain": [
       "0    [rated, rated, n, had, an, egg, chicken, roll,...\n",
       "1    [rated, rated, n, this, little, cafe, is, set,...\n",
       "2    [rated, rated, n, this, little, cafe, is, set,...\n",
       "3    [rated, rated, n, great, service, and, don, t,...\n",
       "4    [rated, rated, n, great, service, and, don, t,...\n",
       "Name: reviews_list, dtype: object"
      ]
     },
     "execution_count": 44,
     "metadata": {},
     "output_type": "execute_result"
    }
   ],
   "source": [
    "## LIHAT [\"reviews_list\"] DATA SEBANYAK 5\n",
    "new_def[\"reviews_list\"].head()\n"
   ]
  },
  {
   "cell_type": "code",
   "execution_count": 45,
   "metadata": {},
   "outputs": [],
   "source": [
    "from nltk.corpus import stopwords"
   ]
  },
  {
   "cell_type": "code",
   "execution_count": 46,
   "metadata": {},
   "outputs": [
    {
     "name": "stdout",
     "output_type": "stream",
     "text": [
      "['i', 'me', 'my', 'myself', 'we', 'our', 'ours', 'ourselves', 'you', \"you're\", \"you've\", \"you'll\", \"you'd\", 'your', 'yours', 'yourself', 'yourselves', 'he', 'him', 'his', 'himself', 'she', \"she's\", 'her', 'hers', 'herself', 'it', \"it's\", 'its', 'itself', 'they', 'them', 'their', 'theirs', 'themselves', 'what', 'which', 'who', 'whom', 'this', 'that', \"that'll\", 'these', 'those', 'am', 'is', 'are', 'was', 'were', 'be', 'been', 'being', 'have', 'has', 'had', 'having', 'do', 'does', 'did', 'doing', 'a', 'an', 'the', 'and', 'but', 'if', 'or', 'because', 'as', 'until', 'while', 'of', 'at', 'by', 'for', 'with', 'about', 'against', 'between', 'into', 'through', 'during', 'before', 'after', 'above', 'below', 'to', 'from', 'up', 'down', 'in', 'out', 'on', 'off', 'over', 'under', 'again', 'further', 'then', 'once', 'here', 'there', 'when', 'where', 'why', 'how', 'all', 'any', 'both', 'each', 'few', 'more', 'most', 'other', 'some', 'such', 'no', 'nor', 'not', 'only', 'own', 'same', 'so', 'than', 'too', 'very', 's', 't', 'can', 'will', 'just', 'don', \"don't\", 'should', \"should've\", 'now', 'd', 'll', 'm', 'o', 're', 've', 'y', 'ain', 'aren', \"aren't\", 'couldn', \"couldn't\", 'didn', \"didn't\", 'doesn', \"doesn't\", 'hadn', \"hadn't\", 'hasn', \"hasn't\", 'haven', \"haven't\", 'isn', \"isn't\", 'ma', 'mightn', \"mightn't\", 'mustn', \"mustn't\", 'needn', \"needn't\", 'shan', \"shan't\", 'shouldn', \"shouldn't\", 'wasn', \"wasn't\", 'weren', \"weren't\", 'won', \"won't\", 'wouldn', \"wouldn't\"]\n"
     ]
    }
   ],
   "source": [
    "## TAMPILKAN STOPWORD\n",
    "stop = stopwords.words('english')\n",
    "print(stop)"
   ]
  },
  {
   "cell_type": "code",
   "execution_count": 47,
   "metadata": {},
   "outputs": [],
   "source": [
    "## TAMBAHKAN STOPWORD PADA VARIABLE STOP\n",
    "stop.extend([\"rated\", \"n\", \"nan\", \"x\"])\n"
   ]
  },
  {
   "cell_type": "code",
   "execution_count": 48,
   "metadata": {},
   "outputs": [
    {
     "name": "stdout",
     "output_type": "stream",
     "text": [
      "['rated', 'rated', 'n', 'had', 'an', 'egg', 'chicken', 'roll', 'and', 'a', 'paneer', 'roll', 'really', 'yummy', 'a', 'must', 'visit', 'place', 'it', 'would', 'be', 'good', 'if', 'you', 'guys', 'can', 'keep', 'the', 'shop', 'open', 'on', 'sunday', 's', 'as', 'well', 'good', 'luck', 'rated', 'rated', 'n', 'not', 'just', 'the', 'roll', 'but', 'the', 'filling', 'tastes', 'great', 'i', 'would', 'highly', 'recommend', 'to', 'others', 'to', 'try', 'their', 'rolls', 'owners', 'hospitality', 'is', 'also', 'good', 'and', 'very', 'friendly', 'rated', 'rated', 'n', 'very', 'nice', 'place', 'complete', 'value', 'for', 'money', 'highly', 'recommend', 'must', 'visit', 'for', 'any', 'foodie', 'i', 'would', 'recommend', 'the', 'egg', 'chicken', 'roll', 'feeltheroll', 'rated', 'rated', 'n', 'had', 'an', 'amazing', 'mouth', 'watering', 'chicken', 'roll', 'worth', 'every', 'bite', 'a', 'must', 'try', 'for', 'every', 'foodie', 'a', 'variety', 'of', 'rolls', 'and', 'sandwiches', 'are', 'available', 'as', 'well', 'a', 'budding', 'rafflesia']\n"
     ]
    }
   ],
   "source": [
    "## AMBIL SEMUA ISI KOLOM REVIEW  \n",
    "rev = new_def[\"reviews_list\"]\n",
    "print(rev[0])\n"
   ]
  },
  {
   "cell_type": "code",
   "execution_count": 49,
   "metadata": {},
   "outputs": [
    {
     "data": {
      "text/plain": [
       "'\\n#ATAU SAMA DENGAN\\n\\nrev_f=[]\\nfor token in rev:\\n   if token not in stop:\\n      rev_f.append(token)\\n\\nprint(rev_f)\\n'"
      ]
     },
     "execution_count": 49,
     "metadata": {},
     "output_type": "execute_result"
    }
   ],
   "source": [
    "## BUAT FUNGSI UNTUK MENGHAPUS STOPWORDS\n",
    "def remove_stopwords(text):\n",
    "    updated_text = [token for token in text if token not in stop]\n",
    "    return updated_text\n",
    " \n",
    "'''\n",
    "#ATAU SAMA DENGAN\n",
    "\n",
    "rev_f=[]\n",
    "for token in rev:\n",
    "   if token not in stop:\n",
    "      rev_f.append(token)\n",
    "\n",
    "print(rev_f)\n",
    "'''"
   ]
  },
  {
   "cell_type": "code",
   "execution_count": 50,
   "metadata": {},
   "outputs": [],
   "source": [
    "## MENGHAPUS SEMUA STOPWORD YANG ADA\n",
    "rev = rev.apply(remove_stopwords)\n"
   ]
  },
  {
   "cell_type": "code",
   "execution_count": 51,
   "metadata": {},
   "outputs": [
    {
     "name": "stdout",
     "output_type": "stream",
     "text": [
      "['egg', 'chicken', 'roll', 'paneer', 'roll', 'really', 'yummy', 'must', 'visit', 'place', 'would', 'good', 'guys', 'keep', 'shop', 'open', 'sunday', 'well', 'good', 'luck', 'roll', 'filling', 'tastes', 'great', 'would', 'highly', 'recommend', 'others', 'try', 'rolls', 'owners', 'hospitality', 'also', 'good', 'friendly', 'nice', 'place', 'complete', 'value', 'money', 'highly', 'recommend', 'must', 'visit', 'foodie', 'would', 'recommend', 'egg', 'chicken', 'roll', 'feeltheroll', 'amazing', 'mouth', 'watering', 'chicken', 'roll', 'worth', 'every', 'bite', 'must', 'try', 'every', 'foodie', 'variety', 'rolls', 'sandwiches', 'available', 'well', 'budding', 'rafflesia']\n"
     ]
    },
    {
     "data": {
      "text/plain": [
       "20915"
      ]
     },
     "execution_count": 51,
     "metadata": {},
     "output_type": "execute_result"
    }
   ],
   "source": [
    "## TAMPILKAN SALAH SATU BARIS REVIEW YANG TELAH DIBERSIHKAN STOPWORDS NYA\n",
    "print(rev[0])\n",
    "len(rev)\n"
   ]
  },
  {
   "cell_type": "markdown",
   "metadata": {},
   "source": [
    "### <font color='DFBB63'>Prepare Word Frequency"
   ]
  },
  {
   "cell_type": "code",
   "execution_count": 52,
   "metadata": {},
   "outputs": [],
   "source": [
    "## MENGGABUNGKAN SEMUA ULASAN UNTUK MENGHITUNG FREKUENSI SETIAP KATA\n",
    "all_reviews = rev.astype(str).str.cat()\n"
   ]
  },
  {
   "cell_type": "code",
   "execution_count": 53,
   "metadata": {},
   "outputs": [
    {
     "name": "stdout",
     "output_type": "stream",
     "text": [
      "['egg', 'chicken', 'roll', 'paneer', 'roll', 'really', 'yummy', 'must', 'visit', 'place', 'would', '\n",
      "<class 'str'>\n"
     ]
    }
   ],
   "source": [
    "## MELIHAT [0:100] ULASAN YANG MASIH DALAM BENTUR STR\n",
    "print(all_reviews[0:100])\n",
    "print(type(all_reviews))\n"
   ]
  },
  {
   "cell_type": "code",
   "execution_count": 54,
   "metadata": {},
   "outputs": [],
   "source": [
    "## LAKUKAN TOKENISASI UNTUK MENGUBAH STRING (all_reviews) MENJADI LIST\n",
    "cleaned_reviews = tokenizer.tokenize(all_reviews)\n"
   ]
  },
  {
   "cell_type": "code",
   "execution_count": 55,
   "metadata": {},
   "outputs": [
    {
     "name": "stdout",
     "output_type": "stream",
     "text": [
      "['egg', 'chicken', 'roll', 'paneer', 'roll', 'really', 'yummy', 'must', 'visit', 'place', 'would', 'good', 'guys', 'keep', 'shop', 'open', 'sunday', 'well', 'good', 'luck', 'roll', 'filling', 'tastes', 'great', 'would', 'highly', 'recommend', 'others', 'try', 'rolls', 'owners', 'hospitality', 'also', 'good', 'friendly', 'nice', 'place', 'complete', 'value', 'money', 'highly', 'recommend', 'must', 'visit', 'foodie', 'would', 'recommend', 'egg', 'chicken', 'roll', 'feeltheroll', 'amazing', 'mouth', 'watering', 'chicken', 'roll', 'worth', 'every', 'bite', 'must', 'try', 'every', 'foodie', 'variety', 'rolls', 'sandwiches', 'available', 'well', 'budding', 'rafflesia', 'little', 'cafe', 'set', 'beautiful', 'location', 'ambiance', 'good', 'nthe', 'burger', 'filled', 'taste', 'chicken', 'nthe', 'banana', 'chocolate', 'sandwich', 'variety', 'would', 'never', 'find', 'restaurants', 'bangalore', 'drinks', 'wonderful', 'lot', 'flavours', 'choose', 'nit', 'took', 'little']\n",
      "<class 'list'>\n"
     ]
    }
   ],
   "source": [
    "# MELIHAT [0:100] ULASAN YANG SUDAH DALAM BENTUR LIST\n",
    "print(cleaned_reviews[0:100])\n",
    "print(type(cleaned_reviews))\n"
   ]
  },
  {
   "cell_type": "markdown",
   "metadata": {},
   "source": [
    "### <font color='DFBB63'>Create a Unigram Frequency Plot"
   ]
  },
  {
   "cell_type": "code",
   "execution_count": 56,
   "metadata": {},
   "outputs": [],
   "source": [
    "from nltk import FreqDist\n"
   ]
  },
  {
   "cell_type": "code",
   "execution_count": 57,
   "metadata": {},
   "outputs": [],
   "source": [
    "fd = FreqDist()"
   ]
  },
  {
   "cell_type": "code",
   "execution_count": 58,
   "metadata": {},
   "outputs": [],
   "source": [
    "## MEMBUAT UNIGRAM ANALISIS\n",
    "for word in cleaned_reviews:\n",
    "   fd[word] += 1"
   ]
  },
  {
   "cell_type": "code",
   "execution_count": 59,
   "metadata": {},
   "outputs": [
    {
     "data": {
      "text/plain": [
       "[('good', 328304),\n",
       " ('place', 317915),\n",
       " ('food', 307405),\n",
       " ('chicken', 141301),\n",
       " ('service', 109512),\n",
       " ('ordered', 104221),\n",
       " ('taste', 93617),\n",
       " ('great', 93079),\n",
       " ('one', 88024),\n",
       " ('ambience', 85868)]"
      ]
     },
     "execution_count": 59,
     "metadata": {},
     "output_type": "execute_result"
    }
   ],
   "source": [
    "fd.most_common(10)"
   ]
  },
  {
   "cell_type": "code",
   "execution_count": 60,
   "metadata": {},
   "outputs": [
    {
     "data": {
      "image/png": "[encoded data removed]",
      "text/plain": [
       "<Figure size 1080x576 with 1 Axes>"
      ]
     },
     "metadata": {
      "needs_background": "light"
     },
     "output_type": "display_data"
    },
    {
     "data": {
      "text/plain": [
       "<AxesSubplot:xlabel='Samples', ylabel='Counts'>"
      ]
     },
     "execution_count": 60,
     "metadata": {},
     "output_type": "execute_result"
    }
   ],
   "source": [
    "## MENAMPILKAN PLOT UNIGRAM ANALISIS\n",
    "plt.figure(figsize=(15,8))\n",
    "fd.plot(50)\n"
   ]
  },
  {
   "cell_type": "markdown",
   "metadata": {},
   "source": [
    "<font color='D19A66'>\n",
    "Faktor-faktor yang berkontribusi terhadap pengalaman restoran disebutkan dalam urutan frekuensi (menurun) berikut:\n",
    "\n",
    "place > service > taste > ambience >time> staff > quality > menu  > quantity > friendly > delivery>.\n",
    "</font>"
   ]
  },
  {
   "cell_type": "markdown",
   "metadata": {},
   "source": [
    "### <font color='DFBB63'>Create a Bigram Frequency Plot"
   ]
  },
  {
   "cell_type": "code",
   "execution_count": 61,
   "metadata": {},
   "outputs": [],
   "source": [
    "from nltk import bigrams \n"
   ]
  },
  {
   "cell_type": "code",
   "execution_count": 62,
   "metadata": {},
   "outputs": [],
   "source": [
    "fd_bigram = FreqDist()\n"
   ]
  },
  {
   "cell_type": "code",
   "execution_count": 63,
   "metadata": {},
   "outputs": [],
   "source": [
    "## MEMBUAT BIGRAMS DARI cleaned_reviews\n",
    "bigrams = bigrams(cleaned_reviews)\n"
   ]
  },
  {
   "cell_type": "code",
   "execution_count": 64,
   "metadata": {},
   "outputs": [],
   "source": [
    "## MEMBUAT BIIGRAM ANALISIS\n",
    "for bigram in bigrams:\n",
    "   fd_bigram[bigram] += 1\n"
   ]
  },
  {
   "cell_type": "code",
   "execution_count": 65,
   "metadata": {},
   "outputs": [
    {
     "data": {
      "text/plain": [
       "[(('must', 'try'), 23182),\n",
       " (('really', 'good'), 22564),\n",
       " (('good', 'food'), 21589),\n",
       " (('food', 'good'), 21175),\n",
       " (('good', 'place'), 18690),\n",
       " (('visit', 'place'), 15832),\n",
       " (('non', 'veg'), 13561),\n",
       " (('one', 'best'), 13537),\n",
       " (('main', 'course'), 13470),\n",
       " (('ice', 'cream'), 12961)]"
      ]
     },
     "execution_count": 65,
     "metadata": {},
     "output_type": "execute_result"
    }
   ],
   "source": [
    "fd_bigram.most_common(10)"
   ]
  },
  {
   "cell_type": "code",
   "execution_count": 66,
   "metadata": {},
   "outputs": [
    {
     "data": {
      "image/png": "[encoded data removed]",
      "text/plain": [
       "<Figure size 1080x576 with 1 Axes>"
      ]
     },
     "metadata": {
      "needs_background": "light"
     },
     "output_type": "display_data"
    },
    {
     "data": {
      "text/plain": [
       "<AxesSubplot:xlabel='Samples', ylabel='Counts'>"
      ]
     },
     "execution_count": 66,
     "metadata": {},
     "output_type": "execute_result"
    }
   ],
   "source": [
    "## MENAMPILKAN PLOT BIGRAM ANALISIS\n",
    "plt.figure(figsize=(15,8))\n",
    "fd_bigram.plot(50)\n"
   ]
  },
  {
   "cell_type": "markdown",
   "metadata": {},
   "source": [
    "<font color='D19A66'>\n",
    "Faktor-faktor yang berkontribusi terhadap pengalaman restoran adalah:\n",
    "\n",
    "good food > good place > good service > value (for) money > pocket friendly > ambience good.\n",
    "\n",
    "Ada kata kunci di sini: faktor biaya, yang terlewatkan oleh jumlah frekuensi kata UNIGRAM, diambil oleh jumlah frekuensi BIGRAM.\n",
    "</font>"
   ]
  },
  {
   "cell_type": "markdown",
   "metadata": {},
   "source": [
    "### <font color='DFBB63'>Create a Trigram Frequency Plot"
   ]
  },
  {
   "cell_type": "code",
   "execution_count": 67,
   "metadata": {},
   "outputs": [],
   "source": [
    "from nltk import trigrams\n"
   ]
  },
  {
   "cell_type": "code",
   "execution_count": 68,
   "metadata": {},
   "outputs": [],
   "source": [
    "fd_trigram = FreqDist()"
   ]
  },
  {
   "cell_type": "code",
   "execution_count": 69,
   "metadata": {},
   "outputs": [],
   "source": [
    "## MEMBUAT TRIGRAMS DARI cleaned_reviews\n",
    "trigrams = trigrams(cleaned_reviews)\n"
   ]
  },
  {
   "cell_type": "code",
   "execution_count": 70,
   "metadata": {},
   "outputs": [],
   "source": [
    "## MEMBUAT TRIGRAM ANALISIS\n",
    "for trigram in trigrams:\n",
    "   fd_trigram[trigram] += 1\n"
   ]
  },
  {
   "cell_type": "code",
   "execution_count": 71,
   "metadata": {},
   "outputs": [
    {
     "data": {
      "text/plain": [
       "[(('must', 'visit', 'place'), 3982),\n",
       " (('f', 'f', 'f'), 3916),\n",
       " (('veg', 'non', 'veg'), 3734),\n",
       " (('north', 'indian', 'food'), 3433),\n",
       " (('place', 'hangout', 'friends'), 2824),\n",
       " (('food', 'really', 'good'), 2526),\n",
       " (('xa', 'xa', 'xa'), 2477),\n",
       " (('good', 'food', 'good'), 2205),\n",
       " (('place', 'hang', 'friends'), 1948),\n",
       " (('nfood', 'nambience', 'nservice'), 1931)]"
      ]
     },
     "execution_count": 71,
     "metadata": {},
     "output_type": "execute_result"
    }
   ],
   "source": [
    "fd_trigram.most_common(10)"
   ]
  },
  {
   "cell_type": "code",
   "execution_count": 72,
   "metadata": {},
   "outputs": [
    {
     "data": {
      "image/png": "[encoded data removed]",
      "text/plain": [
       "<Figure size 1080x576 with 1 Axes>"
      ]
     },
     "metadata": {
      "needs_background": "light"
     },
     "output_type": "display_data"
    },
    {
     "data": {
      "text/plain": [
       "<AxesSubplot:xlabel='Samples', ylabel='Counts'>"
      ]
     },
     "execution_count": 72,
     "metadata": {},
     "output_type": "execute_result"
    }
   ],
   "source": [
    "## MENAMPILKAN PLOT TRIGRAM ANALISIS\n",
    "plt.figure(figsize=(15,8))\n",
    "fd_trigram.plot(50)\n"
   ]
  },
  {
   "cell_type": "markdown",
   "metadata": {},
   "source": [
    "<font color='D19A66'>Preferensi makanan khusus yang dapat kita lihat di sini adalah north Indian Food, paneer butter masala, chicken fried rice, chicken ghee roast etc.</font>"
   ]
  },
  {
   "cell_type": "markdown",
   "metadata": {},
   "source": [
    "## <font color='28A7EC'>Analysing ['cuisines']"
   ]
  },
  {
   "cell_type": "markdown",
   "metadata": {},
   "source": [
    "### <font color='DFBB63'>Clean Data ['cuisines','rating_kategori']"
   ]
  },
  {
   "cell_type": "code",
   "execution_count": 73,
   "metadata": {},
   "outputs": [
    {
     "data": {
      "text/plain": [
       "Index(['name', 'address', 'listed_in(type)_x', 'url', 'online_order',\n",
       "       'book_table', 'rate', 'votes', 'phone', 'location', 'rest_type',\n",
       "       'dish_liked', 'cuisines', 'approx_cost(for two people)', 'reviews_list',\n",
       "       'menu_item', 'listed_in(type)_y', 'listed_in(city)', 'rating',\n",
       "       'rating_kategori'],\n",
       "      dtype='object')"
      ]
     },
     "execution_count": 73,
     "metadata": {},
     "output_type": "execute_result"
    }
   ],
   "source": [
    "## LIHAT NAMA KOLOM PADA DATAFRAME\n",
    "new_def.columns"
   ]
  },
  {
   "cell_type": "code",
   "execution_count": 74,
   "metadata": {},
   "outputs": [
    {
     "data": {
      "text/html": [
       "<div>\n",
       "<style scoped>\n",
       "    .dataframe tbody tr th:only-of-type {\n",
       "        vertical-align: middle;\n",
       "    }\n",
       "\n",
       "    .dataframe tbody tr th {\n",
       "        vertical-align: top;\n",
       "    }\n",
       "\n",
       "    .dataframe thead th {\n",
       "        text-align: right;\n",
       "    }\n",
       "</style>\n",
       "<table border=\"1\" class=\"dataframe\">\n",
       "  <thead>\n",
       "    <tr style=\"text-align: right;\">\n",
       "      <th></th>\n",
       "      <th>cuisines</th>\n",
       "      <th>rating_kategori</th>\n",
       "    </tr>\n",
       "  </thead>\n",
       "  <tbody>\n",
       "    <tr>\n",
       "      <th>0</th>\n",
       "      <td>Fast Food</td>\n",
       "      <td>1</td>\n",
       "    </tr>\n",
       "    <tr>\n",
       "      <th>1</th>\n",
       "      <td>Fast Food, Beverages</td>\n",
       "      <td>1</td>\n",
       "    </tr>\n",
       "    <tr>\n",
       "      <th>2</th>\n",
       "      <td>Fast Food, Beverages</td>\n",
       "      <td>1</td>\n",
       "    </tr>\n",
       "    <tr>\n",
       "      <th>3</th>\n",
       "      <td>Continental, Chinese, Italian</td>\n",
       "      <td>NaN</td>\n",
       "    </tr>\n",
       "    <tr>\n",
       "      <th>4</th>\n",
       "      <td>Continental, Chinese, Italian</td>\n",
       "      <td>NaN</td>\n",
       "    </tr>\n",
       "  </tbody>\n",
       "</table>\n",
       "</div>"
      ],
      "text/plain": [
       "                        cuisines rating_kategori\n",
       "0                      Fast Food               1\n",
       "1           Fast Food, Beverages               1\n",
       "2           Fast Food, Beverages               1\n",
       "3  Continental, Chinese, Italian             NaN\n",
       "4  Continental, Chinese, Italian             NaN"
      ]
     },
     "execution_count": 74,
     "metadata": {},
     "output_type": "execute_result"
    }
   ],
   "source": [
    "## AMBIL DATA YANG DIPERLUKAN DAN SIMPAN PADA DATAFRAME BARU\n",
    "cuisines = new_def[['cuisines','rating_kategori']]\n",
    "cuisines.head()\n"
   ]
  },
  {
   "cell_type": "code",
   "execution_count": 75,
   "metadata": {},
   "outputs": [
    {
     "data": {
      "text/plain": [
       "cuisines             23\n",
       "rating_kategori    4524\n",
       "dtype: int64"
      ]
     },
     "execution_count": 75,
     "metadata": {},
     "output_type": "execute_result"
    }
   ],
   "source": [
    "## CEK DATA YANG KOSONG\n",
    "cuisines.isnull().sum()"
   ]
  },
  {
   "cell_type": "code",
   "execution_count": 76,
   "metadata": {},
   "outputs": [
    {
     "name": "stdout",
     "output_type": "stream",
     "text": [
      "(20915, 2)\n",
      "(16388, 2)\n"
     ]
    }
   ],
   "source": [
    "## HAPUS DATA DATA YANG KOSONG\n",
    "print(cuisines.shape)\n",
    "cuisines.dropna(inplace=True)\n",
    "print(cuisines.shape)\n"
   ]
  },
  {
   "cell_type": "code",
   "execution_count": 77,
   "metadata": {},
   "outputs": [
    {
     "data": {
      "text/plain": [
       "cuisines           0\n",
       "rating_kategori    0\n",
       "dtype: int64"
      ]
     },
     "execution_count": 77,
     "metadata": {},
     "output_type": "execute_result"
    }
   ],
   "source": [
    "## CEK DATA YANG KOSONG\n",
    "cuisines.isnull().sum()"
   ]
  },
  {
   "cell_type": "markdown",
   "metadata": {},
   "source": [
    "### <font color='DFBB63'>Analysing Most famous ['cuisines']"
   ]
  },
  {
   "cell_type": "code",
   "execution_count": 78,
   "metadata": {},
   "outputs": [
    {
     "data": {
      "text/html": [
       "<div>\n",
       "<style scoped>\n",
       "    .dataframe tbody tr th:only-of-type {\n",
       "        vertical-align: middle;\n",
       "    }\n",
       "\n",
       "    .dataframe tbody tr th {\n",
       "        vertical-align: top;\n",
       "    }\n",
       "\n",
       "    .dataframe thead th {\n",
       "        text-align: right;\n",
       "    }\n",
       "</style>\n",
       "<table border=\"1\" class=\"dataframe\">\n",
       "  <thead>\n",
       "    <tr style=\"text-align: right;\">\n",
       "      <th></th>\n",
       "      <th>cuisines</th>\n",
       "      <th>rating_kategori</th>\n",
       "    </tr>\n",
       "  </thead>\n",
       "  <tbody>\n",
       "    <tr>\n",
       "      <th>0</th>\n",
       "      <td>fast food</td>\n",
       "      <td>1</td>\n",
       "    </tr>\n",
       "    <tr>\n",
       "      <th>1</th>\n",
       "      <td>fast food, beverages</td>\n",
       "      <td>1</td>\n",
       "    </tr>\n",
       "    <tr>\n",
       "      <th>2</th>\n",
       "      <td>fast food, beverages</td>\n",
       "      <td>1</td>\n",
       "    </tr>\n",
       "    <tr>\n",
       "      <th>6</th>\n",
       "      <td>cafe, beverages</td>\n",
       "      <td>1</td>\n",
       "    </tr>\n",
       "    <tr>\n",
       "      <th>7</th>\n",
       "      <td>cafe, beverages</td>\n",
       "      <td>1</td>\n",
       "    </tr>\n",
       "  </tbody>\n",
       "</table>\n",
       "</div>"
      ],
      "text/plain": [
       "               cuisines rating_kategori\n",
       "0             fast food               1\n",
       "1  fast food, beverages               1\n",
       "2  fast food, beverages               1\n",
       "6       cafe, beverages               1\n",
       "7       cafe, beverages               1"
      ]
     },
     "execution_count": 78,
     "metadata": {},
     "output_type": "execute_result"
    }
   ],
   "source": [
    "## UBAH SEMUA ISI DATA MENJADI LOWERCASE\n",
    "cuisines['cuisines'] = cuisines['cuisines'].apply(lambda x: x.lower())\n",
    "cuisines.head()\n"
   ]
  },
  {
   "cell_type": "code",
   "execution_count": 79,
   "metadata": {},
   "outputs": [
    {
     "data": {
      "text/html": [
       "<div>\n",
       "<style scoped>\n",
       "    .dataframe tbody tr th:only-of-type {\n",
       "        vertical-align: middle;\n",
       "    }\n",
       "\n",
       "    .dataframe tbody tr th {\n",
       "        vertical-align: top;\n",
       "    }\n",
       "\n",
       "    .dataframe thead th {\n",
       "        text-align: right;\n",
       "    }\n",
       "</style>\n",
       "<table border=\"1\" class=\"dataframe\">\n",
       "  <thead>\n",
       "    <tr style=\"text-align: right;\">\n",
       "      <th></th>\n",
       "      <th>cuisines</th>\n",
       "      <th>rating_kategori</th>\n",
       "    </tr>\n",
       "  </thead>\n",
       "  <tbody>\n",
       "    <tr>\n",
       "      <th>0</th>\n",
       "      <td>[fast, food]</td>\n",
       "      <td>1</td>\n",
       "    </tr>\n",
       "    <tr>\n",
       "      <th>1</th>\n",
       "      <td>[fast, food, beverages]</td>\n",
       "      <td>1</td>\n",
       "    </tr>\n",
       "    <tr>\n",
       "      <th>2</th>\n",
       "      <td>[fast, food, beverages]</td>\n",
       "      <td>1</td>\n",
       "    </tr>\n",
       "    <tr>\n",
       "      <th>6</th>\n",
       "      <td>[cafe, beverages]</td>\n",
       "      <td>1</td>\n",
       "    </tr>\n",
       "    <tr>\n",
       "      <th>7</th>\n",
       "      <td>[cafe, beverages]</td>\n",
       "      <td>1</td>\n",
       "    </tr>\n",
       "  </tbody>\n",
       "</table>\n",
       "</div>"
      ],
      "text/plain": [
       "                  cuisines rating_kategori\n",
       "0             [fast, food]               1\n",
       "1  [fast, food, beverages]               1\n",
       "2  [fast, food, beverages]               1\n",
       "6        [cafe, beverages]               1\n",
       "7        [cafe, beverages]               1"
      ]
     },
     "execution_count": 79,
     "metadata": {},
     "output_type": "execute_result"
    }
   ],
   "source": [
    "## BERSIHKAN KATA SELAIN HURUF (a-z A-Z) DAN SPASI BERLEBIH\n",
    "cuisines['cuisines'] = cuisines['cuisines'].apply(tokenizer.tokenize)\n",
    "cuisines.head()\n"
   ]
  },
  {
   "cell_type": "code",
   "execution_count": 80,
   "metadata": {},
   "outputs": [],
   "source": [
    "## SATUKAN SEMUA ISI KOLOM ['cuisines'] dalam bentur str\n",
    "all_cuisines = cuisines['cuisines'].astype(str).str.cat()\n"
   ]
  },
  {
   "cell_type": "code",
   "execution_count": 81,
   "metadata": {},
   "outputs": [],
   "source": [
    "## BERSIHKAN KATA SELAIN HURUF (a-z A-Z) DAN SPASI BERLEBIH\n",
    "clean_cuisines = tokenizer.tokenize(all_cuisines)\n"
   ]
  },
  {
   "cell_type": "code",
   "execution_count": 82,
   "metadata": {},
   "outputs": [],
   "source": [
    "fd_cuisines = FreqDist()"
   ]
  },
  {
   "cell_type": "code",
   "execution_count": 83,
   "metadata": {},
   "outputs": [],
   "source": [
    "## MEMBUAT ANALASIS UNIGRAM\n",
    "for cuisines in clean_cuisines:\n",
    "   fd_cuisines[cuisines] +=1\n"
   ]
  },
  {
   "cell_type": "code",
   "execution_count": 84,
   "metadata": {},
   "outputs": [
    {
     "data": {
      "image/png": "[encoded data removed]",
      "text/plain": [
       "<Figure size 1080x576 with 1 Axes>"
      ]
     },
     "metadata": {
      "needs_background": "light"
     },
     "output_type": "display_data"
    },
    {
     "data": {
      "text/plain": [
       "<AxesSubplot:xlabel='Samples', ylabel='Counts'>"
      ]
     },
     "execution_count": 84,
     "metadata": {},
     "output_type": "execute_result"
    }
   ],
   "source": [
    "## MENAMPILKAN PLOT ANALISIS\n",
    "plt.figure(figsize=(15, 8))\n",
    "fd_cuisines.plot(50)\n"
   ]
  },
  {
   "cell_type": "markdown",
   "metadata": {},
   "source": [
    "## <font color='28A7EC'> How to prepare our data for Machine Learning."
   ]
  },
  {
   "cell_type": "markdown",
   "metadata": {},
   "source": [
    "### <font color='DFBB63'> Prepare Data"
   ]
  },
  {
   "cell_type": "code",
   "execution_count": 85,
   "metadata": {},
   "outputs": [
    {
     "data": {
      "text/plain": [
       "name                             object\n",
       "address                          object\n",
       "listed_in(type)_x                object\n",
       "url                              object\n",
       "online_order                     object\n",
       "book_table                       object\n",
       "rate                             object\n",
       "votes                             int64\n",
       "phone                            object\n",
       "location                         object\n",
       "rest_type                        object\n",
       "dish_liked                       object\n",
       "cuisines                         object\n",
       "approx_cost(for two people)      object\n",
       "reviews_list                     object\n",
       "menu_item                        object\n",
       "listed_in(type)_y                object\n",
       "listed_in(city)                  object\n",
       "rating                          float64\n",
       "rating_kategori                category\n",
       "dtype: object"
      ]
     },
     "execution_count": 85,
     "metadata": {},
     "output_type": "execute_result"
    }
   ],
   "source": [
    "new_def.dtypes"
   ]
  },
  {
   "cell_type": "code",
   "execution_count": 86,
   "metadata": {},
   "outputs": [],
   "source": [
    "new_def[[\"reviews_list\", \"menu_item\", \"dish_liked\", \"cuisines\"]] = new_def[[\n",
    "    \"reviews_list\", \"menu_item\", \"dish_liked\", \"cuisines\"]].astype(\"str\")\n"
   ]
  },
  {
   "cell_type": "code",
   "execution_count": 87,
   "metadata": {},
   "outputs": [],
   "source": [
    "new_def[\"text\"] = new_def[\"reviews_list\"] + \" \" + new_def[\"menu_item\"] + \\\n",
    "    \" \" + new_def[\"dish_liked\"] + \" \" + new_def[\"cuisines\"]\n"
   ]
  },
  {
   "cell_type": "code",
   "execution_count": 88,
   "metadata": {},
   "outputs": [
    {
     "data": {
      "text/html": [
       "<div>\n",
       "<style scoped>\n",
       "    .dataframe tbody tr th:only-of-type {\n",
       "        vertical-align: middle;\n",
       "    }\n",
       "\n",
       "    .dataframe tbody tr th {\n",
       "        vertical-align: top;\n",
       "    }\n",
       "\n",
       "    .dataframe thead th {\n",
       "        text-align: right;\n",
       "    }\n",
       "</style>\n",
       "<table border=\"1\" class=\"dataframe\">\n",
       "  <thead>\n",
       "    <tr style=\"text-align: right;\">\n",
       "      <th></th>\n",
       "      <th>name</th>\n",
       "      <th>address</th>\n",
       "      <th>listed_in(type)_x</th>\n",
       "      <th>url</th>\n",
       "      <th>online_order</th>\n",
       "      <th>book_table</th>\n",
       "      <th>rate</th>\n",
       "      <th>votes</th>\n",
       "      <th>phone</th>\n",
       "      <th>location</th>\n",
       "      <th>...</th>\n",
       "      <th>dish_liked</th>\n",
       "      <th>cuisines</th>\n",
       "      <th>approx_cost(for two people)</th>\n",
       "      <th>reviews_list</th>\n",
       "      <th>menu_item</th>\n",
       "      <th>listed_in(type)_y</th>\n",
       "      <th>listed_in(city)</th>\n",
       "      <th>rating</th>\n",
       "      <th>rating_kategori</th>\n",
       "      <th>text</th>\n",
       "    </tr>\n",
       "  </thead>\n",
       "  <tbody>\n",
       "    <tr>\n",
       "      <th>0</th>\n",
       "      <td>#FeelTheROLL</td>\n",
       "      <td>Opposite Mantri Commercio, Outer Ring Road, De...</td>\n",
       "      <td>[Delivery, Delivery]</td>\n",
       "      <td>https://www.zomato.com/bangalore/feeltheroll-b...</td>\n",
       "      <td>No</td>\n",
       "      <td>No</td>\n",
       "      <td>3.4/5</td>\n",
       "      <td>7</td>\n",
       "      <td>+91 9108342079\\r\\n+91 9886117901</td>\n",
       "      <td>Bellandur</td>\n",
       "      <td>...</td>\n",
       "      <td>nan</td>\n",
       "      <td>Fast Food</td>\n",
       "      <td>200</td>\n",
       "      <td>['rated', 'rated', 'n', 'had', 'an', 'egg', 'c...</td>\n",
       "      <td>[]</td>\n",
       "      <td>Delivery</td>\n",
       "      <td>Bellandur</td>\n",
       "      <td>3.4</td>\n",
       "      <td>1</td>\n",
       "      <td>['rated', 'rated', 'n', 'had', 'an', 'egg', 'c...</td>\n",
       "    </tr>\n",
       "    <tr>\n",
       "      <th>1</th>\n",
       "      <td>#L-81 Cafe</td>\n",
       "      <td>Sector 6, HSR Layout, HSR</td>\n",
       "      <td>[Delivery, Dine-out, Delivery, Dine-out, Deliv...</td>\n",
       "      <td>https://www.zomato.com/bangalore/l-81-cafe-hsr...</td>\n",
       "      <td>Yes</td>\n",
       "      <td>No</td>\n",
       "      <td>3.9/5</td>\n",
       "      <td>48</td>\n",
       "      <td>+91 9986210891</td>\n",
       "      <td>HSR</td>\n",
       "      <td>...</td>\n",
       "      <td>Burgers</td>\n",
       "      <td>Fast Food, Beverages</td>\n",
       "      <td>400</td>\n",
       "      <td>['rated', 'rated', 'n', 'this', 'little', 'caf...</td>\n",
       "      <td>[]</td>\n",
       "      <td>Delivery</td>\n",
       "      <td>BTM</td>\n",
       "      <td>3.9</td>\n",
       "      <td>1</td>\n",
       "      <td>['rated', 'rated', 'n', 'this', 'little', 'caf...</td>\n",
       "    </tr>\n",
       "    <tr>\n",
       "      <th>2</th>\n",
       "      <td>#L-81 Cafe</td>\n",
       "      <td>Sector 6, HSR Layout, HSR</td>\n",
       "      <td>[Delivery, Dine-out, Delivery, Dine-out, Deliv...</td>\n",
       "      <td>https://www.zomato.com/bangalore/l-81-cafe-hsr...</td>\n",
       "      <td>Yes</td>\n",
       "      <td>No</td>\n",
       "      <td>3.9/5</td>\n",
       "      <td>48</td>\n",
       "      <td>+91 9986210891</td>\n",
       "      <td>HSR</td>\n",
       "      <td>...</td>\n",
       "      <td>Burgers</td>\n",
       "      <td>Fast Food, Beverages</td>\n",
       "      <td>400</td>\n",
       "      <td>['rated', 'rated', 'n', 'this', 'little', 'caf...</td>\n",
       "      <td>[]</td>\n",
       "      <td>Dine-out</td>\n",
       "      <td>BTM</td>\n",
       "      <td>3.9</td>\n",
       "      <td>1</td>\n",
       "      <td>['rated', 'rated', 'n', 'this', 'little', 'caf...</td>\n",
       "    </tr>\n",
       "    <tr>\n",
       "      <th>3</th>\n",
       "      <td>#Vibes Restro</td>\n",
       "      <td>Marasur Gate, Chandapura - Anekal Road, Near A...</td>\n",
       "      <td>[Buffet, Delivery, Dine-out]</td>\n",
       "      <td>https://www.zomato.com/bangalore/vibes-restro-...</td>\n",
       "      <td>No</td>\n",
       "      <td>No</td>\n",
       "      <td>NaN</td>\n",
       "      <td>0</td>\n",
       "      <td>+91 9538911285</td>\n",
       "      <td>Electronic City</td>\n",
       "      <td>...</td>\n",
       "      <td>nan</td>\n",
       "      <td>Continental, Chinese, Italian</td>\n",
       "      <td>700</td>\n",
       "      <td>['rated', 'rated', 'n', 'great', 'service', 'a...</td>\n",
       "      <td>[]</td>\n",
       "      <td>Buffet</td>\n",
       "      <td>Electronic City</td>\n",
       "      <td>NaN</td>\n",
       "      <td>NaN</td>\n",
       "      <td>['rated', 'rated', 'n', 'great', 'service', 'a...</td>\n",
       "    </tr>\n",
       "    <tr>\n",
       "      <th>4</th>\n",
       "      <td>#Vibes Restro</td>\n",
       "      <td>Marasur Gate, Chandapura - Anekal Road, Near A...</td>\n",
       "      <td>[Buffet, Delivery, Dine-out]</td>\n",
       "      <td>https://www.zomato.com/bangalore/vibes-restro-...</td>\n",
       "      <td>No</td>\n",
       "      <td>No</td>\n",
       "      <td>NaN</td>\n",
       "      <td>0</td>\n",
       "      <td>+91 9538911285</td>\n",
       "      <td>Electronic City</td>\n",
       "      <td>...</td>\n",
       "      <td>nan</td>\n",
       "      <td>Continental, Chinese, Italian</td>\n",
       "      <td>700</td>\n",
       "      <td>['rated', 'rated', 'n', 'great', 'service', 'a...</td>\n",
       "      <td>[]</td>\n",
       "      <td>Delivery</td>\n",
       "      <td>Electronic City</td>\n",
       "      <td>NaN</td>\n",
       "      <td>NaN</td>\n",
       "      <td>['rated', 'rated', 'n', 'great', 'service', 'a...</td>\n",
       "    </tr>\n",
       "  </tbody>\n",
       "</table>\n",
       "<p>5 rows × 21 columns</p>\n",
       "</div>"
      ],
      "text/plain": [
       "            name                                            address  \\\n",
       "0   #FeelTheROLL  Opposite Mantri Commercio, Outer Ring Road, De...   \n",
       "1     #L-81 Cafe                          Sector 6, HSR Layout, HSR   \n",
       "2     #L-81 Cafe                          Sector 6, HSR Layout, HSR   \n",
       "3  #Vibes Restro  Marasur Gate, Chandapura - Anekal Road, Near A...   \n",
       "4  #Vibes Restro  Marasur Gate, Chandapura - Anekal Road, Near A...   \n",
       "\n",
       "                                   listed_in(type)_x  \\\n",
       "0                               [Delivery, Delivery]   \n",
       "1  [Delivery, Dine-out, Delivery, Dine-out, Deliv...   \n",
       "2  [Delivery, Dine-out, Delivery, Dine-out, Deliv...   \n",
       "3                       [Buffet, Delivery, Dine-out]   \n",
       "4                       [Buffet, Delivery, Dine-out]   \n",
       "\n",
       "                                                 url online_order book_table  \\\n",
       "0  https://www.zomato.com/bangalore/feeltheroll-b...           No         No   \n",
       "1  https://www.zomato.com/bangalore/l-81-cafe-hsr...          Yes         No   \n",
       "2  https://www.zomato.com/bangalore/l-81-cafe-hsr...          Yes         No   \n",
       "3  https://www.zomato.com/bangalore/vibes-restro-...           No         No   \n",
       "4  https://www.zomato.com/bangalore/vibes-restro-...           No         No   \n",
       "\n",
       "    rate  votes                             phone         location  ...  \\\n",
       "0  3.4/5      7  +91 9108342079\\r\\n+91 9886117901        Bellandur  ...   \n",
       "1  3.9/5     48                    +91 9986210891              HSR  ...   \n",
       "2  3.9/5     48                    +91 9986210891              HSR  ...   \n",
       "3    NaN      0                    +91 9538911285  Electronic City  ...   \n",
       "4    NaN      0                    +91 9538911285  Electronic City  ...   \n",
       "\n",
       "  dish_liked                       cuisines approx_cost(for two people)  \\\n",
       "0        nan                      Fast Food                         200   \n",
       "1    Burgers           Fast Food, Beverages                         400   \n",
       "2    Burgers           Fast Food, Beverages                         400   \n",
       "3        nan  Continental, Chinese, Italian                         700   \n",
       "4        nan  Continental, Chinese, Italian                         700   \n",
       "\n",
       "                                        reviews_list menu_item  \\\n",
       "0  ['rated', 'rated', 'n', 'had', 'an', 'egg', 'c...        []   \n",
       "1  ['rated', 'rated', 'n', 'this', 'little', 'caf...        []   \n",
       "2  ['rated', 'rated', 'n', 'this', 'little', 'caf...        []   \n",
       "3  ['rated', 'rated', 'n', 'great', 'service', 'a...        []   \n",
       "4  ['rated', 'rated', 'n', 'great', 'service', 'a...        []   \n",
       "\n",
       "  listed_in(type)_y  listed_in(city) rating  rating_kategori  \\\n",
       "0          Delivery        Bellandur    3.4                1   \n",
       "1          Delivery              BTM    3.9                1   \n",
       "2          Dine-out              BTM    3.9                1   \n",
       "3            Buffet  Electronic City    NaN              NaN   \n",
       "4          Delivery  Electronic City    NaN              NaN   \n",
       "\n",
       "                                                text  \n",
       "0  ['rated', 'rated', 'n', 'had', 'an', 'egg', 'c...  \n",
       "1  ['rated', 'rated', 'n', 'this', 'little', 'caf...  \n",
       "2  ['rated', 'rated', 'n', 'this', 'little', 'caf...  \n",
       "3  ['rated', 'rated', 'n', 'great', 'service', 'a...  \n",
       "4  ['rated', 'rated', 'n', 'great', 'service', 'a...  \n",
       "\n",
       "[5 rows x 21 columns]"
      ]
     },
     "execution_count": 88,
     "metadata": {},
     "output_type": "execute_result"
    }
   ],
   "source": [
    "new_def.head()"
   ]
  },
  {
   "cell_type": "code",
   "execution_count": 89,
   "metadata": {},
   "outputs": [],
   "source": [
    "text_data = new_def[['text', 'rating_kategori']]\n"
   ]
  },
  {
   "cell_type": "code",
   "execution_count": 90,
   "metadata": {},
   "outputs": [
    {
     "data": {
      "text/html": [
       "<div>\n",
       "<style scoped>\n",
       "    .dataframe tbody tr th:only-of-type {\n",
       "        vertical-align: middle;\n",
       "    }\n",
       "\n",
       "    .dataframe tbody tr th {\n",
       "        vertical-align: top;\n",
       "    }\n",
       "\n",
       "    .dataframe thead th {\n",
       "        text-align: right;\n",
       "    }\n",
       "</style>\n",
       "<table border=\"1\" class=\"dataframe\">\n",
       "  <thead>\n",
       "    <tr style=\"text-align: right;\">\n",
       "      <th></th>\n",
       "      <th>text</th>\n",
       "      <th>rating_kategori</th>\n",
       "    </tr>\n",
       "  </thead>\n",
       "  <tbody>\n",
       "    <tr>\n",
       "      <th>0</th>\n",
       "      <td>['rated', 'rated', 'n', 'had', 'an', 'egg', 'c...</td>\n",
       "      <td>1</td>\n",
       "    </tr>\n",
       "    <tr>\n",
       "      <th>1</th>\n",
       "      <td>['rated', 'rated', 'n', 'this', 'little', 'caf...</td>\n",
       "      <td>1</td>\n",
       "    </tr>\n",
       "    <tr>\n",
       "      <th>2</th>\n",
       "      <td>['rated', 'rated', 'n', 'this', 'little', 'caf...</td>\n",
       "      <td>1</td>\n",
       "    </tr>\n",
       "    <tr>\n",
       "      <th>3</th>\n",
       "      <td>['rated', 'rated', 'n', 'great', 'service', 'a...</td>\n",
       "      <td>NaN</td>\n",
       "    </tr>\n",
       "    <tr>\n",
       "      <th>4</th>\n",
       "      <td>['rated', 'rated', 'n', 'great', 'service', 'a...</td>\n",
       "      <td>NaN</td>\n",
       "    </tr>\n",
       "  </tbody>\n",
       "</table>\n",
       "</div>"
      ],
      "text/plain": [
       "                                                text rating_kategori\n",
       "0  ['rated', 'rated', 'n', 'had', 'an', 'egg', 'c...               1\n",
       "1  ['rated', 'rated', 'n', 'this', 'little', 'caf...               1\n",
       "2  ['rated', 'rated', 'n', 'this', 'little', 'caf...               1\n",
       "3  ['rated', 'rated', 'n', 'great', 'service', 'a...             NaN\n",
       "4  ['rated', 'rated', 'n', 'great', 'service', 'a...             NaN"
      ]
     },
     "execution_count": 90,
     "metadata": {},
     "output_type": "execute_result"
    }
   ],
   "source": [
    "text_data.head()"
   ]
  },
  {
   "cell_type": "markdown",
   "metadata": {},
   "source": [
    "### <font color='DFBB63'> Prepare Colum ['text']"
   ]
  },
  {
   "cell_type": "code",
   "execution_count": 91,
   "metadata": {},
   "outputs": [
    {
     "data": {
      "text/plain": [
       "\"['rated', 'rated', 'n', 'had', 'an', 'egg', 'chicken', 'roll', 'and', 'a', 'paneer', 'roll', 'really', 'yummy', 'a', 'must', 'visit', 'place', 'it', 'would', 'be', 'good', 'if', 'you', 'guys', 'can', 'keep', 'the', 'shop', 'open', 'on', 'sunday', 's', 'as', 'well', 'good', 'luck', 'rated', 'rated', 'n', 'not', 'just', 'the', 'roll', 'but', 'the', 'filling', 'tastes', 'great', 'i', 'would', 'highly', 'recommend', 'to', 'others', 'to', 'try', 'their', 'rolls', 'owners', 'hospitality', 'is', 'also', 'good', 'and', 'very', 'friendly', 'rated', 'rated', 'n', 'very', 'nice', 'place', 'complete', 'value', 'for', 'money', 'highly', 'recommend', 'must', 'visit', 'for', 'any', 'foodie', 'i', 'would', 'recommend', 'the', 'egg', 'chicken', 'roll', 'feeltheroll', 'rated', 'rated', 'n', 'had', 'an', 'amazing', 'mouth', 'watering', 'chicken', 'roll', 'worth', 'every', 'bite', 'a', 'must', 'try', 'for', 'every', 'foodie', 'a', 'variety', 'of', 'rolls', 'and', 'sandwiches', 'are', 'available', 'as', 'well', 'a', 'budding', 'rafflesia'] [] nan Fast Food\""
      ]
     },
     "execution_count": 91,
     "metadata": {},
     "output_type": "execute_result"
    }
   ],
   "source": [
    "text_data['text'][0]"
   ]
  },
  {
   "cell_type": "code",
   "execution_count": 92,
   "metadata": {},
   "outputs": [
    {
     "data": {
      "text/plain": [
       "(2000, 2)"
      ]
     },
     "execution_count": 92,
     "metadata": {},
     "output_type": "execute_result"
    }
   ],
   "source": [
    "## KALAU INGIN AMBIL BEBERAPA SAMPE\n",
    "\n",
    "df_ml = text_data.sample(n=2000) #Ambil 2000 sample\n",
    "df_ml.reset_index(inplace=True)  #reset index\n",
    "df_ml.drop('index', axis=1, inplace=True) #hapus kolom 'index'\n",
    "df_ml.shape #Lihat ukuran  Dataframe\n",
    "\n",
    "# DISINI KITA MEMAKAI SEMUA SAMPLE YANG ADA\n",
    "# text_data = df_ml\n"
   ]
  },
  {
   "cell_type": "markdown",
   "metadata": {},
   "source": [
    "`what all things, u have to apply on your text column, basically`<br>\n",
    "`a.lowercase`<br>\n",
    "`b.tokenization`<br>\n",
    "`c.remove stopwords`<br>\n",
    "`d.lemmatization`<br>\n"
   ]
  },
  {
   "cell_type": "markdown",
   "metadata": {},
   "source": [
    "   `a.lowercase`"
   ]
  },
  {
   "cell_type": "code",
   "execution_count": 93,
   "metadata": {},
   "outputs": [
    {
     "data": {
      "text/plain": [
       "(20915, 2)"
      ]
     },
     "execution_count": 93,
     "metadata": {},
     "output_type": "execute_result"
    }
   ],
   "source": [
    "text_data.shape"
   ]
  },
  {
   "cell_type": "code",
   "execution_count": 94,
   "metadata": {},
   "outputs": [],
   "source": [
    "text_data['text'] = text_data['text'].apply(lambda x:x.lower())"
   ]
  },
  {
   "cell_type": "markdown",
   "metadata": {},
   "source": [
    "`b.tokenization`"
   ]
  },
  {
   "cell_type": "code",
   "execution_count": 95,
   "metadata": {},
   "outputs": [],
   "source": [
    "text_data['text'] = text_data['text'].apply(tokenizer.tokenize)"
   ]
  },
  {
   "cell_type": "code",
   "execution_count": 96,
   "metadata": {},
   "outputs": [
    {
     "name": "stdout",
     "output_type": "stream",
     "text": [
      "['rated', 'rated', 'n', 'had', 'an', 'egg', 'chicken', 'roll', 'and', 'a', 'paneer', 'roll', 'really', 'yummy', 'a', 'must', 'visit', 'place', 'it', 'would', 'be', 'good', 'if', 'you', 'guys', 'can', 'keep', 'the', 'shop', 'open', 'on', 'sunday', 's', 'as', 'well', 'good', 'luck', 'rated', 'rated', 'n', 'not', 'just', 'the', 'roll', 'but', 'the', 'filling', 'tastes', 'great', 'i', 'would', 'highly', 'recommend', 'to', 'others', 'to', 'try', 'their', 'rolls', 'owners', 'hospitality', 'is', 'also', 'good', 'and', 'very', 'friendly', 'rated', 'rated', 'n', 'very', 'nice', 'place', 'complete', 'value', 'for', 'money', 'highly', 'recommend', 'must', 'visit', 'for', 'any', 'foodie', 'i', 'would', 'recommend', 'the', 'egg', 'chicken', 'roll', 'feeltheroll', 'rated', 'rated', 'n', 'had', 'an', 'amazing', 'mouth', 'watering', 'chicken', 'roll', 'worth', 'every', 'bite', 'a', 'must', 'try', 'for', 'every', 'foodie', 'a', 'variety', 'of', 'rolls', 'and', 'sandwiches', 'are', 'available', 'as', 'well', 'a', 'budding', 'rafflesia', 'nan', 'fast', 'food']\n"
     ]
    }
   ],
   "source": [
    "print(text_data['text'][0])\n"
   ]
  },
  {
   "cell_type": "markdown",
   "metadata": {},
   "source": [
    "`c.remove stopwords`"
   ]
  },
  {
   "cell_type": "code",
   "execution_count": 97,
   "metadata": {},
   "outputs": [],
   "source": [
    "text_data['text'] = text_data['text'].apply(remove_stopwords)"
   ]
  },
  {
   "cell_type": "code",
   "execution_count": 98,
   "metadata": {},
   "outputs": [
    {
     "name": "stdout",
     "output_type": "stream",
     "text": [
      "['egg', 'chicken', 'roll', 'paneer', 'roll', 'really', 'yummy', 'must', 'visit', 'place', 'would', 'good', 'guys', 'keep', 'shop', 'open', 'sunday', 'well', 'good', 'luck', 'roll', 'filling', 'tastes', 'great', 'would', 'highly', 'recommend', 'others', 'try', 'rolls', 'owners', 'hospitality', 'also', 'good', 'friendly', 'nice', 'place', 'complete', 'value', 'money', 'highly', 'recommend', 'must', 'visit', 'foodie', 'would', 'recommend', 'egg', 'chicken', 'roll', 'feeltheroll', 'amazing', 'mouth', 'watering', 'chicken', 'roll', 'worth', 'every', 'bite', 'must', 'try', 'every', 'foodie', 'variety', 'rolls', 'sandwiches', 'available', 'well', 'budding', 'rafflesia', 'fast', 'food']\n"
     ]
    }
   ],
   "source": [
    "print(text_data['text'][0])\n"
   ]
  },
  {
   "cell_type": "markdown",
   "metadata": {},
   "source": [
    "`d.lemmatization`"
   ]
  },
  {
   "cell_type": "code",
   "execution_count": 99,
   "metadata": {},
   "outputs": [],
   "source": [
    "from nltk.stem import WordNetLemmatizer"
   ]
  },
  {
   "cell_type": "code",
   "execution_count": 100,
   "metadata": {},
   "outputs": [],
   "source": [
    "wl = WordNetLemmatizer()"
   ]
  },
  {
   "cell_type": "code",
   "execution_count": 101,
   "metadata": {},
   "outputs": [
    {
     "name": "stdout",
     "output_type": "stream",
     "text": [
      "['egg', 'chicken', 'roll', 'paneer', 'roll', 'really', 'yummy', 'must', 'visit', 'place', 'would', 'good', 'guys', 'keep', 'shop', 'open', 'sunday', 'well', 'good', 'luck', 'roll', 'filling', 'tastes', 'great', 'would', 'highly', 'recommend', 'others', 'try', 'rolls', 'owners', 'hospitality', 'also', 'good', 'friendly', 'nice', 'place', 'complete', 'value', 'money', 'highly', 'recommend', 'must', 'visit', 'foodie', 'would', 'recommend', 'egg', 'chicken', 'roll', 'feeltheroll', 'amazing', 'mouth', 'watering', 'chicken', 'roll', 'worth', 'every', 'bite', 'must', 'try', 'every', 'foodie', 'variety', 'rolls', 'sandwiches', 'available', 'well', 'budding', 'rafflesia', 'fast', 'food']\n"
     ]
    }
   ],
   "source": [
    "## AMBIL SATU SAMPLE\n",
    "\n",
    "word = text_data['text'][0]\n",
    "print(word)"
   ]
  },
  {
   "cell_type": "code",
   "execution_count": 114,
   "metadata": {},
   "outputs": [],
   "source": [
    "## BUAT FUNGSI\n",
    "\n",
    "def lem(text):\n",
    "   return [wl.lemmatize(word) for word in text]\n"
   ]
  },
  {
   "cell_type": "code",
   "execution_count": 115,
   "metadata": {},
   "outputs": [],
   "source": [
    "text_data['text'] = text_data['text'].apply(lem)\n"
   ]
  },
  {
   "cell_type": "code",
   "execution_count": 116,
   "metadata": {},
   "outputs": [
    {
     "name": "stdout",
     "output_type": "stream",
     "text": [
      "['egg', 'chicken', 'roll', 'paneer', 'roll', 'really', 'yummy', 'must', 'visit', 'place', 'would', 'good', 'guy', 'keep', 'shop', 'open', 'sunday', 'well', 'good', 'luck', 'roll', 'filling', 'taste', 'great', 'would', 'highly', 'recommend', 'others', 'try', 'roll', 'owner', 'hospitality', 'also', 'good', 'friendly', 'nice', 'place', 'complete', 'value', 'money', 'highly', 'recommend', 'must', 'visit', 'foodie', 'would', 'recommend', 'egg', 'chicken', 'roll', 'feeltheroll', 'amazing', 'mouth', 'watering', 'chicken', 'roll', 'worth', 'every', 'bite', 'must', 'try', 'every', 'foodie', 'variety', 'roll', 'sandwich', 'available', 'well', 'budding', 'rafflesia', 'fast', 'food']\n"
     ]
    }
   ],
   "source": [
    "print(text_data['text'][0])\n"
   ]
  },
  {
   "cell_type": "markdown",
   "metadata": {},
   "source": [
    "### <font color='DFBB63'> Prepare Colum ['rating_kategori']"
   ]
  },
  {
   "cell_type": "code",
   "execution_count": null,
   "metadata": {},
   "outputs": [],
   "source": []
  },
  {
   "cell_type": "markdown",
   "metadata": {},
   "source": [
    "# <font color='F13454'> Predict whether news is Fake or Real"
   ]
  },
  {
   "cell_type": "code",
   "execution_count": null,
   "metadata": {},
   "outputs": [],
   "source": []
  },
  {
   "cell_type": "markdown",
   "metadata": {},
   "source": [
    "# <font color='F13454'> Predict the winner of the Election"
   ]
  },
  {
   "cell_type": "code",
   "execution_count": null,
   "metadata": {},
   "outputs": [],
   "source": []
  }
 ],
 "metadata": {
  "interpreter": {
   "hash": "b861759b14f6a8974d4715198817fc8cd0f39ecb7cbe98cc5748fea36c27e197"
  },
  "kernelspec": {
   "display_name": "Python 3.8.8 64-bit ('base': conda)",
   "language": "python",
   "name": "python3"
  },
  "language_info": {
   "codemirror_mode": {
    "name": "ipython",
    "version": 3
   },
   "file_extension": ".py",
   "mimetype": "text/x-python",
   "name": "python",
   "nbconvert_exporter": "python",
   "pygments_lexer": "ipython3",
   "version": "3.8.8"
  },
  "orig_nbformat": 4
 },
 "nbformat": 4,
 "nbformat_minor": 2
}
