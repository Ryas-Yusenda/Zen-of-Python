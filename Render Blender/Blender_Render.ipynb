{
  "nbformat": 4,
  "nbformat_minor": 2,
  "metadata": {
    "colab": {
      "name": "Blender_Render.ipynb",
      "private_outputs": true,
      "provenance": [],
      "collapsed_sections": [],
      "include_colab_link": true
    },
    "kernelspec": {
      "name": "python3",
      "display_name": "Python 3"
    },
    "language_info": {
      "name": "python"
    },
    "accelerator": "GPU"
  },
  "cells": [
    {
      "cell_type": "markdown",
      "source": [
        "<a href=\"https://colab.research.google.com/github/Ryas-Yusenda/Render_Blender/blob/main/Blender_Render.ipynb\" target=\"_parent\"><img src=\"https://colab.research.google.com/assets/colab-badge.svg\" alt=\"Open In Colab\"/></a>"
      ],
      "metadata": {
        "id": "view-in-github",
        "colab_type": "text"
      }
    },
    {
      "cell_type": "code",
      "execution_count": null,
      "source": [
        "#Cek kapasitas memori dan disk yang didapat\r\n",
        "import psutil\r\n",
        "def get_size(bytes, suffix=\"B\"):\r\n",
        "    factor = 1024\r\n",
        "    for unit in [\"\", \"K\", \"M\", \"G\", \"T\", \"P\"]:\r\n",
        "        if bytes < factor:\r\n",
        "            return f\"{bytes:.2f}{unit}{suffix}\"\r\n",
        "        bytes /= factor\r\n",
        "print(\"=\"*40, \"Memory Information\", \"=\"*40)\r\n",
        "svmem = psutil.virtual_memory()\r\n",
        "print(f\"Total      : {get_size(svmem.total)}\")\r\n",
        "print(f\"Available  : {get_size(svmem.available)}\")\r\n",
        "print(f\"Used       : {get_size(svmem.used)}\")\r\n",
        "print(f\"Percentage : {svmem.percent}%\")"
      ],
      "outputs": [],
      "metadata": {
        "id": "h7sezB8rZqc0"
      }
    },
    {
      "cell_type": "code",
      "execution_count": null,
      "source": [
        "#cek VGA/GPU yang didapat\r\n",
        "! nvidia-smi\r\n"
      ],
      "outputs": [],
      "metadata": {
        "id": "tgz0oblTaEfk"
      }
    },
    {
      "cell_type": "code",
      "execution_count": null,
      "source": [
        "#@title Pilih Versi Blender (yang digunakan untuk rendering) lalu eksekusi kode cell{ display-mode: \"form\" }\r\n",
        "Blender_Version = 'Blender 2.91' #@param [\"Blender 2.79b\", \"Blender 2.80\", \"Blender 2.81\", \"Blender 2.82a\", \"Blender 2.83.0\", \"Blender 2.83.3\", \"Blender 2.90alpha (expiremental)\", \"Blender 2.90\", \"Blender 2.91\", \"Blender 2.92\", \"Blender 2.93\"]\r\n",
        "\r\n",
        "def path_leaf(path):\r\n",
        "  import ntpath\r\n",
        "  head, tail = ntpath.split(path)\r\n",
        "  return tail or ntpath.basename(head)\r\n",
        "\r\n",
        "dl_link = {\r\n",
        "    \"Blender 2.79b\": \"https://download.blender.org/release/Blender2.79/blender-2.79b-linux-glibc219-x86_64.tar.bz2\",\r\n",
        "    \"Blender 2.80\": \"https://download.blender.org/release/Blender2.80/blender-2.80-linux-glibc217-x86_64.tar.bz2\",\r\n",
        "    \"Blender 2.81\": \"https://download.blender.org/release/Blender2.81/blender-2.81-linux-glibc217-x86_64.tar.bz2\",\r\n",
        "    \"Blender 2.82a\": \"https://download.blender.org/release/Blender2.82/blender-2.82a-linux64.tar.xz\",\r\n",
        "    \"Blender 2.83.0\": \"https://download.blender.org/release/Blender2.83/blender-2.83.0-linux64.tar.xz\",\r\n",
        "    \"Blender 2.83.3\": \"https://download.blender.org/release/Blender2.83/blender-2.83.3-linux64.tar.xz\",\r\n",
        "    \"Blender 2.90alpha (expiremental)\": \"https://blender.community/5edccfe69c122126f183e2ad/download/5ef635439c12214ca244be6b\",\r\n",
        "    \"Blender 2.90\" : \"https://download.blender.org/release/Blender2.90/blender-2.90.0-linux64.tar.xz\",\r\n",
        "    \"Blender 2.91\" : \"https://download.blender.org/release/Blender2.91/blender-2.91.0-linux64.tar.xz\",\r\n",
        "    \"Blender 2.92\" : \"https://download.blender.org/release/Blender2.92/blender-2.92.0-linux64.tar.xz\",\r\n",
        "    \"Blender 2.93\" : \"https://download.blender.org/release/Blender2.93/blender-2.93.1-linux-x64.tar.xz\"\r\n",
        "}\r\n",
        "\r\n",
        "\r\n",
        "dl = dl_link[Blender_Version]\r\n",
        "filename = path_leaf(dl)\r\n",
        "\r\n",
        "if (Blender_Version == \"Blender 2.90alpha (expiremental)\"):\r\n",
        "  !wget $dl\r\n",
        "  !sudo apt-get install p7zip-full\r\n",
        "  !7z x $filename\r\n",
        "  !mv blender_290bM_e935447a5370-20200625-1857 blender\r\n",
        "\r\n",
        "\r\n",
        "\r\n",
        "else:\r\n",
        "  !wget -nc $dl\r\n",
        "  !mkdir ./blender && tar xf $filename -C ./blender --strip-components 1\r\n",
        "\r\n",
        "\r\n",
        "\r\n",
        "!apt install libboost-all-dev\r\n",
        "!apt install libgl1-mesa-dev\r\n",
        "!apt install libglu1-mesa libsm-dev\r\n",
        "\r\n",
        "\r\n",
        "data = \"import re\\n\"+\\\r\n",
        "    \"import bpy\\n\"+\\\r\n",
        "    \"scene = bpy.context.scene\\n\"+\\\r\n",
        "    \"scene.cycles.device = 'GPU'\\n\"+\\\r\n",
        "    \"prefs = bpy.context.preferences\\n\"+\\\r\n",
        "    \"prefs.addons['cycles'].preferences.get_devices()\\n\"+\\\r\n",
        "    \"cprefs = prefs.addons['cycles'].preferences\\n\"+\\\r\n",
        "    \"print(cprefs)\\n\"+\\\r\n",
        "    \"# Attempt to set GPU device types if available\\n\"+\\\r\n",
        "    \"for compute_device_type in ('CUDA', 'OPENCL', 'NONE'):\\n\"+\\\r\n",
        "    \"    try:\\n\"+\\\r\n",
        "    \"        cprefs.compute_device_type = compute_device_type\\n\"+\\\r\n",
        "    \"        print('Device found',compute_device_type)\\n\"+\\\r\n",
        "    \"        break\\n\"+\\\r\n",
        "    \"    except TypeError:\\n\"+\\\r\n",
        "    \"        pass\\n\"+\\\r\n",
        "    \"# Enable all CPU and GPU devices\\n\"+\\\r\n",
        "    \"for device in cprefs.devices:\\n\"+\\\r\n",
        "    \"    if not re.match('intel', device.name, re.I):\\n\"+\\\r\n",
        "    \"        print('Activating',device)\\n\"+\\\r\n",
        "    \"        device.use = True\\n\"\r\n",
        "with open('setgpu.py', 'w') as f:\r\n",
        "    f.write(data)"
      ],
      "outputs": [],
      "metadata": {
        "id": "eD0RreK3aP_I"
      }
    },
    {
      "cell_type": "code",
      "execution_count": null,
      "source": [
        "#Koneksikan antara Google Colab dengan drive\r\n",
        "from google.colab import drive\r\n",
        "drive.mount('/gdrive')"
      ],
      "outputs": [],
      "metadata": {
        "id": "ua_HBDQWaxmR"
      }
    },
    {
      "cell_type": "code",
      "execution_count": null,
      "source": [
        "#Koneksikan ke root folder di drive\r\n",
        "drive.mount('/content/drive')\r\n"
      ],
      "outputs": [],
      "metadata": {
        "id": "s1FFS88Ha-Up"
      }
    },
    {
      "cell_type": "code",
      "execution_count": null,
      "source": [
        "#Render single frame\r\n",
        "!sudo ./blender/blender -P setgpu.py -b '/content/drive/My Drive/GANTI-JADI-FOLDER-KALIAN/NAMA-FILE-BLEND-KALIAN.blend' -o '/content/drive/My Drive/GANTI-JADI-FOLDER-KALIAN/NAMA-GAMBAR.png' -f 1"
      ],
      "outputs": [],
      "metadata": {
        "id": "YjtjWWvGqMDT"
      }
    },
    {
      "cell_type": "code",
      "execution_count": null,
      "source": [
        "#Render animasi, jangan lupa untuk ganti jumlah framenya di paling akhir(ubah 128 menjadi jumlah frame yang diinginkan)\r\n",
        "!sudo ./blender/blender -P setgpu.py -b '/content/drive/My Drive/GANTI-JADI-FOLDER-KALIAN/NAMA-FILE-BLEND-KALIAN.blend' -o '/content/drive/My Drive/GANTI-JADI-FOLDER-KALIAN/NAMA-GAMBAR_####.png' -s 1 -e 128 -a\r\n"
      ],
      "outputs": [],
      "metadata": {
        "id": "aqt-JG9vd2hE"
      }
    }
  ]
}