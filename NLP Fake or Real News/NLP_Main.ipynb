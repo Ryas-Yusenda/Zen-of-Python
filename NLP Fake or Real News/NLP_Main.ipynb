{
 "cells": [
  {
   "cell_type": "markdown",
   "metadata": {},
   "source": [
    "# Natural Language Processing Real World Use-cases\n",
    "\n",
    "#### [@ryasy_d](https://github.com/Ryas-Yusenda)\n"
   ]
  },
  {
   "cell_type": "code",
   "execution_count": 1,
   "metadata": {},
   "outputs": [],
   "source": [
    "import pandas as pd\n",
    "import numpy as np\n",
    "import seaborn as sns\n",
    "\n",
    "### so that u dont have warnings\n",
    "from warnings import filterwarnings\n",
    "filterwarnings('ignore')\n",
    "\n",
    "# <font color='F13454'> HEADING1\n",
    "## <font color='28A7EC'> HEADING2\n",
    "### <font color='DFBB63'> HEADING3"
   ]
  },
  {
   "cell_type": "code",
   "execution_count": 2,
   "metadata": {},
   "outputs": [],
   "source": [
    "df = pd.read_csv('fake_or_real_news.csv')\n"
   ]
  },
  {
   "cell_type": "markdown",
   "metadata": {},
   "source": [
    "# <font color='F13454'> How to obtain label distribution"
   ]
  },
  {
   "cell_type": "code",
   "execution_count": 3,
   "metadata": {},
   "outputs": [
    {
     "data": {
      "text/html": [
       "<div>\n",
       "<style scoped>\n",
       "    .dataframe tbody tr th:only-of-type {\n",
       "        vertical-align: middle;\n",
       "    }\n",
       "\n",
       "    .dataframe tbody tr th {\n",
       "        vertical-align: top;\n",
       "    }\n",
       "\n",
       "    .dataframe thead th {\n",
       "        text-align: right;\n",
       "    }\n",
       "</style>\n",
       "<table border=\"1\" class=\"dataframe\">\n",
       "  <thead>\n",
       "    <tr style=\"text-align: right;\">\n",
       "      <th></th>\n",
       "      <th>Unnamed: 0</th>\n",
       "      <th>title</th>\n",
       "      <th>text</th>\n",
       "      <th>label</th>\n",
       "    </tr>\n",
       "  </thead>\n",
       "  <tbody>\n",
       "    <tr>\n",
       "      <th>0</th>\n",
       "      <td>8476</td>\n",
       "      <td>You Can Smell Hillary’s Fear</td>\n",
       "      <td>Daniel Greenfield, a Shillman Journalism Fello...</td>\n",
       "      <td>FAKE</td>\n",
       "    </tr>\n",
       "    <tr>\n",
       "      <th>1</th>\n",
       "      <td>10294</td>\n",
       "      <td>Watch The Exact Moment Paul Ryan Committed Pol...</td>\n",
       "      <td>Google Pinterest Digg Linkedin Reddit Stumbleu...</td>\n",
       "      <td>FAKE</td>\n",
       "    </tr>\n",
       "    <tr>\n",
       "      <th>2</th>\n",
       "      <td>3608</td>\n",
       "      <td>Kerry to go to Paris in gesture of sympathy</td>\n",
       "      <td>U.S. Secretary of State John F. Kerry said Mon...</td>\n",
       "      <td>REAL</td>\n",
       "    </tr>\n",
       "    <tr>\n",
       "      <th>3</th>\n",
       "      <td>10142</td>\n",
       "      <td>Bernie supporters on Twitter erupt in anger ag...</td>\n",
       "      <td>— Kaydee King (@KaydeeKing) November 9, 2016 T...</td>\n",
       "      <td>FAKE</td>\n",
       "    </tr>\n",
       "    <tr>\n",
       "      <th>4</th>\n",
       "      <td>875</td>\n",
       "      <td>The Battle of New York: Why This Primary Matters</td>\n",
       "      <td>It's primary day in New York and front-runners...</td>\n",
       "      <td>REAL</td>\n",
       "    </tr>\n",
       "  </tbody>\n",
       "</table>\n",
       "</div>"
      ],
      "text/plain": [
       "   Unnamed: 0                                              title  \\\n",
       "0        8476                       You Can Smell Hillary’s Fear   \n",
       "1       10294  Watch The Exact Moment Paul Ryan Committed Pol...   \n",
       "2        3608        Kerry to go to Paris in gesture of sympathy   \n",
       "3       10142  Bernie supporters on Twitter erupt in anger ag...   \n",
       "4         875   The Battle of New York: Why This Primary Matters   \n",
       "\n",
       "                                                text label  \n",
       "0  Daniel Greenfield, a Shillman Journalism Fello...  FAKE  \n",
       "1  Google Pinterest Digg Linkedin Reddit Stumbleu...  FAKE  \n",
       "2  U.S. Secretary of State John F. Kerry said Mon...  REAL  \n",
       "3  — Kaydee King (@KaydeeKing) November 9, 2016 T...  FAKE  \n",
       "4  It's primary day in New York and front-runners...  REAL  "
      ]
     },
     "execution_count": 3,
     "metadata": {},
     "output_type": "execute_result"
    }
   ],
   "source": [
    "df.head()"
   ]
  },
  {
   "cell_type": "code",
   "execution_count": 4,
   "metadata": {},
   "outputs": [
    {
     "data": {
      "text/plain": [
       "REAL    3171\n",
       "FAKE    3164\n",
       "Name: label, dtype: int64"
      ]
     },
     "execution_count": 4,
     "metadata": {},
     "output_type": "execute_result"
    }
   ],
   "source": [
    "df['label'].value_counts()"
   ]
  },
  {
   "cell_type": "code",
   "execution_count": 5,
   "metadata": {},
   "outputs": [],
   "source": [
    "def create_distribution(datafile):\n",
    "   return sns.countplot(x='label', data=datafile, palette='hls')\n"
   ]
  },
  {
   "cell_type": "code",
   "execution_count": 6,
   "metadata": {},
   "outputs": [
    {
     "data": {
      "text/plain": [
       "<AxesSubplot:xlabel='label', ylabel='count'>"
      ]
     },
     "execution_count": 6,
     "metadata": {},
     "output_type": "execute_result"
    },
    {
     "data": {
      "image/png": "[encoded data removed]",
      "text/plain": [
       "<Figure size 432x288 with 1 Axes>"
      ]
     },
     "metadata": {
      "needs_background": "light"
     },
     "output_type": "display_data"
    }
   ],
   "source": [
    "create_distribution(df)"
   ]
  },
  {
   "cell_type": "code",
   "execution_count": 7,
   "metadata": {},
   "outputs": [
    {
     "name": "stdout",
     "output_type": "stream",
     "text": [
      "Unnamed: 0    0\n",
      "title         0\n",
      "text          0\n",
      "label         0\n",
      "dtype: int64 \n",
      "\n",
      "\n",
      "\n",
      "<class 'pandas.core.frame.DataFrame'>\n",
      "RangeIndex: 6335 entries, 0 to 6334\n",
      "Data columns (total 4 columns):\n",
      " #   Column      Non-Null Count  Dtype \n",
      "---  ------      --------------  ----- \n",
      " 0   Unnamed: 0  6335 non-null   int64 \n",
      " 1   title       6335 non-null   object\n",
      " 2   text        6335 non-null   object\n",
      " 3   label       6335 non-null   object\n",
      "dtypes: int64(1), object(3)\n",
      "memory usage: 198.1+ KB\n",
      "None\n"
     ]
    }
   ],
   "source": [
    "print(df.isnull().sum(), '\\n\\n\\n')\n",
    "print(df.info())\n"
   ]
  },
  {
   "cell_type": "markdown",
   "metadata": {},
   "source": [
    "# <font color='F13454'> Applying TF_IDF & Bag-of-words on Data"
   ]
  },
  {
   "cell_type": "code",
   "execution_count": 8,
   "metadata": {},
   "outputs": [
    {
     "data": {
      "text/plain": [
       "0    FAKE\n",
       "1    FAKE\n",
       "2    REAL\n",
       "3    FAKE\n",
       "4    REAL\n",
       "Name: label, dtype: object"
      ]
     },
     "execution_count": 8,
     "metadata": {},
     "output_type": "execute_result"
    }
   ],
   "source": [
    "# Separate the labels and set up training and test datasets\n",
    "\n",
    "# Get the labels\n",
    "x = df['text']\n",
    "y = df['label']\n",
    "y.head()\n"
   ]
  },
  {
   "cell_type": "code",
   "execution_count": 9,
   "metadata": {},
   "outputs": [],
   "source": [
    "#Split the dataset\n",
    "\n",
    "from sklearn.model_selection import train_test_split\n",
    "X_train, X_test, y_train, y_test = train_test_split(\n",
    "    x, y, test_size=0.33, random_state=53)\n"
   ]
  },
  {
   "cell_type": "code",
   "execution_count": 10,
   "metadata": {},
   "outputs": [],
   "source": [
    "# before applying ML algorithm, we have to convert our text data into \n",
    "# numbers or vector representation\n",
    "\n",
    "from sklearn.feature_extraction.text import CountVectorizer\n",
    "from sklearn.feature_extraction.text import TfidfVectorizer\n"
   ]
  },
  {
   "cell_type": "code",
   "execution_count": 11,
   "metadata": {},
   "outputs": [],
   "source": [
    "count_vectorize = CountVectorizer(stop_words='english')\n"
   ]
  },
  {
   "cell_type": "code",
   "execution_count": 12,
   "metadata": {},
   "outputs": [
    {
     "data": {
      "text/plain": [
       "(4244, 56922)"
      ]
     },
     "execution_count": 12,
     "metadata": {},
     "output_type": "execute_result"
    }
   ],
   "source": [
    "count_train = count_vectorize.fit_transform(X_train)\n",
    "count_train.shape\n"
   ]
  },
  {
   "cell_type": "code",
   "execution_count": 13,
   "metadata": {},
   "outputs": [
    {
     "data": {
      "text/plain": [
       "{'report': 42470,\n",
       " 'copyright': 12105,\n",
       " 'violation': 54177,\n",
       " 'think': 50628,\n",
       " 'doom': 15924,\n",
       " 'sayers': 44520,\n",
       " 'trump': 51896,\n",
       " 'office': 35783,\n",
       " 'notice': 35256,\n",
       " 'glp': 21881,\n",
       " 'republican': 42534,\n",
       " 'bush': 8399,\n",
       " 'left': 29531,\n",
       " 'doomsaying': 15927,\n",
       " 'increases': 25686,\n",
       " 'sure': 49203,\n",
       " 'effect': 16814,\n",
       " 'opposite': 36087,\n",
       " 'gets': 21568,\n",
       " 'increase': 25684,\n",
       " 'political': 38823,\n",
       " 'spectrum': 47506,\n",
       " 'page': 36831,\n",
       " 'election': 16972,\n",
       " '232': 762,\n",
       " 'photos': 38140,\n",
       " '43': 1127,\n",
       " 'numbers': 35403,\n",
       " '131': 229,\n",
       " 'quotes': 40794,\n",
       " 'candidates': 8779,\n",
       " 'center': 9445,\n",
       " 'email': 17139,\n",
       " 'wonder': 55615,\n",
       " 'mind': 32729,\n",
       " 'today': 51050,\n",
       " 'notable': 35236,\n",
       " 'people': 37695,\n",
       " 'don': 15867,\n",
       " 'miss': 32983,\n",
       " 'unbelievable': 52435,\n",
       " 'roundup': 43680,\n",
       " 'best': 6494,\n",
       " 'talked': 49772,\n",
       " 'day': 13519,\n",
       " 'course': 12424,\n",
       " 'schindler': 44691,\n",
       " 'list': 30107,\n",
       " 'saddest': 44042,\n",
       " 'movies': 33689,\n",
       " 'time': 50906,\n",
       " 'going': 21981,\n",
       " 'brag': 7659,\n",
       " 'chance': 9616,\n",
       " 'liam': 29814,\n",
       " 'neeson': 34495,\n",
       " 'humility': 24774,\n",
       " 'microwave': 32543,\n",
       " 'like': 29953,\n",
       " 'whisper': 55162,\n",
       " 'sending': 45279,\n",
       " 'solitary': 47165,\n",
       " 'fun': 20927,\n",
       " 'little': 30164,\n",
       " 'joke': 27596,\n",
       " 'food': 20218,\n",
       " 'laugh': 29302,\n",
       " 'knowing': 28660,\n",
       " 'coming': 11055,\n",
       " 'soon': 47240,\n",
       " 'lorena': 30445,\n",
       " 'garcia': 21218,\n",
       " 'good': 22033,\n",
       " 'stuff': 48690,\n",
       " 'love': 30510,\n",
       " 'kyle': 28948,\n",
       " 'chandler': 9621,\n",
       " 'wells': 55013,\n",
       " 'fargo': 19068,\n",
       " 'rotting': 43658,\n",
       " '139': 240,\n",
       " 'just': 27842,\n",
       " 'thought': 50690,\n",
       " 'surely': 49205,\n",
       " 'big': 6635,\n",
       " 'banker': 5675,\n",
       " 'greed': 22361,\n",
       " 'bottomed': 7531,\n",
       " '2008': 634,\n",
       " 'wall': 54583,\n",
       " 'street': 48562,\n",
       " 'crash': 12570,\n",
       " 'bailout': 5520,\n",
       " 'comes': 11036,\n",
       " 'burrowing': 8379,\n",
       " 'deeper': 13846,\n",
       " 'ethical': 18067,\n",
       " 'slime': 46712,\n",
       " 'reach': 41311,\n",
       " 'previously': 39589,\n",
       " 'unimaginable': 52884,\n",
       " 'level': 29744,\n",
       " 'corporate': 12178,\n",
       " 'depravity': 14391,\n",
       " 'thing': 50625,\n",
       " 'finance': 19650,\n",
       " 'giants': 21629,\n",
       " 'cook': 12033,\n",
       " 'books': 7397,\n",
       " 'defraud': 13966,\n",
       " 'investors': 26736,\n",
       " 'executives': 18407,\n",
       " 'profiteering': 39826,\n",
       " 'years': 56100,\n",
       " 'literally': 30136,\n",
       " 'forcing': 20276,\n",
       " 'employees': 17311,\n",
       " 'rob': 43367,\n",
       " 'bank': 5672,\n",
       " 'customers': 13130,\n",
       " 'culture': 13020,\n",
       " 'service': 45415,\n",
       " 'pushed': 40471,\n",
       " 'high': 23968,\n",
       " 'pressure': 39524,\n",
       " 'sales': 44172,\n",
       " '2009': 635,\n",
       " 'demanding': 14128,\n",
       " 'frontline': 20802,\n",
       " 'meet': 32093,\n",
       " 'extreme': 18722,\n",
       " 'quotas': 40790,\n",
       " 'selling': 45229,\n",
       " 'myriad': 34067,\n",
       " 'unnecessary': 53016,\n",
       " 'products': 39789,\n",
       " 'common': 11141,\n",
       " 'depositors': 14384,\n",
       " 'wanted': 54648,\n",
       " 'simple': 46335,\n",
       " 'checking': 9800,\n",
       " 'account': 2172,\n",
       " 'photo': 38126,\n",
       " 'shutterstock': 46136,\n",
       " 'expected': 18517,\n",
       " 'load': 30228,\n",
       " 'customer': 13129,\n",
       " 'accounts': 2179,\n",
       " 'monitored': 33346,\n",
       " 'constantly': 11735,\n",
       " 'meeting': 32094,\n",
       " 'quota': 40788,\n",
       " 'fail': 18892,\n",
       " 'fired': 19729,\n",
       " 'bosses': 7501,\n",
       " 'turned': 52108,\n",
       " 'syndicate': 49566,\n",
       " 'robbers': 43374,\n",
       " 'thievery': 50620,\n",
       " 'systemic': 49604,\n",
       " 'wasn': 54746,\n",
       " 'subtle': 48866,\n",
       " 'half': 22960,\n",
       " 'million': 32694,\n",
       " 'secretly': 45090,\n",
       " 'issued': 26997,\n",
       " 'credit': 12638,\n",
       " 'debit': 13636,\n",
       " 'cards': 8962,\n",
       " 'didn': 14871,\n",
       " 'request': 42560,\n",
       " 'fake': 18936,\n",
       " 'online': 35980,\n",
       " 'services': 45422,\n",
       " 'set': 45438,\n",
       " 'knowledge': 28663,\n",
       " 'money': 33327,\n",
       " 'moved': 33680,\n",
       " 'signatures': 46252,\n",
       " 'forged': 20355,\n",
       " 'collected': 10882,\n",
       " 'fees': 19325,\n",
       " 'bogus': 7259,\n",
       " 'transactions': 51456,\n",
       " 'boosting': 7426,\n",
       " 'profits': 39829,\n",
       " 'ceo': 9486,\n",
       " 'john': 27568,\n",
       " 'stumpf': 48702,\n",
       " 'recently': 41541,\n",
       " 'forced': 20268,\n",
       " 'scandal': 44567,\n",
       " 'board': 7184,\n",
       " 'directors': 15056,\n",
       " 'highly': 23980,\n",
       " 'paid': 36845,\n",
       " 'partners': 37249,\n",
       " 'crime': 12692,\n",
       " 'rotten': 43655,\n",
       " 'apple': 4093,\n",
       " 'isn': 26966,\n",
       " 'case': 9120,\n",
       " 'bankers': 5676,\n",
       " 'gone': 22019,\n",
       " 'rogue': 43462,\n",
       " 'head': 23468,\n",
       " 'donald': 15870,\n",
       " 'eased': 16618,\n",
       " 'fears': 19259,\n",
       " 'tuesday': 52020,\n",
       " 'night': 34863,\n",
       " 'declared': 13750,\n",
       " 'intention': 26409,\n",
       " 'stay': 48139,\n",
       " 'inside': 26214,\n",
       " 'party': 37256,\n",
       " 'angst': 3706,\n",
       " 'temporarily': 50221,\n",
       " 'prospect': 40045,\n",
       " 'loses': 30463,\n",
       " 'face': 18809,\n",
       " 'far': 19049,\n",
       " 'troubling': 51852,\n",
       " 'increasingly': 25688,\n",
       " 'plausible': 38539,\n",
       " 'question': 40701,\n",
       " 'happens': 23157,\n",
       " 'wins': 55447,\n",
       " 'standard': 47987,\n",
       " 'bearer': 6069,\n",
       " 'gop': 22069,\n",
       " 'suddenly': 48927,\n",
       " 'asked': 4630,\n",
       " 'rally': 41023,\n",
       " 'candidate': 8778,\n",
       " 'called': 8655,\n",
       " 'primary': 39633,\n",
       " 'foes': 20151,\n",
       " 'cancer': 8767,\n",
       " 'conservatism': 11673,\n",
       " 'unhinged': 52854,\n",
       " 'drunk': 16263,\n",
       " 'driver': 16201,\n",
       " 'helping': 23727,\n",
       " 'enemy': 17466,\n",
       " 'prominent': 39908,\n",
       " 'conservative': 11674,\n",
       " 'national': 34314,\n",
       " 'security': 45117,\n",
       " 'expert': 18561,\n",
       " 'max': 31758,\n",
       " 'boot': 7428,\n",
       " 'flatly': 19911,\n",
       " 'labeled': 28970,\n",
       " 'fascist': 19112,\n",
       " 'rhetoric': 43056,\n",
       " 'stronger': 48645,\n",
       " 'private': 39698,\n",
       " 'conversations': 11995,\n",
       " 've': 53792,\n",
       " 'republicans': 42536,\n",
       " 'moderate': 33169,\n",
       " 'stripes': 48620,\n",
       " 'usual': 53500,\n",
       " 'intraparty': 26630,\n",
       " 'battles': 5977,\n",
       " 'kind': 28455,\n",
       " 'resolved': 42674,\n",
       " 'handshakes': 23101,\n",
       " 'convention': 11982,\n",
       " 'banners': 5695,\n",
       " 'stake': 47941,\n",
       " 'ground': 22532,\n",
       " 'positions': 39053,\n",
       " 'strongly': 48649,\n",
       " 'suggesting': 48967,\n",
       " 'nomination': 35035,\n",
       " 'create': 12613,\n",
       " 'fissure': 19787,\n",
       " 'deep': 13841,\n",
       " 'indivisible': 25814,\n",
       " 'american': 3441,\n",
       " 'history': 24130,\n",
       " 'driven': 16200,\n",
       " 'ideology': 25074,\n",
       " 'questions': 40709,\n",
       " 'personal': 37882,\n",
       " 'character': 9667,\n",
       " 'operatives': 36048,\n",
       " 'right': 43172,\n",
       " 'running': 43875,\n",
       " 'run': 43867,\n",
       " 'threat': 50710,\n",
       " 'turn': 52104,\n",
       " 'leave': 29486,\n",
       " 'contributors': 11953,\n",
       " 'foot': 20235,\n",
       " 'soldiers': 47137,\n",
       " 'painful': 36850,\n",
       " 'choices': 10019,\n",
       " 'look': 30390,\n",
       " 'landscape': 29146,\n",
       " 'rules': 43847,\n",
       " 'insurgencies': 26353,\n",
       " 'suggests': 48971,\n",
       " '2016': 649,\n",
       " 'year': 56091,\n",
       " 'offered': 35775,\n",
       " 'reasonable': 41430,\n",
       " 'win': 55388,\n",
       " 'white': 55176,\n",
       " 'house': 24590,\n",
       " 'total': 51247,\n",
       " 'control': 11958,\n",
       " 'apparatus': 4053,\n",
       " 'disaster': 15122,\n",
       " 'nominee': 35037,\n",
       " 'unity': 52934,\n",
       " 'fronts': 20810,\n",
       " 'victory': 54055,\n",
       " 'represent': 42489,\n",
       " 'triumph': 51787,\n",
       " 'insurgent': 26355,\n",
       " 'movement': 33681,\n",
       " 'impulse': 25499,\n",
       " 'historically': 24127,\n",
       " 'speaking': 47453,\n",
       " 'exactly': 18287,\n",
       " 'guarantees': 22620,\n",
       " 'civil': 10276,\n",
       " 'war': 54656,\n",
       " 'striking': 48610,\n",
       " 'examples': 18307,\n",
       " 'politics': 38836,\n",
       " 'come': 11024,\n",
       " 'broke': 8000,\n",
       " 'long': 30369,\n",
       " 'pattern': 37423,\n",
       " 'accommodating': 2144,\n",
       " 'different': 14895,\n",
       " 'factions': 18854,\n",
       " 'decisively': 13738,\n",
       " 'happened': 23154,\n",
       " 'democrats': 14172,\n",
       " 'twice': 52175,\n",
       " 'rights': 43186,\n",
       " 'embraced': 17196,\n",
       " 'cause': 9287,\n",
       " 'north': 35190,\n",
       " 'welcoming': 54997,\n",
       " 'segregationists': 45173,\n",
       " 'supremacists': 49188,\n",
       " 'south': 47342,\n",
       " '1948': 528,\n",
       " 'embrace': 17195,\n",
       " 'plank': 38490,\n",
       " 'led': 29510,\n",
       " 'southern': 47348,\n",
       " 'delegations': 14036,\n",
       " 'walk': 54571,\n",
       " 'carolina': 9042,\n",
       " 'governor': 22146,\n",
       " 'strom': 48642,\n",
       " 'thurmond': 50798,\n",
       " 'states': 48084,\n",
       " 'democratic': 14163,\n",
       " 'dixiecrats': 15678,\n",
       " 'won': 55614,\n",
       " 'president': 39504,\n",
       " 'harry': 23284,\n",
       " 'truman': 51893,\n",
       " 'barely': 5762,\n",
       " 'defeated': 13875,\n",
       " 'tom': 51101,\n",
       " 'dewey': 14757,\n",
       " 'ohio': 35836,\n",
       " 'california': 8643,\n",
       " 'electoral': 16980,\n",
       " 'college': 10898,\n",
       " 'deadlocked': 13574,\n",
       " 'choice': 10017,\n",
       " 'thrown': 50755,\n",
       " 'representatives': 42493,\n",
       " 'holding': 24258,\n",
       " 'balance': 5552,\n",
       " 'power': 39174,\n",
       " 'later': 29272,\n",
       " 'alabama': 2999,\n",
       " 'george': 21497,\n",
       " 'wallace': 54585,\n",
       " 'similar': 46318,\n",
       " 'anti': 3864,\n",
       " 'relatively': 42171,\n",
       " 'small': 46805,\n",
       " 'shift': 45838,\n",
       " 'voters': 54393,\n",
       " 'cases': 9123,\n",
       " 'dramatic': 16114,\n",
       " 'significant': 46258,\n",
       " 'defections': 13887,\n",
       " 'losing': 30464,\n",
       " '1964': 551,\n",
       " 'conservatives': 11678,\n",
       " 'succeeded': 48895,\n",
       " 'nominating': 35034,\n",
       " 'divisive': 15666,\n",
       " 'champion': 9606,\n",
       " 'barry': 5847,\n",
       " 'goldwater': 22007,\n",
       " 'liberal': 29825,\n",
       " 'things': 50627,\n",
       " 'new': 34699,\n",
       " 'york': 56196,\n",
       " 'nelson': 34558,\n",
       " 'rockefeller': 43412,\n",
       " 'michigan': 32514,\n",
       " 'romney': 43518,\n",
       " 'refused': 41948,\n",
       " 'endorse': 17439,\n",
       " 'shockingly': 45930,\n",
       " 'herald': 23777,\n",
       " 'tribune': 51710,\n",
       " 'semi': 45252,\n",
       " 'official': 35790,\n",
       " 'voice': 54324,\n",
       " 'establishment': 18018,\n",
       " 'endorsed': 17440,\n",
       " 'lyndon': 30744,\n",
       " 'johnson': 27579,\n",
       " 'democrat': 14162,\n",
       " 'supported': 49167,\n",
       " 'split': 47652,\n",
       " 'went': 55027,\n",
       " 'flames': 19870,\n",
       " 'deeply': 13850,\n",
       " 'divided': 15651,\n",
       " 'nominated': 35032,\n",
       " 'hero': 23827,\n",
       " 'mcgovern': 31893,\n",
       " 'meany': 31986,\n",
       " 'afl': 2710,\n",
       " 'cio': 10204,\n",
       " 'position': 39049,\n",
       " 'neutrality': 34682,\n",
       " 'richard': 43101,\n",
       " 'nixon': 34956,\n",
       " 'labor': 28976,\n",
       " 'texas': 50419,\n",
       " 'connally': 11607,\n",
       " 'openly': 36030,\n",
       " 'backed': 5386,\n",
       " 'countless': 12397,\n",
       " 'disempowered': 15253,\n",
       " 'emergence': 17210,\n",
       " 'simply': 46350,\n",
       " 'sat': 44409,\n",
       " 'hands': 23099,\n",
       " 'lost': 30467,\n",
       " 'landslide': 29151,\n",
       " 'example': 18306,\n",
       " 'yes': 56134,\n",
       " 'ideological': 25068,\n",
       " 'sense': 45300,\n",
       " 'radical': 40882,\n",
       " 'moving': 33690,\n",
       " 'officials': 35793,\n",
       " 'holders': 24257,\n",
       " 'alienated': 3136,\n",
       " 'media': 32031,\n",
       " 'tribunes': 51711,\n",
       " 'rush': 43893,\n",
       " 'limbaugh': 29987,\n",
       " 'sean': 45025,\n",
       " 'hannity': 23138,\n",
       " 'mark': 31433,\n",
       " 'levin': 29763,\n",
       " 'ann': 3739,\n",
       " 'coulter': 12327,\n",
       " 'laura': 29322,\n",
       " 'ingraham': 26050,\n",
       " 'vocal': 54307,\n",
       " 'defending': 13902,\n",
       " 'assailing': 4676,\n",
       " 'branded': 7701,\n",
       " 'unacceptable': 52357,\n",
       " 'undermine': 52612,\n",
       " 'thesis': 50584,\n",
       " 'influential': 25986,\n",
       " 'book': 7383,\n",
       " 'decides': 13714,\n",
       " 'argues': 4323,\n",
       " 'preferences': 39382,\n",
       " 'insiders': 26218,\n",
       " 'critical': 12745,\n",
       " 'outcome': 36393,\n",
       " 'contest': 11864,\n",
       " 'possibility': 39070,\n",
       " 'provoked': 40156,\n",
       " 'strong': 48643,\n",
       " 'feelings': 19317,\n",
       " 'old': 35872,\n",
       " 'school': 44735,\n",
       " 'says': 44523,\n",
       " 'self': 45215,\n",
       " 'described': 14487,\n",
       " 'structural': 48655,\n",
       " 'sycophantic': 49506,\n",
       " 'involved': 26764,\n",
       " 'levels': 29750,\n",
       " 'campaigns': 8724,\n",
       " 'decades': 13664,\n",
       " 'hillary': 24011,\n",
       " 'bad': 5441,\n",
       " 'country': 12400,\n",
       " 'worse': 55740,\n",
       " 'battle': 5969,\n",
       " 'influence': 25981,\n",
       " 'explains': 18576,\n",
       " 'defection': 13886,\n",
       " 'ranks': 41110,\n",
       " 'hold': 24254,\n",
       " 'particular': 37227,\n",
       " 'peril': 37773,\n",
       " 'arises': 4349,\n",
       " 'belief': 6267,\n",
       " 'chosen': 10059,\n",
       " 'unfit': 52789,\n",
       " 'temperament': 50204,\n",
       " 'occasion': 35669,\n",
       " 'politician': 38825,\n",
       " 'sacrificed': 44031,\n",
       " 'chances': 9618,\n",
       " '1986': 576,\n",
       " 'senator': 45273,\n",
       " 'adlai': 2469,\n",
       " 'stevenson': 48286,\n",
       " 'iii': 25152,\n",
       " 'reason': 41429,\n",
       " 'believe': 6272,\n",
       " 'following': 20194,\n",
       " 'father': 19146,\n",
       " 'footsteps': 20256,\n",
       " 'illinois': 25182,\n",
       " 'mansion': 31282,\n",
       " 'earlier': 16580,\n",
       " 'race': 40832,\n",
       " 'fewer': 19482,\n",
       " '000': 1,\n",
       " 'disputed': 15449,\n",
       " 'votes': 54394,\n",
       " 'easy': 16641,\n",
       " 'march': 31349,\n",
       " 'overshadowed': 36648,\n",
       " 'ballot': 5589,\n",
       " 'followers': 20192,\n",
       " 'larouche': 29227,\n",
       " 'cultish': 13008,\n",
       " 'conspiracy': 11722,\n",
       " 'minded': 32734,\n",
       " 'demagogue': 14122,\n",
       " 'nominations': 35036,\n",
       " 'lieutenant': 29895,\n",
       " 'secretary': 45087,\n",
       " 'state': 48072,\n",
       " 'horrified': 24507,\n",
       " 'placing': 38461,\n",
       " 'acolytes': 2263,\n",
       " 'bolted': 7311,\n",
       " 'line': 30029,\n",
       " 'instead': 26288,\n",
       " 'independent': 25742,\n",
       " 'sen': 45270,\n",
       " 'alan': 3007,\n",
       " 'dixon': 15679,\n",
       " 'remained': 42254,\n",
       " 'easily': 16626,\n",
       " 'reelection': 41823,\n",
       " 'faced': 18815,\n",
       " 'issue': 26996,\n",
       " '1991': 584,\n",
       " 'klansman': 28562,\n",
       " 'david': 13491,\n",
       " 'duke': 16354,\n",
       " 'gubernatorial': 22641,\n",
       " 'runoff': 43877,\n",
       " 'louisiana': 30496,\n",
       " 'proclaimed': 39753,\n",
       " 'roundly': 43676,\n",
       " 'rejected': 42137,\n",
       " 'outgoing': 36414,\n",
       " 'edwin': 16801,\n",
       " 'edwards': 16799,\n",
       " 'overwhelmingly': 36710,\n",
       " 'campaign': 8719,\n",
       " 'remembered': 42276,\n",
       " 'bumper': 8275,\n",
       " 'sticker': 48302,\n",
       " 'touting': 51306,\n",
       " 'ethically': 18068,\n",
       " 'challenged': 9590,\n",
       " 'vote': 54388,\n",
       " 'crook': 12784,\n",
       " 'important': 25426,\n",
       " 'offers': 35778,\n",
       " 'parallel': 37077,\n",
       " 'want': 54647,\n",
       " 'sulfurous': 48996,\n",
       " 'assaults': 4690,\n",
       " 'editorial': 16764,\n",
       " 'pages': 36834,\n",
       " 'times': 50920,\n",
       " 'comments': 11104,\n",
       " 'msnbc': 33741,\n",
       " 'personalities': 37883,\n",
       " 'voices': 54329,\n",
       " 'world': 55712,\n",
       " 'review': 42961,\n",
       " 'weekly': 54939,\n",
       " 'commentary': 11097,\n",
       " 'columns': 10987,\n",
       " 'deplore': 14350,\n",
       " 'deviations': 14717,\n",
       " 'canon': 8820,\n",
       " 'reagan': 41350,\n",
       " 'aide': 2876,\n",
       " 'onetime': 35971,\n",
       " 'fcc': 19239,\n",
       " 'chairman': 9568,\n",
       " 'dennis': 14268,\n",
       " 'patrick': 37395,\n",
       " 'summarizes': 49022,\n",
       " 'way': 54822,\n",
       " 'colleagues': 10880,\n",
       " 'administration': 2481,\n",
       " 'hard': 23193,\n",
       " 'pulling': 40319,\n",
       " 'lever': 29752,\n",
       " 'weren': 55030,\n",
       " 'difficult': 14904,\n",
       " 'square': 47803,\n",
       " 'principled': 39659,\n",
       " 'theory': 50551,\n",
       " 'governance': 22138,\n",
       " 'policy': 38809,\n",
       " 'stirred': 48369,\n",
       " 'ire': 26829,\n",
       " 'vulgarity': 54448,\n",
       " 'fusion': 21006,\n",
       " 'ignorance': 25131,\n",
       " 'arrogance': 4469,\n",
       " 'narcissism': 34241,\n",
       " 'dissembling': 15498,\n",
       " 'matters': 31711,\n",
       " 'great': 22354,\n",
       " 'composite': 11299,\n",
       " 'portrait': 39026,\n",
       " 'painted': 36860,\n",
       " 'outlets': 36432,\n",
       " 'leavened': 29487,\n",
       " 'grudging': 22574,\n",
       " 'acknowledgment': 2254,\n",
       " 'touched': 51268,\n",
       " 'legitimate': 29583,\n",
       " 'concerns': 11383,\n",
       " 'immigration': 25287,\n",
       " 'terror': 50348,\n",
       " 'makes': 31052,\n",
       " 'idea': 25040,\n",
       " 'handing': 23084,\n",
       " 'nuclear': 35361,\n",
       " 'codes': 10761,\n",
       " 'unsettling': 53168,\n",
       " 'embracing': 17198,\n",
       " 'alternative': 3309,\n",
       " 'clinton': 10525,\n",
       " 'lunge': 30677,\n",
       " 'represents': 42496,\n",
       " 'leaves': 29489,\n",
       " 'slices': 46698,\n",
       " 'unwilling': 53284,\n",
       " 'unable': 52354,\n",
       " 'accept': 2113,\n",
       " 'seen': 45153,\n",
       " 'heretic': 23804,\n",
       " 'views': 54096,\n",
       " 'trade': 51371,\n",
       " 'taxes': 50001,\n",
       " 'government': 22143,\n",
       " 'clownish': 10621,\n",
       " 'bluster': 7161,\n",
       " 'casual': 9177,\n",
       " 'bigotry': 6648,\n",
       " 'make': 31047,\n",
       " 'temperamentally': 50206,\n",
       " 'odds': 35730,\n",
       " 'massive': 31631,\n",
       " 'based': 5879,\n",
       " 'folks': 20184,\n",
       " 'forms': 20406,\n",
       " 'quiet': 40729,\n",
       " 'step': 48237,\n",
       " 'away': 5231,\n",
       " 'work': 55682,\n",
       " 'behalf': 6202,\n",
       " 'ticket': 50831,\n",
       " 'fervently': 19444,\n",
       " 'hopes': 24458,\n",
       " 'fate': 19141,\n",
       " 'past': 37305,\n",
       " 'runners': 43874,\n",
       " 'rudy': 43821,\n",
       " 'giuliani': 21740,\n",
       " 'newt': 34760,\n",
       " 'gingrich': 21696,\n",
       " 'event': 18192,\n",
       " 'heart': 23540,\n",
       " 'soul': 47311,\n",
       " 'energy': 17476,\n",
       " 'saving': 44484,\n",
       " 'senate': 45272,\n",
       " 'kelly': 28192,\n",
       " 'ayotte': 5293,\n",
       " 'pat': 37327,\n",
       " 'toomey': 51163,\n",
       " 'ron': 43528,\n",
       " 'survive': 49280,\n",
       " 'end': 17405,\n",
       " 'knows': 28669,\n",
       " 'key': 28271,\n",
       " 'checks': 9806,\n",
       " 'balances': 5554,\n",
       " 'place': 38450,\n",
       " 'envision': 17714,\n",
       " 'outcomes': 36394,\n",
       " 'dan': 13323,\n",
       " 'schnur': 44718,\n",
       " 'spent': 47549,\n",
       " 'lifetime': 29916,\n",
       " 'vineyards': 54166,\n",
       " 'working': 55694,\n",
       " 'presidential': 39505,\n",
       " 'serving': 45425,\n",
       " 'communications': 11163,\n",
       " 'director': 15053,\n",
       " 'heads': 23491,\n",
       " 'unruh': 53135,\n",
       " 'institute': 26305,\n",
       " 'usc': 53441,\n",
       " 'virtually': 54203,\n",
       " 'guarantee': 22617,\n",
       " 'traditional': 51385,\n",
       " 'short': 45976,\n",
       " 'answer': 3821,\n",
       " 'save': 44478,\n",
       " 'term': 50298,\n",
       " 'impossible': 25443,\n",
       " 'conceive': 11364,\n",
       " 'leaders': 29427,\n",
       " 'forfeit': 20350,\n",
       " 'formal': 20387,\n",
       " 'need': 34479,\n",
       " 'fly': 20119,\n",
       " 'flag': 19844,\n",
       " 'brand': 7700,\n",
       " 'somewhat': 47207,\n",
       " 'viable': 54008,\n",
       " 'future': 21016,\n",
       " 'toxic': 51328,\n",
       " 'strategist': 48525,\n",
       " 'stu': 48672,\n",
       " 'stevens': 48285,\n",
       " 'believes': 6276,\n",
       " 'fade': 18872,\n",
       " 'single': 46392,\n",
       " 'nonetheless': 35078,\n",
       " 'agrees': 2827,\n",
       " 'trigger': 51743,\n",
       " 'effort': 16831,\n",
       " 'stutzman': 48733,\n",
       " 'veteran': 53974,\n",
       " 'helped': 23721,\n",
       " 'spearhead': 47457,\n",
       " '2003': 629,\n",
       " 'recall': 41515,\n",
       " 'arnold': 4419,\n",
       " 'schwarzenegger': 44786,\n",
       " 'foresees': 20327,\n",
       " 'emerging': 17215,\n",
       " 'safe': 44068,\n",
       " 'harbor': 23186,\n",
       " 'disaffected': 15080,\n",
       " 'help': 23720,\n",
       " 'likely': 29960,\n",
       " 'ballots': 5592,\n",
       " 'conscience': 11645,\n",
       " 'devastating': 14693,\n",
       " 'solid': 47152,\n",
       " 'options': 36132,\n",
       " 'senators': 45275,\n",
       " 'kirk': 28516,\n",
       " 'opposed': 36084,\n",
       " 'fact': 18847,\n",
       " 'beat': 6078,\n",
       " 'attempting': 4933,\n",
       " 'bid': 6613,\n",
       " 'confront': 11546,\n",
       " 'obstacles': 35640,\n",
       " 'getting': 21571,\n",
       " 'late': 29265,\n",
       " 'calendar': 8626,\n",
       " 'laws': 29367,\n",
       " 'prohibit': 39866,\n",
       " 'multiple': 33856,\n",
       " 'lines': 30037,\n",
       " 'congressional': 11586,\n",
       " 'avoid': 5199,\n",
       " 'association': 4754,\n",
       " 'abandon': 1853,\n",
       " 'contender': 11852,\n",
       " 'shows': 46046,\n",
       " 'leaving': 29490,\n",
       " 'major': 31039,\n",
       " 'fraught': 20610,\n",
       " 'write': 55845,\n",
       " 'alaska': 3020,\n",
       " 'lisa': 30102,\n",
       " 'murkowski': 33931,\n",
       " '2010': 640,\n",
       " 'succeed': 48894,\n",
       " 'thinkers': 50631,\n",
       " 'contemplating': 11840,\n",
       " 'demonstrates': 14205,\n",
       " 'perils': 37776,\n",
       " 'posed': 39041,\n",
       " 'looking': 30392,\n",
       " 'wrong': 55858,\n",
       " 'direction': 15046,\n",
       " 'defector': 13890,\n",
       " 'biggest': 6640,\n",
       " 'rape': 41129,\n",
       " 'accuser': 2203,\n",
       " 'skips': 46569,\n",
       " 'press': 39514,\n",
       " 'conference': 11479,\n",
       " 'citing': 10259,\n",
       " 'threats': 50715,\n",
       " 'gpd': 22168,\n",
       " 'general': 21400,\n",
       " 'posting': 39095,\n",
       " 'department': 14319,\n",
       " 'share': 45669,\n",
       " 'posts': 39108,\n",
       " 'sources': 47336,\n",
       " 'information': 26004,\n",
       " 'readers': 41334,\n",
       " 'managed': 31165,\n",
       " 'shiite': 45846,\n",
       " 'militia': 32659,\n",
       " 'close': 10576,\n",
       " 'tal': 49748,\n",
       " 'afar': 2647,\n",
       " 'turkey': 52089,\n",
       " 'warned': 54695,\n",
       " 'limits': 30007,\n",
       " 'november': 35298,\n",
       " 'rudaw': 43807,\n",
       " 'erbil': 17842,\n",
       " 'kurdistan': 28903,\n",
       " 'region': 41992,\n",
       " 'hashd': 23323,\n",
       " 'al': 2996,\n",
       " 'shaabi': 45528,\n",
       " 'said': 44108,\n",
       " 'thursday': 50799,\n",
       " 'forces': 20273,\n",
       " '15': 267,\n",
       " 'kilometers': 28434,\n",
       " 'turkmen': 52096,\n",
       " 'town': 51318,\n",
       " 'clear': 10427,\n",
       " 'continuously': 11896,\n",
       " 'advancing': 2570,\n",
       " 'nearing': 34449,\n",
       " 'mosul': 33580,\n",
       " 'raqqa': 41166,\n",
       " 'road': 43343,\n",
       " 'karim': 28025,\n",
       " 'nuri': 35429,\n",
       " 'spokesperson': 47669,\n",
       " 'told': 51083,\n",
       " 'hoped': 24451,\n",
       " 'hours': 24589,\n",
       " 'supply': 49163,\n",
       " 'isis': 26937,\n",
       " 'strongholds': 48648,\n",
       " 'iraq': 26821,\n",
       " 'syria': 49590,\n",
       " 'iranian': 26819,\n",
       " 'received': 41536,\n",
       " 'air': 2905,\n",
       " 'support': 49165,\n",
       " 'coalition': 10696,\n",
       " 'outset': 36481,\n",
       " 'role': 43476,\n",
       " 'offensive': 35771,\n",
       " 'city': 10269,\n",
       " 'predominantly': 39355,\n",
       " 'captured': 8914,\n",
       " 'ago': 2813,\n",
       " 'group': 22543,\n",
       " 'large': 29214,\n",
       " 'swathes': 49385,\n",
       " 'land': 29118,\n",
       " 'entering': 17627,\n",
       " 'fear': 19248,\n",
       " 'brutalize': 8104,\n",
       " 'population': 38975,\n",
       " 'sunnis': 49062,\n",
       " 'shiites': 45847,\n",
       " 'week': 54933,\n",
       " 'turkish': 52092,\n",
       " 'recep': 41542,\n",
       " 'tayyip': 50017,\n",
       " 'erdogan': 17845,\n",
       " 'presence': 39479,\n",
       " 'sensitive': 45311,\n",
       " 'definitely': 13940,\n",
       " 'regard': 41969,\n",
       " 'involvement': 26765,\n",
       " 'positively': 39055,\n",
       " 'sinjar': 46405,\n",
       " 'clearly': 10435,\n",
       " 'saturday': 44442,\n",
       " 'totally': 51254,\n",
       " 'sunni': 49061,\n",
       " 'muslims': 33978,\n",
       " 'judge': 27737,\n",
       " 'religious': 42222,\n",
       " 'affiliation': 2670,\n",
       " 'added': 2385,\n",
       " 'terrorizes': 50358,\n",
       " 'response': 42721,\n",
       " 'related': 42162,\n",
       " '19': 469,\n",
       " 'reads': 41343,\n",
       " 'filed': 19595,\n",
       " 'harris': 23279,\n",
       " 'lay': 29381,\n",
       " 'struggling': 48666,\n",
       " 'dying': 16506,\n",
       " 'surrounding': 49259,\n",
       " 'officers': 35787,\n",
       " 'breath': 7792,\n",
       " 'officer': 35786,\n",
       " 'yelled': 56113,\n",
       " 'fuck': 20860,\n",
       " 'insisted': 26238,\n",
       " 'man': 31161,\n",
       " 'handcuffed': 23071,\n",
       " 'encapsulates': 17359,\n",
       " 'words': 55677,\n",
       " 'disregard': 15465,\n",
       " 'police': 38798,\n",
       " 'regularly': 42028,\n",
       " 'black': 6856,\n",
       " 'america': 3438,\n",
       " 'watched': 54766,\n",
       " 'michael': 32495,\n",
       " 'slager': 46616,\n",
       " 'execute': 18398,\n",
       " 'walter': 54619,\n",
       " 'scott': 44856,\n",
       " 'daring': 13400,\n",
       " 'tuning': 52061,\n",
       " 'trial': 51688,\n",
       " 'chicago': 9910,\n",
       " 'dante': 13381,\n",
       " 'servin': 45424,\n",
       " 'charged': 9687,\n",
       " 'involuntary': 26762,\n",
       " 'manslaughter': 31284,\n",
       " 'killing': 28425,\n",
       " '22': 718,\n",
       " 'rekia': 42155,\n",
       " 'boyd': 7615,\n",
       " '2012': 643,\n",
       " 'eric': 17857,\n",
       " 'garner': 21243,\n",
       " 'staten': 48082,\n",
       " 'island': 26957,\n",
       " 'tamir': 49810,\n",
       " 'rice': 43098,\n",
       " 'cleveland': 10461,\n",
       " 'tulsa': 52036,\n",
       " 'video': 54059,\n",
       " 'law': 29351,\n",
       " 'enforcement': 17485,\n",
       " 'critically': 12746,\n",
       " 'injuring': 26120,\n",
       " 'citizens': 10263,\n",
       " ...}"
      ]
     },
     "execution_count": 13,
     "metadata": {},
     "output_type": "execute_result"
    }
   ],
   "source": [
    "count_vectorize.vocabulary_\n"
   ]
  },
  {
   "cell_type": "code",
   "execution_count": 14,
   "metadata": {},
   "outputs": [
    {
     "data": {
      "text/plain": [
       "(2091, 42443)"
      ]
     },
     "execution_count": 14,
     "metadata": {},
     "output_type": "execute_result"
    }
   ],
   "source": [
    "count_test = count_vectorize.fit_transform(X_test)\n",
    "count_test.shape\n"
   ]
  },
  {
   "cell_type": "code",
   "execution_count": 15,
   "metadata": {},
   "outputs": [],
   "source": [
    "tf_idf = TfidfVectorizer(stop_words='english', max_df=0.7)"
   ]
  },
  {
   "cell_type": "code",
   "execution_count": 16,
   "metadata": {},
   "outputs": [
    {
     "data": {
      "text/plain": [
       "array([[0.       , 0.       , 0.       , ..., 0.       , 0.       ,\n",
       "        0.       ],\n",
       "       [0.       , 0.       , 0.       , ..., 0.       , 0.       ,\n",
       "        0.       ],\n",
       "       [0.       , 0.       , 0.       , ..., 0.       , 0.       ,\n",
       "        0.       ],\n",
       "       ...,\n",
       "       [0.       , 0.       , 0.       , ..., 0.       , 0.       ,\n",
       "        0.       ],\n",
       "       [0.       , 0.0121467, 0.       , ..., 0.       , 0.       ,\n",
       "        0.       ],\n",
       "       [0.       , 0.0165804, 0.       , ..., 0.       , 0.       ,\n",
       "        0.       ]])"
      ]
     },
     "execution_count": 16,
     "metadata": {},
     "output_type": "execute_result"
    }
   ],
   "source": [
    "tfidf_train = tf_idf.fit_transform(X_train)\n",
    "tfidf_train.shape\n",
    "tfidf_train.A[0:10]\n"
   ]
  },
  {
   "cell_type": "code",
   "execution_count": 17,
   "metadata": {},
   "outputs": [],
   "source": [
    "tdidf_test = tf_idf.fit_transform(X_test)"
   ]
  },
  {
   "cell_type": "markdown",
   "metadata": {},
   "source": [
    "# <font color='F13454'> How to build a Pipeline."
   ]
  },
  {
   "cell_type": "code",
   "execution_count": 18,
   "metadata": {},
   "outputs": [],
   "source": [
    "from sklearn.naive_bayes import MultinomialNB\n",
    "from sklearn.pipeline import Pipeline\n"
   ]
  },
  {
   "cell_type": "code",
   "execution_count": 19,
   "metadata": {},
   "outputs": [],
   "source": [
    "nb_pipeline = Pipeline([\n",
    "   ('tf_idf', tf_idf),\n",
    "   ('nb_clf',MultinomialNB())\n",
    "])\n"
   ]
  },
  {
   "cell_type": "code",
   "execution_count": 20,
   "metadata": {},
   "outputs": [
    {
     "data": {
      "text/plain": [
       "Pipeline(steps=[('tf_idf', TfidfVectorizer(max_df=0.7, stop_words='english')),\n",
       "                ('nb_clf', MultinomialNB())])"
      ]
     },
     "execution_count": 20,
     "metadata": {},
     "output_type": "execute_result"
    }
   ],
   "source": [
    "nb_pipeline.fit(X_train, y_train)\n"
   ]
  },
  {
   "cell_type": "code",
   "execution_count": 21,
   "metadata": {},
   "outputs": [],
   "source": [
    "predicted_nbt = nb_pipeline.predict(X_test)"
   ]
  },
  {
   "cell_type": "code",
   "execution_count": 22,
   "metadata": {},
   "outputs": [],
   "source": [
    "from sklearn.metrics import confusion_matrix, accuracy_score"
   ]
  },
  {
   "cell_type": "code",
   "execution_count": 23,
   "metadata": {},
   "outputs": [
    {
     "data": {
      "text/plain": [
       "array([[ 739,   31],\n",
       "       [ 269, 1052]], dtype=int64)"
      ]
     },
     "execution_count": 23,
     "metadata": {},
     "output_type": "execute_result"
    }
   ],
   "source": [
    "confusion_matrix(predicted_nbt,y_test)"
   ]
  },
  {
   "cell_type": "code",
   "execution_count": 24,
   "metadata": {},
   "outputs": [
    {
     "data": {
      "text/plain": [
       "0.8565279770444764"
      ]
     },
     "execution_count": 24,
     "metadata": {},
     "output_type": "execute_result"
    }
   ],
   "source": [
    "accuracy_score(predicted_nbt, y_test)"
   ]
  },
  {
   "cell_type": "code",
   "execution_count": 25,
   "metadata": {},
   "outputs": [],
   "source": [
    "nbc_pipeline = Pipeline([\n",
    "    ('NBVC', count_vectorize),\n",
    "    ('nb_clf', MultinomialNB())\n",
    "])\n"
   ]
  },
  {
   "cell_type": "code",
   "execution_count": 26,
   "metadata": {},
   "outputs": [
    {
     "data": {
      "text/plain": [
       "Pipeline(steps=[('NBVC', CountVectorizer(stop_words='english')),\n",
       "                ('nb_clf', MultinomialNB())])"
      ]
     },
     "execution_count": 26,
     "metadata": {},
     "output_type": "execute_result"
    }
   ],
   "source": [
    "nbc_pipeline.fit(X_train,y_train)"
   ]
  },
  {
   "cell_type": "code",
   "execution_count": 27,
   "metadata": {},
   "outputs": [],
   "source": [
    "predicted_nbc = nbc_pipeline.predict(X_test)"
   ]
  },
  {
   "cell_type": "code",
   "execution_count": 28,
   "metadata": {},
   "outputs": [
    {
     "data": {
      "text/plain": [
       "array([[ 865,   80],\n",
       "       [ 143, 1003]], dtype=int64)"
      ]
     },
     "execution_count": 28,
     "metadata": {},
     "output_type": "execute_result"
    }
   ],
   "source": [
    "confusion_matrix(predicted_nbc,y_test)"
   ]
  },
  {
   "cell_type": "code",
   "execution_count": 29,
   "metadata": {},
   "outputs": [
    {
     "data": {
      "text/plain": [
       "0.893352462936394"
      ]
     },
     "execution_count": 29,
     "metadata": {},
     "output_type": "execute_result"
    }
   ],
   "source": [
    "accuracy_score(predicted_nbc,y_test)"
   ]
  },
  {
   "cell_type": "markdown",
   "metadata": {},
   "source": [
    "# <font color='F13454'> Applying Multiple Algorithms on Data"
   ]
  },
  {
   "cell_type": "code",
   "execution_count": 30,
   "metadata": {},
   "outputs": [],
   "source": [
    "from sklearn.linear_model import PassiveAggressiveClassifier\n"
   ]
  },
  {
   "cell_type": "code",
   "execution_count": 31,
   "metadata": {},
   "outputs": [],
   "source": [
    "linear_clf = Pipeline([\n",
    "   ('linear', tf_idf),\n",
    "   ('pa_clf', PassiveAggressiveClassifier())\n",
    "])"
   ]
  },
  {
   "cell_type": "code",
   "execution_count": 32,
   "metadata": {},
   "outputs": [
    {
     "data": {
      "text/plain": [
       "Pipeline(steps=[('linear', TfidfVectorizer(max_df=0.7, stop_words='english')),\n",
       "                ('pa_clf', PassiveAggressiveClassifier())])"
      ]
     },
     "execution_count": 32,
     "metadata": {},
     "output_type": "execute_result"
    }
   ],
   "source": [
    "linear_clf.fit(X_train, y_train)"
   ]
  },
  {
   "cell_type": "code",
   "execution_count": 33,
   "metadata": {},
   "outputs": [],
   "source": [
    "pred = linear_clf.predict(X_test)"
   ]
  },
  {
   "cell_type": "code",
   "execution_count": 34,
   "metadata": {},
   "outputs": [
    {
     "data": {
      "text/plain": [
       "array(['REAL', 'REAL', 'FAKE', ..., 'REAL', 'FAKE', 'REAL'], dtype='<U4')"
      ]
     },
     "execution_count": 34,
     "metadata": {},
     "output_type": "execute_result"
    }
   ],
   "source": [
    "pred"
   ]
  },
  {
   "cell_type": "code",
   "execution_count": 35,
   "metadata": {},
   "outputs": [
    {
     "data": {
      "text/plain": [
       "array([[955,  53],\n",
       "       [ 84, 999]], dtype=int64)"
      ]
     },
     "execution_count": 35,
     "metadata": {},
     "output_type": "execute_result"
    }
   ],
   "source": [
    "confusion_matrix(y_test,pred)"
   ]
  },
  {
   "cell_type": "code",
   "execution_count": 36,
   "metadata": {},
   "outputs": [
    {
     "data": {
      "text/plain": [
       "0.9344811095169775"
      ]
     },
     "execution_count": 36,
     "metadata": {},
     "output_type": "execute_result"
    }
   ],
   "source": [
    "accuracy_score(y_test, pred)"
   ]
  },
  {
   "cell_type": "code",
   "execution_count": 37,
   "metadata": {},
   "outputs": [
    {
     "name": "stdout",
     "output_type": "stream",
     "text": [
      "              precision    recall  f1-score   support\n",
      "\n",
      "        FAKE       0.92      0.95      0.93      1008\n",
      "        REAL       0.95      0.92      0.94      1083\n",
      "\n",
      "    accuracy                           0.93      2091\n",
      "   macro avg       0.93      0.93      0.93      2091\n",
      "weighted avg       0.93      0.93      0.93      2091\n",
      "\n"
     ]
    }
   ],
   "source": [
    "## creating a classification report\n",
    "from sklearn import metrics\n",
    "print(metrics.classification_report(y_test, pred))\n"
   ]
  },
  {
   "cell_type": "code",
   "execution_count": 44,
   "metadata": {},
   "outputs": [
    {
     "data": {
      "text/plain": [
       "['filename.joblib']"
      ]
     },
     "execution_count": 44,
     "metadata": {},
     "output_type": "execute_result"
    }
   ],
   "source": [
    "from joblib import dump, load\n",
    "dump(linear_clf, 'filename.joblib')\n"
   ]
  },
  {
   "cell_type": "markdown",
   "metadata": {},
   "source": [
    "# <font color='F13454'> Some best practices that u can think of-->>\n"
   ]
  },
  {
   "cell_type": "code",
   "execution_count": 57,
   "metadata": {},
   "outputs": [],
   "source": [
    "\n",
    "# function to run for prediction\n",
    "def detecting_fake_news(var):\n",
    "\n",
    "    #retrieving the best model for prediction\n",
    "    ## load your sav model\n",
    "    model = open('filename.joblib', 'rb')\n",
    "    load_model = load(model)\n",
    "    prediction = load_model.predict([var])\n",
    "\n",
    "    return (print(\"The given statement is \", prediction[0]))\n"
   ]
  },
  {
   "cell_type": "code",
   "execution_count": 59,
   "metadata": {},
   "outputs": [
    {
     "name": "stdout",
     "output_type": "stream",
     "text": [
      "The given statement is  FAKE\n"
     ]
    }
   ],
   "source": [
    "# var = input(\"Please enter the news text you want to verify: \")\n",
    "var = \"CMA investigates Google and Meta over ad tech concerns\"\n",
    "\n",
    "#retrieving the best model for prediction\n",
    "detecting_fake_news(var)\n",
    "\n",
    "## EXAMPLE \n",
    "#  CMA investigates Google and Meta over ad tech concerns\n",
    "#  Heatwave temperature threshold raised in England by Met Office\n"
   ]
  }
 ],
 "metadata": {
  "interpreter": {
   "hash": "b861759b14f6a8974d4715198817fc8cd0f39ecb7cbe98cc5748fea36c27e197"
  },
  "kernelspec": {
   "display_name": "Python 3.8.8 ('base')",
   "language": "python",
   "name": "python3"
  },
  "language_info": {
   "codemirror_mode": {
    "name": "ipython",
    "version": 3
   },
   "file_extension": ".py",
   "mimetype": "text/x-python",
   "name": "python",
   "nbconvert_exporter": "python",
   "pygments_lexer": "ipython3",
   "version": "3.8.8"
  },
  "orig_nbformat": 4
 },
 "nbformat": 4,
 "nbformat_minor": 2
}
