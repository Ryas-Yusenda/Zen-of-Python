{
 "cells": [
  {
   "cell_type": "code",
   "execution_count": 1,
   "metadata": {},
   "outputs": [],
   "source": [
    "import json"
   ]
  },
  {
   "cell_type": "code",
   "execution_count": 2,
   "metadata": {},
   "outputs": [],
   "source": [
    "from time import sleep\n",
    "\n",
    "from bs4 import BeautifulSoup\n",
    "from selenium import webdriver\n",
    "from selenium.webdriver.chrome.service import Service\n",
    "from selenium.webdriver.common.by import By\n",
    "from selenium.webdriver.support.ui import WebDriverWait\n",
    "from selenium.webdriver.support import expected_conditions as EC\n",
    "from webdriver_manager.chrome import ChromeDriverManager\n",
    "\n",
    "\n",
    "class MediaDownloader():\n",
    "    def __init__(self, url):\n",
    "        self.url = url\n",
    "        self.driver = self.driver_init()\n",
    "        \n",
    "    def driver_init(self):\n",
    "        chrome_path = ChromeDriverManager().install()\n",
    "        user_agent = \"Mozilla/5.0 (Windows NT 10.0; Win64; x64) AppleWebKit/537.36 (KHTML, like Gecko) Chrome/85.0.4183.83 Safari/537.36\"\n",
    "\n",
    "        options = webdriver.ChromeOptions()\n",
    "        options.headless = True\n",
    "        options.add_argument(f'user-agent={user_agent}')\n",
    "        options.add_argument(\"--window-size=1920,1080\")\n",
    "        options.add_argument('--ignore-certificate-errors')\n",
    "        options.add_argument('--allow-running-insecure-content')\n",
    "        options.add_argument(\"--disable-extensions\")\n",
    "        options.add_argument(\"--proxy-server='direct://'\")\n",
    "        options.add_argument(\"--proxy-bypass-list=*\")\n",
    "        options.add_argument(\"--start-maximized\")\n",
    "        options.add_argument('--disable-gpu')\n",
    "        options.add_argument('--disable-dev-shm-usage')\n",
    "        options.add_argument('--no-sandbox')\n",
    "        \n",
    "        service = Service(executable_path=chrome_path)\n",
    "        driver = webdriver.Chrome(service=service, options=options) #, options=options\n",
    "        \n",
    "        return driver\n",
    "        \n",
    "    def scraping_data(self):\n",
    "        self.driver.get('https://savefrom.net/')\n",
    "        \n",
    "        sleep(1)\n",
    "        self.driver.find_element(By.NAME, 'sf_url').send_keys(self.url)\n",
    "        self.driver.find_element(By.NAME, \"sf_submit\").click()\n",
    "\n",
    "        try:\n",
    "            ele = WebDriverWait(self.driver, 15).until( #using explicit wait for 10 seconds\n",
    "                EC.presence_of_element_located((By.XPATH, \"//*[@id='sf_result']/div/div[1]/div[2]/div[2]\")) #checking for the element with 'h2'as its CSS\n",
    "            )\n",
    "            \n",
    "            page_source = self.driver.page_source\n",
    "            soup = BeautifulSoup(page_source, 'html.parser')\n",
    "            \n",
    "        except:\n",
    "            soup = None\n",
    "            print(\"Timeout Exception: Page did not load within 10 seconds.\")\n",
    "        finally:\n",
    "            self.driver.close()\n",
    "            return soup\n",
    "        \n",
    "    \n",
    "    def json(self):\n",
    "        soup = self.scraping_data()\n",
    "        \n",
    "        if soup is not None:\n",
    "            \n",
    "            metas = soup.find_all(\"div\", {\"class\": \"info-box\"})\n",
    "            \n",
    "            full_dict = []  # Create an empty list\n",
    "\n",
    "            for meta in metas:\n",
    "                url= meta.find('a').get(\"href\") if meta is not None else ''\n",
    "                title = meta.find(\"div\", {\"class\": \"row title\"}).get_text() if meta is not None else ''\n",
    "                type = meta.find('a').get_text() if meta is not None else ''\n",
    "                if type != 'Download':\n",
    "                    type = type.split(\" \")[2]\n",
    "                elif type == 'Download':\n",
    "                    type = 'MP4'\n",
    "                \n",
    "                my_dict = {\n",
    "                    \"title\": title,\n",
    "                    \"type\": type,\n",
    "                    \"url\": url\n",
    "                }  # Create a dictionary\n",
    "\n",
    "                full_dict.append(my_dict)  # Append the dictionary to the list\n",
    "                \n",
    "            \n",
    "            return full_dict\n",
    "        "
   ]
  },
  {
   "cell_type": "code",
   "execution_count": 3,
   "metadata": {},
   "outputs": [
    {
     "name": "stderr",
     "output_type": "stream",
     "text": [
      "C:\\Users\\Ryas\\AppData\\Local\\Temp\\ipykernel_3424\\1844620286.py:22: DeprecationWarning: headless property is deprecated, instead use add_argument('--headless') or add_argument('--headless=new')\n",
      "  options.headless = True\n"
     ]
    },
    {
     "name": "stdout",
     "output_type": "stream",
     "text": [
      "[\n",
      "  {\n",
      "    \"title\": \"Rahajeng rahina nyepi   \\ud83e\\udef6\",\n",
      "    \"type\": \"JPG\",\n",
      "    \"url\": \"https://instagram.fsub9-1.fna.fbcdn.net/v/t51.2885-15/336958004_3522264818004012_3866986351418766689_n.jpg?stp=dst-jpg_e35_p1080x1080&_nc_ht=instagram.fsub9-1.fna.fbcdn.net&_nc_cat=100&_nc_ohc=q6luQ5Tn8_EAX9XeZA4&edm=AP_V10EBAAAA&ccb=7-5&oh=00_AfBxweg0NO-MwEX_GlF__BgKy-zf8vrswrw9XDoojBGENA&oe=6498D0CC&_nc_sid=8721cf&dl=1\"\n",
      "  }\n",
      "]\n"
     ]
    }
   ],
   "source": [
    "r = MediaDownloader('https://www.instagram.com/p/CqFhVU5Loow/')\n",
    "print(json.dumps(r.json(), indent=2))"
   ]
  },
  {
   "cell_type": "code",
   "execution_count": 4,
   "metadata": {},
   "outputs": [
    {
     "name": "stderr",
     "output_type": "stream",
     "text": [
      "C:\\Users\\Ryas\\AppData\\Local\\Temp\\ipykernel_3424\\1844620286.py:22: DeprecationWarning: headless property is deprecated, instead use add_argument('--headless') or add_argument('--headless=new')\n",
      "  options.headless = True\n"
     ]
    },
    {
     "name": "stdout",
     "output_type": "stream",
     "text": [
      "[\n",
      "  {\n",
      "    \"title\": \"Ayoo ramaikan Kapal Api Group Indonesia Open 2023 karena masih sampe tgl 18 Juni minggu ini!! Yuk dateng dan dukung Atlet Badminton Indonesia   Serukan semangatmu bersama Kopi Kapal Api!@kapalapi_id#SerukanSemangatmu\",\n",
      "    \"type\": \"MP4\",\n",
      "    \"url\": \"https://media.sf-converter.com/get?__sig=qYRQwxw1tEeM6_fIgLFC7A&__expires=1687408846&uri=https%3A%2F%2Finstagram.fgye1-2.fna.fbcdn.net%2Fv%2Ft66.30100-16%2F10000000_3652362781712602_8731603251370293570_n.mp4%3F_nc_ht%3Dinstagram.fgye1-2.fna.fbcdn.net%26_nc_cat%3D110%26_nc_ohc%3Dt6mtPuj1dLIAX_5SWCV%26edm%3DAP_V10EBAAAA%26ccb%3D7-5%26oh%3D00_AfAJYn473CYaBKbnPYZtV7zehTVEmy517xwyXzHmM910iw%26oe%3D64954FCF%26_nc_sid%3D8721cf%26dl%3D1&filename=Ayoo%20ramaikan%20Kapal%20Api%20Group%20Indonesia%20Open%202023%20karena%20masih%20sampe%20tgl%2018%20Juni%20minggu%20ini!!%20Yuk%20dateng%20dan%20dukung%20Atlet%20Badminton%20Indonesia%20%20%20Serukan%20semangatmu%20bersama%20Kopi%20Kapal%20Api!%40kapalapi_id%23SerukanSemangatmu.mp4&ua=-&referer=https%3A%2F%2Fwww.instagram.com%2F\"\n",
      "  }\n",
      "]\n"
     ]
    }
   ],
   "source": [
    "r = MediaDownloader('https://www.instagram.com/p/Ctgg8EZhcIe/')\n",
    "print(json.dumps(r.json(), indent=2))"
   ]
  },
  {
   "cell_type": "code",
   "execution_count": 5,
   "metadata": {},
   "outputs": [
    {
     "name": "stderr",
     "output_type": "stream",
     "text": [
      "C:\\Users\\Ryas\\AppData\\Local\\Temp\\ipykernel_3424\\1844620286.py:22: DeprecationWarning: headless property is deprecated, instead use add_argument('--headless') or add_argument('--headless=new')\n",
      "  options.headless = True\n"
     ]
    },
    {
     "name": "stdout",
     "output_type": "stream",
     "text": [
      "[\n",
      "  {\n",
      "    \"title\": \"Spirit Doll tayang hari ini di bioskop! Dapet salam nih dari Dara Lazuardi, katanya see you soon!\",\n",
      "    \"type\": \"JPG\",\n",
      "    \"url\": \"https://instagram.fakx4-1.fna.fbcdn.net/v/t51.2885-15/350494926_772144671114721_2802072320226141595_n.jpg?stp=dst-jpg_e35_p1080x1080&_nc_ht=instagram.fakx4-1.fna.fbcdn.net&_nc_cat=101&_nc_ohc=53RAJsIPqSMAX80h878&edm=AP_V10EBAAAA&ccb=7-5&oh=00_AfAOcqVFe7ZdyC89kZ_eiRibLZxFwUvkTXXCzD7OS9IsVQ&oe=6495D5CD&_nc_sid=8721cf&dl=1\"\n",
      "  },\n",
      "  {\n",
      "    \"title\": \"Spirit Doll tayang hari ini di bioskop! Dapet salam nih dari Dara Lazuardi, katanya see you soon!\",\n",
      "    \"type\": \"JPG\",\n",
      "    \"url\": \"https://instagram.fakx4-1.fna.fbcdn.net/v/t51.2885-15/350499564_262568716290740_8197150143586452704_n.jpg?stp=dst-jpg_e35_p1080x1080&_nc_ht=instagram.fakx4-1.fna.fbcdn.net&_nc_cat=108&_nc_ohc=kG7aV0GQodoAX-svCRI&edm=AP_V10EBAAAA&ccb=7-5&oh=00_AfCXBBRH_EvV4Z8CauoX1iGFTOfSPvu1y7TXxWp1ovy9og&oe=64963BE3&_nc_sid=8721cf&dl=1\"\n",
      "  },\n",
      "  {\n",
      "    \"title\": \"Spirit Doll tayang hari ini di bioskop! Dapet salam nih dari Dara Lazuardi, katanya see you soon!\",\n",
      "    \"type\": \"JPG\",\n",
      "    \"url\": \"https://instagram.fakx4-1.fna.fbcdn.net/v/t51.2885-15/350262827_574951431429762_2880178547898701161_n.jpg?stp=dst-jpg_e35_p1080x1080&_nc_ht=instagram.fakx4-1.fna.fbcdn.net&_nc_cat=106&_nc_ohc=zCnmseN_kDYAX_xhJft&edm=AP_V10EBAAAA&ccb=7-5&oh=00_AfA5OFrDZCPiPIjcaoyZTwoPpT-hK5wzGbtDAkzqIOOOyg&oe=6496E8BE&_nc_sid=8721cf&dl=1\"\n",
      "  },\n",
      "  {\n",
      "    \"title\": \"Spirit Doll tayang hari ini di bioskop! Dapet salam nih dari Dara Lazuardi, katanya see you soon!\",\n",
      "    \"type\": \"JPG\",\n",
      "    \"url\": \"https://instagram.fakx4-1.fna.fbcdn.net/v/t51.2885-15/350575063_1761540570915382_5951288419017164436_n.jpg?stp=dst-jpg_e35_p1080x1080&_nc_ht=instagram.fakx4-1.fna.fbcdn.net&_nc_cat=110&_nc_ohc=8Qx8tDLuIJIAX9XcCrP&edm=AP_V10EBAAAA&ccb=7-5&oh=00_AfCrrJj9DKbhyGSf1EUHo17TUk2ZrxtGOHfqzdQA0lGx0Q&oe=64969D9B&_nc_sid=8721cf&dl=1\"\n",
      "  },\n",
      "  {\n",
      "    \"title\": \"Spirit Doll tayang hari ini di bioskop! Dapet salam nih dari Dara Lazuardi, katanya see you soon!\",\n",
      "    \"type\": \"JPG\",\n",
      "    \"url\": \"https://instagram.fakx4-1.fna.fbcdn.net/v/t51.2885-15/350538669_227535983343616_9134466717808739774_n.jpg?stp=dst-jpg_e35_p1080x1080&_nc_ht=instagram.fakx4-1.fna.fbcdn.net&_nc_cat=104&_nc_ohc=PlYHYThiLEQAX-yDAvW&edm=AP_V10EBAAAA&ccb=7-5&oh=00_AfB2xkCAIYgTDZ7-d7xVDWb3-jLGLIns3M_PWuom76ntEg&oe=649637C6&_nc_sid=8721cf&dl=1\"\n",
      "  },\n",
      "  {\n",
      "    \"title\": \"Spirit Doll tayang hari ini di bioskop! Dapet salam nih dari Dara Lazuardi, katanya see you soon!\",\n",
      "    \"type\": \"JPG\",\n",
      "    \"url\": \"https://instagram.fakx4-1.fna.fbcdn.net/v/t51.2885-15/350615779_952241536118412_7466250008721951933_n.jpg?stp=dst-jpg_e35_p1080x1080&_nc_ht=instagram.fakx4-1.fna.fbcdn.net&_nc_cat=100&_nc_ohc=Y_CHUr9M6-QAX9wQEz5&edm=AP_V10EBAAAA&ccb=7-5&oh=00_AfD9dBslb3fnN_T_PckZHq3GM1Tp3hheSSTgfEXi3jx3AA&oe=6497334D&_nc_sid=8721cf&dl=1\"\n",
      "  },\n",
      "  {\n",
      "    \"title\": \"Spirit Doll tayang hari ini di bioskop! Dapet salam nih dari Dara Lazuardi, katanya see you soon!\",\n",
      "    \"type\": \"JPG\",\n",
      "    \"url\": \"https://instagram.fakx4-1.fna.fbcdn.net/v/t51.2885-15/350621261_640097384634313_7486773466462329465_n.jpg?stp=dst-jpg_e35_p1080x1080&_nc_ht=instagram.fakx4-1.fna.fbcdn.net&_nc_cat=101&_nc_ohc=TXivNaQ508MAX99fvLo&edm=AP_V10EBAAAA&ccb=7-5&oh=00_AfBTzoOJ90hdRq2FLk_QehOSU-y7V4kcLxcpiSBzIC9CrQ&oe=6495C52D&_nc_sid=8721cf&dl=1\"\n",
      "  },\n",
      "  {\n",
      "    \"title\": \"Spirit Doll tayang hari ini di bioskop! Dapet salam nih dari Dara Lazuardi, katanya see you soon!\",\n",
      "    \"type\": \"JPG\",\n",
      "    \"url\": \"https://instagram.fakx4-1.fna.fbcdn.net/v/t51.2885-15/350855540_1004971797581761_1145876107801773334_n.jpg?stp=dst-jpg_e35_p1080x1080&_nc_ht=instagram.fakx4-1.fna.fbcdn.net&_nc_cat=101&_nc_ohc=l46bEjGbBlQAX8oxX41&edm=AP_V10EBAAAA&ccb=7-5&oh=00_AfBKq_uZPNZCNs6StPGMlf9cwnhDA99My8PjpAMTd2p7aA&oe=64966059&_nc_sid=8721cf&dl=1\"\n",
      "  },\n",
      "  {\n",
      "    \"title\": \"Spirit Doll tayang hari ini di bioskop! Dapet salam nih dari Dara Lazuardi, katanya see you soon!\",\n",
      "    \"type\": \"JPG\",\n",
      "    \"url\": \"https://instagram.fakx4-1.fna.fbcdn.net/v/t51.2885-15/350644171_2858933360908713_6825471373971616309_n.jpg?stp=dst-jpg_e35_p1080x1080&_nc_ht=instagram.fakx4-1.fna.fbcdn.net&_nc_cat=109&_nc_ohc=eq8GY7awQP0AX_kUzyO&edm=AP_V10EBAAAA&ccb=7-5&oh=00_AfDRPIN3RGJNpCSy5Liql1JS6br32z9_uU84TS36I1e5SA&oe=6495D838&_nc_sid=8721cf&dl=1\"\n",
      "  }\n",
      "]\n"
     ]
    }
   ],
   "source": [
    "r = MediaDownloader('https://www.instagram.com/p/Cs8SqNqrW3_/')\n",
    "print(json.dumps(r.json(), indent=2))"
   ]
  },
  {
   "cell_type": "code",
   "execution_count": 6,
   "metadata": {},
   "outputs": [
    {
     "name": "stderr",
     "output_type": "stream",
     "text": [
      "C:\\Users\\Ryas\\AppData\\Local\\Temp\\ipykernel_3424\\1844620286.py:22: DeprecationWarning: headless property is deprecated, instead use add_argument('--headless') or add_argument('--headless=new')\n",
      "  options.headless = True\n"
     ]
    },
    {
     "name": "stdout",
     "output_type": "stream",
     "text": [
      "[\n",
      "  {\n",
      "    \"title\": \"A documentary on the missing Titanic tourist submarine titled \\u2018Titanic Sub: Lost at Sea\\u2019 will air this Thursday on the UK\\u2019s Channel 5.\",\n",
      "    \"type\": \"JPG\",\n",
      "    \"url\": \"https://pbs.twimg.com/media/FzKO5mxaUAEUFCH.jpg\"\n",
      "  },\n",
      "  {\n",
      "    \"title\": \"A documentary on the missing Titanic tourist submarine titled \\u2018Titanic Sub: Lost at Sea\\u2019 will air this Thursday on the UK\\u2019s Channel 5.\",\n",
      "    \"type\": \"JPG\",\n",
      "    \"url\": \"https://pbs.twimg.com/media/FzKO5mzaIAA2Ryf.jpg\"\n",
      "  }\n",
      "]\n"
     ]
    }
   ],
   "source": [
    "r = MediaDownloader('https://twitter.com/PopBase/status/1671555535873937408')\n",
    "print(json.dumps(r.json(), indent=2))"
   ]
  },
  {
   "cell_type": "code",
   "execution_count": 7,
   "metadata": {},
   "outputs": [
    {
     "name": "stderr",
     "output_type": "stream",
     "text": [
      "C:\\Users\\Ryas\\AppData\\Local\\Temp\\ipykernel_3424\\1844620286.py:22: DeprecationWarning: headless property is deprecated, instead use add_argument('--headless') or add_argument('--headless=new')\n",
      "  options.headless = True\n"
     ]
    },
    {
     "name": "stdout",
     "output_type": "stream",
     "text": [
      "[\n",
      "  {\n",
      "    \"title\": \"Understand Manchester United will bid again for Mason Mount. Personal terms are 100% agreed and sealed. \\ud83d\\udea8\\ud83d\\udd34 #MUFC  Mount plans not to sign new deal at Chelsea.  Man Utd want quick resolution \\u2014 and won\\u2019t make \\u2018crazy\\u2019 bids.  Chelsea now flexible; \\u00a360/65m enough to get it done.\",\n",
      "    \"type\": \"JPG\",\n",
      "    \"url\": \"https://pbs.twimg.com/media/FzLjOVfX0AAHbuI.jpg\"\n",
      "  }\n",
      "]\n"
     ]
    }
   ],
   "source": [
    "r = MediaDownloader('https://twitter.com/FabrizioRomano/status/1671648252486119424')\n",
    "print(json.dumps(r.json(), indent=2))"
   ]
  },
  {
   "cell_type": "code",
   "execution_count": 8,
   "metadata": {},
   "outputs": [
    {
     "name": "stderr",
     "output_type": "stream",
     "text": [
      "C:\\Users\\Ryas\\AppData\\Local\\Temp\\ipykernel_3424\\1844620286.py:22: DeprecationWarning: headless property is deprecated, instead use add_argument('--headless') or add_argument('--headless=new')\n",
      "  options.headless = True\n"
     ]
    },
    {
     "name": "stdout",
     "output_type": "stream",
     "text": [
      "[\n",
      "  {\n",
      "    \"title\": \"\\u3010New VTuber Debut Announcement\\u3011  NIJISANJI EN announces the debut of 3 new VTubers: @YuQWilson @Tyrant_Vanta & @VezaliusBandage !  \\ud83d\\udd3bDebut teaser:  \\ud83d\\udd3bDebut program: \\ud83d\\udd5a June 25, 11 AM JST | 2 AM GMT | June 24, 7 PM PST For the\\u2026\",\n",
      "    \"type\": \"MP4\",\n",
      "    \"url\": \"https://video.twimg.com/ext_tw_video/1671662550487011329/pu/vid/1280x720/BGPx9PsXrayp3Eth.mp4?tag=12\"\n",
      "  }\n",
      "]\n"
     ]
    }
   ],
   "source": [
    "r = MediaDownloader('https://twitter.com/NIJISANJI_World/status/1671669368646942721')\n",
    "print(json.dumps(r.json(), indent=2))"
   ]
  },
  {
   "cell_type": "code",
   "execution_count": 9,
   "metadata": {},
   "outputs": [
    {
     "name": "stderr",
     "output_type": "stream",
     "text": [
      "C:\\Users\\Ryas\\AppData\\Local\\Temp\\ipykernel_3424\\1844620286.py:22: DeprecationWarning: headless property is deprecated, instead use add_argument('--headless') or add_argument('--headless=new')\n",
      "  options.headless = True\n"
     ]
    },
    {
     "name": "stdout",
     "output_type": "stream",
     "text": [
      "[\n",
      "  {\n",
      "    \"title\": \"Cinematic Intro Music Template FREE\",\n",
      "    \"type\": \"MP4\",\n",
      "    \"url\": \"https://rr1---sn-apcxgutj5cax2g-npbe.googlevideo.com/videoplayback?expire=1687412110&ei=LomTZLSFKZiAy_sPguiZ0AQ&ip=2605%3Aba00%3Ae117%3Afe6e%3A1807%3Af342%3A9f3f%3A27bb&id=o-AJ0sEwAtuJ67CJFrZKhwj9uvp4eL-aHlMeo02lwNOekX&itag=22&source=youtube&requiressl=yes&mh=ki&mm=31%2C29&mn=sn-apcxgutj5cax2g-npbe%2Csn-hp57ynl6&ms=au%2Crdu&mv=m&mvi=1&pl=53&initcwndbps=2063750&spc=qEK7B7DIwI2EFg6GxNhg6y4caHAEbxxwBrF5sppOHQ&vprv=1&svpuc=1&mime=video%2Fmp4&ns=Th3HRJGEBcrfl7TDQlfHO4kN&cnr=14&ratebypass=yes&dur=111.875&lmt=1673892975548832&mt=1687390165&fvip=4&fexp=24007246%2C24362687&c=WEB&txp=5311224&n=v7Y6kfxbqVi_4Q&sparams=expire%2Cei%2Cip%2Cid%2Citag%2Csource%2Crequiressl%2Cspc%2Cvprv%2Csvpuc%2Cmime%2Cns%2Ccnr%2Cratebypass%2Cdur%2Clmt&sig=AOq0QJ8wRQIhAJZ5ebJwJtdjX6Pt4KiNtqa3aW_w3GHpck2RBpae3CvPAiBdRQpUeJ4t2TR-WTvZSWswZsFoOPci6QgxNmG-zR7cwQ%3D%3D&lsparams=mh%2Cmm%2Cmn%2Cms%2Cmv%2Cmvi%2Cpl%2Cinitcwndbps&lsig=AG3C_xAwRgIhAMcQbQrb9TY9jCEXd_qbAkhP1jHnOB0Qsaj9_NToeXdpAiEAlyBd0NYhVL8N3axs-zSDJu6_Jj56uvavh2pbSpf40Ms%3D&title=Cinematic%20Intro%20Music%20Template%20FREE\"\n",
      "  }\n",
      "]\n"
     ]
    }
   ],
   "source": [
    "r = MediaDownloader('https://www.youtube.com/watch?v=U_k5xNlFofw&pp=ygULaW50cm8gbXVzaWM%3D')\n",
    "print(json.dumps(r.json(), indent=2))"
   ]
  },
  {
   "cell_type": "code",
   "execution_count": 10,
   "metadata": {},
   "outputs": [
    {
     "name": "stderr",
     "output_type": "stream",
     "text": [
      "C:\\Users\\Ryas\\AppData\\Local\\Temp\\ipykernel_3424\\1844620286.py:22: DeprecationWarning: headless property is deprecated, instead use add_argument('--headless') or add_argument('--headless=new')\n",
      "  options.headless = True\n"
     ]
    },
    {
     "name": "stdout",
     "output_type": "stream",
     "text": [
      "[\n",
      "  {\n",
      "    \"title\": \"JIAAKH mantan kok bekas bekasan~ #shorts #tonightshowpremiere\",\n",
      "    \"type\": \"MP4\",\n",
      "    \"url\": \"https://rr1---sn-4g5lznl6.googlevideo.com/videoplayback?expire=1687429296&ei=T8yTZJLaO8Gg6dsPx-2ciAs&ip=91.90.122.23&id=o-AMf0sf6f2ei42m8zS2cJtwd6YqJ5rnlqfM54nAHzy3zC&itag=22&source=youtube&requiressl=yes&mh=Kq&mm=31%2C29&mn=sn-4g5lznl6%2Csn-4g5edn6y&ms=au%2Crdu&mv=m&mvi=1&pl=24&initcwndbps=768750&bui=AZ6lgGG3mpX-Ey3YXeUkMNSOEDpVEzQTRyPoNbgApkQ5AapLBK0Sz4_o-llsDXvnvNz3cVZFEKiD7d8uazgKL6IQAz6lsaH9&spc=qEK7B73HI5zIiiK_t0n9x6tCKehT_pZCaYyLPOgV5A&vprv=1&svpuc=1&mime=video%2Fmp4&ns=-PgFx1i4GwesP6q8QVrKTSQN&cnr=14&ratebypass=yes&dur=38.452&lmt=1679296447385970&mt=1687407193&fvip=1&fexp=24007246&beids=24350017&c=WEB&txp=6318224&n=ul_bKI1ivNmbEQ&sparams=expire%2Cei%2Cip%2Cid%2Citag%2Csource%2Crequiressl%2Cbui%2Cspc%2Cvprv%2Csvpuc%2Cmime%2Cns%2Ccnr%2Cratebypass%2Cdur%2Clmt&sig=AOq0QJ8wRAIgSPZOLia7w-qBESyW09pdIXePCRvzT6RScf4kZ-AiQ9ECIEFJvkzGwmBkYvCzKZ7XNDv8okpEVV-GV1NC2jHpDjCA&lsparams=mh%2Cmm%2Cmn%2Cms%2Cmv%2Cmvi%2Cpl%2Cinitcwndbps&lsig=AG3C_xAwRAIgRgiuyXV1b0F_txgPgehh-tkRocwmn7gyNpRUw7l_AZYCIHBRBym8fW6CF1YQz6OxEhJXD5vpPDzwg8smxBE7D77l&title=JIAAKH%20mantan%20kok%20bekas%20bekasan~%20%23shorts%20%23tonightshowpremiere\"\n",
      "  }\n",
      "]\n"
     ]
    }
   ],
   "source": [
    "r = MediaDownloader('https://www.youtube.com/shorts/yKRABoMmgWM')\n",
    "print(json.dumps(r.json(), indent=2))"
   ]
  },
  {
   "cell_type": "code",
   "execution_count": 11,
   "metadata": {},
   "outputs": [
    {
     "name": "stderr",
     "output_type": "stream",
     "text": [
      "C:\\Users\\Ryas\\AppData\\Local\\Temp\\ipykernel_3424\\1844620286.py:22: DeprecationWarning: headless property is deprecated, instead use add_argument('--headless') or add_argument('--headless=new')\n",
      "  options.headless = True\n"
     ]
    },
    {
     "name": "stdout",
     "output_type": "stream",
     "text": [
      "[\n",
      "  {\n",
      "    \"title\": \"1 MALL DIBIKIN KAGET SEMUA\",\n",
      "    \"type\": \"MP4\",\n",
      "    \"url\": \"https://tt.sf-converter.com/get?payload=tlZ1Sk1ujpfRVw9AVEI-sFlbUqCIdcQfQnKCbaY0mMGlZlVfZQoZtsyUwuuFrvd3mb3p4Ipr0M1MpQ2rplk871o5N9knDS7EtiOMY7458dgt8sDgvIOl5emNFvv1BQCJJHgIeacVyHual5MFrF4Vl~UQgvkx9F1Rp1nvoowYr5Q~jkQ7vNH4YbBCyuPqByLBWdtb1i4MZkTrydiD6n~ilnty~~m7FUhNTpEqkPHfpYSvuCPKf2S3hjMm4dKvyCMZZTc-EufnBGqrCHOCfRhyvPKF4mKHrlKISykoLKuN6T77Es0S-LSzCkhEh715lkVEWTRR9Q9BEDMO9wikoy8ZW6dNZtjpFWyHm0nqm-n6I~qM0krxIfmMF1tdxsbtrS5qFxduvoJT-KvymdeG9Jmy-qJM~OwZEu6j0q9onWmkW4kKOh7OMnSe7iiTiygcsLqMX80DX5BHB6YXzxmRHil1aUVxv9WZeKo4ldBVmACgyb4pfgCSe6HFx0FW4QI0Rrj-wpZUkNCALU7v~Ez08ITd9JIYnwwE9gJua9RGjCGM3WbaPrKrm-8fw2airZ__*ca8bba6123099aba*1*1687407708\"\n",
      "  }\n",
      "]\n"
     ]
    }
   ],
   "source": [
    "r = MediaDownloader('https://www.tiktok.com/@vilmeifanbsa/video/7247169789578300677?is_from_webapp=1&sender_device=pc')\n",
    "print(json.dumps(r.json(), indent=2))"
   ]
  },
  {
   "cell_type": "code",
   "execution_count": 12,
   "metadata": {},
   "outputs": [
    {
     "name": "stderr",
     "output_type": "stream",
     "text": [
      "C:\\Users\\Ryas\\AppData\\Local\\Temp\\ipykernel_3424\\1844620286.py:22: DeprecationWarning: headless property is deprecated, instead use add_argument('--headless') or add_argument('--headless=new')\n",
      "  options.headless = True\n"
     ]
    },
    {
     "name": "stdout",
     "output_type": "stream",
     "text": [
      "[\n",
      "  {\n",
      "    \"title\": \"Duo kulbet\",\n",
      "    \"type\": \"MP4\",\n",
      "    \"url\": \"https://tt.sf-converter.com/get?payload=tlZ1SNbu4xfBVw-AAQn9NKxbXLHzkgbKfcEKWdgZg-LcmHt5V9qv4DAU~9o3dEIrpWaJVYhrj-hR2ddBlQUa1njD6yFEkRLN5UdAIMzsaUdRXtkOSdvrzpCjZFncHcv3pDvN4RqBcLdvbvZHB6lw0QXkWUFsuk0STYejxpq4qFLnmvXKUKfB61Rpkaw2QUGg~Md124QdJTJM3MU6hN-dhPbtPJ0xobl-JFOBVRfSdC81BZOK694kPtPEfReK4PyO-VOBE4DfRqyqZfBvaaEcqccswaXoCfCIOjSdQY-346W-TLfuXG19Kp3v1hMVnAjOpsM9E5IrAO-UwrToy8~Yyluz47CaEFpuZFn-2JHMr1w5thdl3Uj3h53ieQqw2IH-g26X43DtlpFMpUnPmJNWPW0LhMupibyT4e7A3b~8C1~aRjeT6Gs14o0TGb2i34hdS~m0XBUCKeOzZIasCK3CqhOkVS0FhaCcr9ftvwgf4pCevvnsUp~POAT2dckgV7lWbHhh17HkrOR88Nn233Ms6SwtEFERZY5m~-FmKD2Tvz__*34307fe273220540*1*1687407720\"\n",
      "  }\n",
      "]\n"
     ]
    }
   ],
   "source": [
    "r = MediaDownloader('https://www.tiktok.com/@valezka_07/video/7243319359983176966?is_from_webapp=1&sender_device=pc')\n",
    "print(json.dumps(r.json(), indent=2))"
   ]
  },
  {
   "cell_type": "code",
   "execution_count": 13,
   "metadata": {},
   "outputs": [
    {
     "name": "stderr",
     "output_type": "stream",
     "text": [
      "C:\\Users\\Ryas\\AppData\\Local\\Temp\\ipykernel_3424\\1844620286.py:22: DeprecationWarning: headless property is deprecated, instead use add_argument('--headless') or add_argument('--headless=new')\n",
      "  options.headless = True\n"
     ]
    },
    {
     "name": "stdout",
     "output_type": "stream",
     "text": [
      "[\n",
      "  {\n",
      "    \"title\": \"HUMOR HERP PAIDPROMOTE on Reels | \",\n",
      "    \"type\": \"MP4\",\n",
      "    \"url\": \"https://scontent-hkg4-1.xx.fbcdn.net/v/t50.33967-16/354087150_1086286175546186_1506721674466659806_n.mp4?_nc_cat=100&ccb=1-7&_nc_sid=985c63&efg=eyJybHIiOjE4MTgsInJsYSI6MTAyNCwidmVuY29kZV90YWciOiJ4cHZfaGRfcHJvZ3Jlc3NpdmUifQ%3D%3D&_nc_ohc=zXDHJs21DI0AX8q8I9Q&rl=1818&vabr=1212&_nc_ht=scontent-hkg4-1.xx&oh=00_AfB2lwSBS_F5bb8AXbenZCnnsllDjGRyr4ph5NGwzu0e5A&oe=64984E4E&dl=1\"\n",
      "  }\n",
      "]\n"
     ]
    }
   ],
   "source": [
    "r = MediaDownloader('https://www.facebook.com/reel/537369971772656')\n",
    "print(json.dumps(r.json(), indent=2))"
   ]
  },
  {
   "cell_type": "code",
   "execution_count": 20,
   "metadata": {},
   "outputs": [
    {
     "name": "stderr",
     "output_type": "stream",
     "text": [
      "C:\\Users\\Ryas\\AppData\\Local\\Temp\\ipykernel_3424\\1844620286.py:22: DeprecationWarning: headless property is deprecated, instead use add_argument('--headless') or add_argument('--headless=new')\n",
      "  options.headless = True\n"
     ]
    },
    {
     "name": "stdout",
     "output_type": "stream",
     "text": [
      "[\n",
      "  {\n",
      "    \"title\": \"Photo\",\n",
      "    \"type\": \"JPG\",\n",
      "    \"url\": \"https://scontent-arn2-1.xx.fbcdn.net/v/t39.30808-6/355474511_285494500674351_85709678798895839_n.jpg?_nc_cat=102&ccb=1-7&_nc_sid=8bfeb9&_nc_ohc=56-TKNcUlYYAX-uIX5j&_nc_ht=scontent-arn2-1.xx&oh=00_AfCZ7WePWOgaDNWx14RkS9TFBOL9pxglFuke6vjE0w9iRg&oe=6497D73B&dl=1\"\n",
      "  }\n",
      "]\n"
     ]
    }
   ],
   "source": [
    "r = MediaDownloader('https://www.facebook.com/photo/?fbid=285494414007693&set=a.186996913857444')\n",
    "print(json.dumps(r.json(), indent=2))"
   ]
  },
  {
   "cell_type": "code",
   "execution_count": 15,
   "metadata": {},
   "outputs": [
    {
     "name": "stderr",
     "output_type": "stream",
     "text": [
      "C:\\Users\\Ryas\\AppData\\Local\\Temp\\ipykernel_3424\\1844620286.py:22: DeprecationWarning: headless property is deprecated, instead use add_argument('--headless') or add_argument('--headless=new')\n",
      "  options.headless = True\n"
     ]
    },
    {
     "name": "stdout",
     "output_type": "stream",
     "text": [
      "[\n",
      "  {\n",
      "    \"title\": \"Video 723503226026650\",\n",
      "    \"type\": \"MP4\",\n",
      "    \"url\": \"https://video-mia3-1.xx.fbcdn.net/v/t39.25447-2/336650222_581867480566355_5889654181237998456_n.mp4?_nc_cat=106&vs=d3da39f8730ebadc&_nc_vs=HBksFQAYJEdPN2ZFQlJUU255VU5CRUNBSGpEbGVwRlFieFJibWRqQUFBRhUAAsgBABUAGCRHRVhGUnhOLU45anFIa01DQUNJQ1BHRmgzWkJGYnY0R0FBQUYVAgLIAQBLB4gScHJvZ3Jlc3NpdmVfcmVjaXBlATENc3Vic2FtcGxlX2ZwcwAQdm1hZl9lbmFibGVfbnN1YgAgbWVhc3VyZV9vcmlnaW5hbF9yZXNvbHV0aW9uX3NzaW0AKGNvbXB1dGVfc3NpbV9vbmx5X2F0X29yaWdpbmFsX3Jlc29sdXRpb24AHXVzZV9sYW5jem9zX2Zvcl92cW1fdXBzY2FsaW5nABFkaXNhYmxlX3Bvc3RfcHZxcwAVACUAHIwXQAAAAAAAAAAREQAAACai4MTdq%2BaBCRUCKAJDMxgLdnRzX3ByZXZpZXccF0AuiTdLxqfwGDRkYXNoX2k0bGl0ZWJhc2ljX3Bhc3N0aHJvdWdoYWxpZ25lZF9ocTFfZnJhZ18yX3ZpZGVvEgAYGHZpZGVvcy52dHMuY2FsbGJhY2sucHJvZDgSVklERU9fVklFV19SRVFVRVNUGwqIFW9lbV90YXJnZXRfZW5jb2RlX3RhZwZvZXBfaGQTb2VtX3JlcXVlc3RfdGltZV9tcwEwDG9lbV9jZmdfcnVsZQd1bm11dGVkE29lbV9yb2lfcmVhY2hfY291bnQGMTUyNjE0EW9lbV9pc19leHBlcmltZW50AAxvZW1fdmlkZW9faWQPNzIzNTAzMjI2MDI2NjUwEm9lbV92aWRlb19hc3NldF9pZA85NDY1Njc5MzAwNTk2OTQVb2VtX3ZpZGVvX3Jlc291cmNlX2lkEDI1MzcyMzIwMjk3NTEzMTMcb2VtX3NvdXJjZV92aWRlb19lbmNvZGluZ19pZA85MzIwNDY4MzExNjc1MTgOdnRzX3JlcXVlc3RfaWQAJQIcACXEARsHiAFzBDU0MjgCY2QKMjAyMy0wMS0wNgNyY2IGMTUyNjAwA2FwcBpDcmVhdG9yIFN0dWRpbyBGb3IgQW5kcm9pZAJjdBlDT05UQUlORURfUE9TVF9BVFRBQ0hNRU5UE29yaWdpbmFsX2R1cmF0aW9uX3MJMTUuMzAwNDk5AnRzFXByb2dyZXNzaXZlX2VuY29kaW5ncwA%3D&ccb=1-7&_nc_sid=edb743&efg=eyJ2ZW5jb2RlX3RhZyI6Im9lcF9oZCJ9&_nc_ohc=lpfI6GKsfb0AX_zSeIc&_nc_ht=video-mia3-1.xx&edm=AGo2L-IEAAAA&oh=00_AfAZaYdg5yVsjOvPxVyEADbNy-aM7JdrVHyoCw-kpJ7CIA&oe=6498A7BC&_nc_rid=071222435271772&dl=1\"\n",
      "  }\n",
      "]\n"
     ]
    }
   ],
   "source": [
    "r = MediaDownloader('https://www.facebook.com/100076414081234/videos/723503226026650')\n",
    "print(json.dumps(r.json(), indent=2))"
   ]
  },
  {
   "attachments": {},
   "cell_type": "markdown",
   "metadata": {},
   "source": [
    "<h1>TEST</h1>"
   ]
  },
  {
   "cell_type": "code",
   "execution_count": 16,
   "metadata": {},
   "outputs": [],
   "source": [
    "# import json\n",
    "\n",
    "# from time import sleep\n",
    "\n",
    "# from bs4 import BeautifulSoup\n",
    "# from selenium import webdriver\n",
    "# from selenium.webdriver.chrome.service import Service\n",
    "# from selenium.webdriver.common.by import By\n",
    "# from selenium.webdriver.support.ui import WebDriverWait\n",
    "# from selenium.webdriver.support import expected_conditions as EC\n",
    "# from webdriver_manager.chrome import ChromeDriverManager\n",
    "\n",
    "# chrome_path = ChromeDriverManager().install()\n",
    "# user_agent = \"Mozilla/5.0 (Windows NT 10.0; Win64; x64) AppleWebKit/537.36 (KHTML, like Gecko) Chrome/85.0.4183.83 Safari/537.36\"\n",
    "\n",
    "# options = webdriver.ChromeOptions()\n",
    "# options.headless = True\n",
    "# options.add_argument(f'user-agent={user_agent}')\n",
    "# options.add_argument(\"--window-size=1920,1080\")\n",
    "# options.add_argument('--ignore-certificate-errors')\n",
    "# options.add_argument('--allow-running-insecure-content')\n",
    "# options.add_argument(\"--disable-extensions\")\n",
    "# options.add_argument(\"--proxy-server='direct://'\")\n",
    "# options.add_argument(\"--proxy-bypass-list=*\")\n",
    "# options.add_argument(\"--start-maximized\")\n",
    "# options.add_argument('--disable-gpu')\n",
    "# options.add_argument('--disable-dev-shm-usage')\n",
    "# options.add_argument('--no-sandbox')\n",
    "\n",
    "# service = Service(executable_path=chrome_path)\n",
    "# driver = webdriver.Chrome(service=service, options=options) #, options=options"
   ]
  },
  {
   "cell_type": "code",
   "execution_count": 17,
   "metadata": {},
   "outputs": [],
   "source": [
    "# driver.get('https://savefrom.net/')\n",
    "        \n",
    "# sleep(1)\n",
    "# driver.find_element(By.NAME, 'sf_url').send_keys('https://www.instagram.com/stories/anyageraldine/3129802287383223883/')\n",
    "# driver.find_element(By.NAME, \"sf_submit\").click()\n",
    "\n",
    "# try:\n",
    "#     ele = WebDriverWait(driver, 10).until( #using explicit wait for 10 seconds\n",
    "#         EC.presence_of_element_located((By.XPATH, \"//*[@id='sf_result']/div/div[1]/div[2]/div[2]\")) #checking for the element with 'h2'as its CSS\n",
    "#     )\n",
    "    \n",
    "#     page_source = driver.page_source\n",
    "#     soup = BeautifulSoup(page_source, 'html.parser')\n",
    "\n",
    "#     metas = soup.find_all(\"div\", {\"class\": \"info-box\"})\n",
    "\n",
    "#     for meta in metas:\n",
    "#         print(meta.find('a').get(\"href\") if meta is not None else '')\n",
    "#         print(meta.find(\"div\", {\"class\": \"row title\"}).get_text() if meta is not None else '')\n",
    "#         print(meta.find('a').get_text().split(\" \")[2] if meta is not None else '')\n",
    "# except:\n",
    "#     page_source = None\n",
    "#     print(\"Timeout Exception: Page did not load within 10 seconds.\")"
   ]
  },
  {
   "cell_type": "code",
   "execution_count": 18,
   "metadata": {},
   "outputs": [],
   "source": [
    "# meta = soup.find(\"div\", {\"class\": \"row title\"})\n",
    "# title = meta.get_text() if meta is not None else ''\n",
    "\n",
    "# meta = soup.find(\"div\", {\"class\": \"row duration\"})\n",
    "# duration = meta.get_text() if meta is not None else ''\n",
    "\n",
    "# meta = soup.find_all('a', {\"data-type\" : True})\n",
    "# type = meta[0].get(\"data-type\") if meta is not None else ''\n",
    "\n",
    "# meta = soup.find_all('a', {\"download\" : True})\n",
    "# link = meta[0].get(\"href\") if meta is not None else ''\n",
    "\n",
    "# obj = {\n",
    "#     \"title\": title,\n",
    "#     \"duration\": duration,\n",
    "#     \"type\": type,\n",
    "#     \"url\": link\n",
    "# }\n",
    "\n",
    "# print(json.dumps(obj, indent=2))"
   ]
  },
  {
   "cell_type": "code",
   "execution_count": 19,
   "metadata": {},
   "outputs": [],
   "source": [
    "# my_list = []  # Create an empty list\n",
    "\n",
    "# my_dict = {\n",
    "#     \"title\": 'title',\n",
    "#     \"duration\": 'duration',\n",
    "#     \"type\": 'type',\n",
    "#     \"url\": 'link'\n",
    "# }  # Create a dictionary\n",
    "\n",
    "# my_list.append(my_dict)  # Append the dictionary to the list\n",
    "# my_list.append(my_dict)  # Append the dictionary to the list\n",
    "# my_list.append(my_dict)  # Append the dictionary to the list\n",
    "\n",
    "# print(my_list)  # Output: [{'name': 'John', 'age': 30}]\n",
    "\n",
    "# print(json.dumps(my_list, indent=2))"
   ]
  }
 ],
 "metadata": {
  "kernelspec": {
   "display_name": "Python 3",
   "language": "python",
   "name": "python3"
  },
  "language_info": {
   "codemirror_mode": {
    "name": "ipython",
    "version": 3
   },
   "file_extension": ".py",
   "mimetype": "text/x-python",
   "name": "python",
   "nbconvert_exporter": "python",
   "pygments_lexer": "ipython3",
   "version": "3.11.4"
  },
  "orig_nbformat": 4
 },
 "nbformat": 4,
 "nbformat_minor": 2
}
